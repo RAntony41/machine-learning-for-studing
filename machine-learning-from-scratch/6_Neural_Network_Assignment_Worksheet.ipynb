{
  "cells": [
    {
      "cell_type": "code",
      "execution_count": 95,
      "metadata": {
        "id": "gzWQWZkKlEoP"
      },
      "outputs": [],
      "source": [
        "# Simple neural network"
      ]
    },
    {
      "cell_type": "code",
      "execution_count": 96,
      "metadata": {
        "id": "Bz-U1yAlo54Q"
      },
      "outputs": [],
      "source": [
        "import numpy as np"
      ]
    },
    {
      "cell_type": "code",
      "execution_count": 97,
      "metadata": {},
      "outputs": [
        {
          "data": {
            "text/plain": [
              "(4, 10)"
            ]
          },
          "execution_count": 97,
          "metadata": {},
          "output_type": "execute_result"
        }
      ],
      "source": [
        "(np.random.rand(4, 10)*5).shape"
      ]
    },
    {
      "cell_type": "code",
      "execution_count": 98,
      "metadata": {
        "id": "adRlG2u9lIZs"
      },
      "outputs": [],
      "source": [
        "class NeuronNetworkLayer:\n",
        "  # Initializer / Instance Attributes\n",
        "  def __init__(self, num_input, num_output,activation, initial_gain):\n",
        "      np.random.seed(42)\n",
        "      self.inputs = []\n",
        "      self.outputs = []\n",
        "      self.weights = np.random.rand(num_output, num_input)*initial_gain\n",
        "      self.bias = np.random.rand(num_output)* initial_gain\n",
        "      self.activation = activation\n",
        "\n",
        "  def to_nump_array(self,lis):\n",
        "    array = np.array(lis)\n",
        "    if array.ndim ==1:\n",
        "      array = np.reshape(array, (1,-1))\n",
        "\n",
        "    return array\n",
        "\n",
        "  def sigmoid(self, x):\n",
        "    # caculate and return output\n",
        "    output = 1/(1+ np.e ** (-x))\n",
        "    \n",
        "    return output\n",
        "\n",
        "  def relu(self, x):\n",
        "    # caculate and return output\n",
        "    output = np.maximum(x,0)\n",
        "      \n",
        "    return output\n",
        "\n",
        "  def forward(self, input):\n",
        "    # calculate forward propagation of layer then store in and return self.outputs\n",
        "    \n",
        "    self.weights = self.to_nump_array(self.weights)\n",
        "    self.bias = self.to_nump_array(self.bias)\n",
        "    self.inputs = self.to_nump_array(input)\n",
        "    \n",
        "    x = np.matmul(self.inputs,self.weights.T)+ self.bias\n",
        "    if self.activation == 'sigmoid':\n",
        "      self.outputs = self.sigmoid(x)\n",
        "      \n",
        "    elif self.activation == 'relu':\n",
        "        self.outputs = self.relu(x)\n",
        "        \n",
        "    elif self.activation == 'linear':\n",
        "        self.outputs = x\n",
        "        \n",
        "    return self.outputs\n",
        "\n",
        "\n",
        "  def backprop(self, incoming_gradients, learning_rate):\n",
        "    # Calculate gradient of Loss with respect to weights, biases and inputs.\n",
        "    # Use the gradients to update the weights and biases.\n",
        "    # Return the input_gradients for use in the next layer.\n",
        "    \n",
        "    incoming_gradients = self.to_nump_array(incoming_gradients)\n",
        "    \n",
        "    if self.activation == 'sigmoid':\n",
        "      gradients =np.multiply((self.outputs),(1-self.outputs)) * incoming_gradients\n",
        "      \n",
        "    elif self.activation == 'relu':\n",
        "      gradients = np.where(self.outputs > 0,1,0) * incoming_gradients\n",
        "    \n",
        "    elif self.activation == 'linear':\n",
        "      gradients = np.ones_like(self.outputs)* incoming_gradients\n",
        "    \n",
        "    input_gradients = np.dot(gradients,self.weights)\n",
        "    weight_gradients = np.dot(self.inputs.T,gradients).T\n",
        "    bias_gradients = np.sum(gradients, axis=0)\n",
        "    \n",
        "    self.weights -= learning_rate*weight_gradients\n",
        "    self.bias -= learning_rate*bias_gradients\n",
        "    \n",
        "    return input_gradients"
      ]
    },
    {
      "cell_type": "code",
      "execution_count": 99,
      "metadata": {},
      "outputs": [
        {
          "data": {
            "text/plain": [
              "array([1, 1, 1])"
            ]
          },
          "execution_count": 99,
          "metadata": {},
          "output_type": "execute_result"
        }
      ],
      "source": [
        "np.ones_like([1,4,0])"
      ]
    },
    {
      "cell_type": "markdown",
      "metadata": {},
      "source": []
    },
    {
      "cell_type": "code",
      "execution_count": 100,
      "metadata": {
        "id": "CFvwhu5jEybH"
      },
      "outputs": [],
      "source": [
        "class NeuralNetwork:\n",
        "  def __init__(self):\n",
        "      self.layers = []\n",
        "      self.output = None\n",
        "\n",
        "  def add_layer(self, nn_layer):\n",
        "    # Add layer to neural network\n",
        "    self.layers.append(nn_layer)\n",
        "\n",
        "  def forward(self, input):\n",
        "    # Do forward propagation through entire neural network\n",
        "    # Calculate and return the final layer_output\n",
        "    layer_output = input\n",
        "    \n",
        "    for layer in self.layers:\n",
        "      layer_output = layer.forward(layer_output)\n",
        "        \n",
        "    return layer_output\n",
        "\n",
        "  def loss(self, output, target):\n",
        "    # Calculate and return MSE loss\n",
        "    final_output = output\n",
        "    loss = np.mean([(target - final_output)**2])\n",
        "    return loss\n",
        "\n",
        "  def loss_derivative(self, output, target):\n",
        "    # Calculate and return derivative of MSE loss\n",
        "    final_output = output\n",
        "    dLoss = final_output-target\n",
        "    return dLoss\n",
        "\n",
        "  def backward(self, dLoss, learning_rate):\n",
        "    # Perform backpropagtion though entire neural network\n",
        "    # Return the input_gradients in the last layer\n",
        "    input_gradients = dLoss\n",
        "    layers = self.layers\n",
        "    \n",
        "    for layer in layers[::-1]:\n",
        "      input_gradients = layer.backprop(input_gradients,learning_rate)\n",
        "  \n",
        "    return input_gradients\n",
        "\n",
        "  def train(self, iterations, train_x, train_y, learning_rate, print_every):\n",
        "    # Train the neural network\n",
        "    for i in range(iterations):\n",
        "      total_loss=0\n",
        "      for row_x, row_y in zip(train_x, train_y):\n",
        "        #print('row_x', row_x)\n",
        "        #print('row_y', row_y)\n",
        "\n",
        "        forward_result = self.forward(row_x)\n",
        "\n",
        "        loss = self.loss(forward_result, row_y)\n",
        "        loss_derivative = self.loss_derivative(forward_result, row_y)\n",
        "        self.backward(loss_derivative,learning_rate)\n",
        "        \n",
        "        total_loss = total_loss + loss\n",
        "\n",
        "      #total_loss = total_loss/len(train_y)\n",
        "      if i%print_every==0:\n",
        "        print('total_loss', (total_loss))\n",
        "\n",
        "    return total_loss\n"
      ]
    },
    {
      "cell_type": "markdown",
      "metadata": {
        "id": "TklZOMGORnYK"
      },
      "source": [
        "## Section 1: Neural Network Algorithm Run Through"
      ]
    },
    {
      "cell_type": "code",
      "execution_count": 101,
      "metadata": {
        "id": "vpzXpZdBRyQp"
      },
      "outputs": [],
      "source": [
        "# You have one row of input with two columns. You can think of as column A and column B.\n",
        "# Here column A=1 and column B=0\n",
        "input = np.array([1,0])"
      ]
    },
    {
      "cell_type": "code",
      "execution_count": 102,
      "metadata": {
        "id": "2x4-E5NWU8O8"
      },
      "outputs": [],
      "source": [
        "layer1 = NeuronNetworkLayer(2,5, 'sigmoid', 0.01)"
      ]
    },
    {
      "cell_type": "code",
      "execution_count": 103,
      "metadata": {
        "colab": {
          "base_uri": "https://localhost:8080/"
        },
        "id": "1dpYSHgtSZot",
        "outputId": "4ffce1ff-6875-4593-d2bb-ebc6785d13e9"
      },
      "outputs": [
        {
          "data": {
            "text/plain": [
              "array([0.00020584, 0.0096991 , 0.00832443, 0.00212339, 0.00181825])"
            ]
          },
          "execution_count": 103,
          "metadata": {},
          "output_type": "execute_result"
        }
      ],
      "source": [
        "layer1_bias = layer1.bias\n",
        "layer1_bias"
      ]
    },
    {
      "cell_type": "code",
      "execution_count": 104,
      "metadata": {
        "id": "QsTohHvWVHhE"
      },
      "outputs": [],
      "source": [
        "assert np.allclose( layer1_bias, np.array([0.00020584, 0.0096991 , 0.00832443, 0.00212339, 0.00181825]) )"
      ]
    },
    {
      "cell_type": "code",
      "execution_count": 105,
      "metadata": {
        "colab": {
          "base_uri": "https://localhost:8080/"
        },
        "id": "00mUTLjUSanT",
        "outputId": "538398f1-219e-4508-b378-0bf87395a550"
      },
      "outputs": [
        {
          "data": {
            "text/plain": [
              "array([[0.0037454 , 0.00950714],\n",
              "       [0.00731994, 0.00598658],\n",
              "       [0.00156019, 0.00155995],\n",
              "       [0.00058084, 0.00866176],\n",
              "       [0.00601115, 0.00708073]])"
            ]
          },
          "execution_count": 105,
          "metadata": {},
          "output_type": "execute_result"
        }
      ],
      "source": [
        "layer1_weights = layer1.weights\n",
        "layer1_weights"
      ]
    },
    {
      "cell_type": "code",
      "execution_count": 106,
      "metadata": {
        "id": "onlwVzMiVNwp"
      },
      "outputs": [],
      "source": [
        "assert np.allclose( layer1_weights, np.array([[0.0037454 , 0.00950714],[0.00731994, 0.00598658],[0.00156019, 0.00155995],[0.00058084, 0.00866176],[0.00601115, 0.00708073]]) )"
      ]
    },
    {
      "cell_type": "code",
      "execution_count": 107,
      "metadata": {},
      "outputs": [
        {
          "data": {
            "text/plain": [
              "array([1, 0])"
            ]
          },
          "execution_count": 107,
          "metadata": {},
          "output_type": "execute_result"
        }
      ],
      "source": [
        "input"
      ]
    },
    {
      "cell_type": "code",
      "execution_count": 108,
      "metadata": {},
      "outputs": [
        {
          "data": {
            "text/plain": [
              "array([[0.50098781, 0.50425466, 0.50247113, 0.50067606, 0.50195734]])"
            ]
          },
          "execution_count": 108,
          "metadata": {},
          "output_type": "execute_result"
        }
      ],
      "source": [
        "layer1_forward = layer1.forward(input)\n",
        "layer1_forward"
      ]
    },
    {
      "cell_type": "code",
      "execution_count": 109,
      "metadata": {
        "id": "XN2iCPZjVclq"
      },
      "outputs": [],
      "source": [
        "assert np.allclose( layer1_forward, np.array([0.50098781, 0.50425466, 0.50247113, 0.50067606, 0.50195734]) )"
      ]
    },
    {
      "cell_type": "code",
      "execution_count": 110,
      "metadata": {
        "id": "6NyUbH_rSNnp"
      },
      "outputs": [],
      "source": [
        "# let's build a neural network with 3 layers"
      ]
    },
    {
      "cell_type": "code",
      "execution_count": 111,
      "metadata": {
        "id": "qzRAz0biUaJY"
      },
      "outputs": [],
      "source": [
        "layer1 = NeuronNetworkLayer(2,5, 'relu', 0.01)\n",
        "layer2 = NeuronNetworkLayer(5,10, 'relu', 0.01)\n",
        "layer3 = NeuronNetworkLayer(10,1, 'relu', 0.01)"
      ]
    },
    {
      "cell_type": "code",
      "execution_count": 112,
      "metadata": {
        "colab": {
          "base_uri": "https://localhost:8080/"
        },
        "id": "Ocl82z15UbP-",
        "outputId": "a1600c0e-74e1-48f1-e4da-e1c8e0a78ccf"
      },
      "outputs": [
        {
          "data": {
            "text/plain": [
              "array([[0.00051439]])"
            ]
          },
          "execution_count": 112,
          "metadata": {},
          "output_type": "execute_result"
        }
      ],
      "source": [
        "output1 = layer1.forward(input)\n",
        "output2 = layer2.forward(output1)\n",
        "output3 = layer3.forward(output2)\n",
        "output3"
      ]
    },
    {
      "cell_type": "code",
      "execution_count": 113,
      "metadata": {
        "id": "yzxVRTePUbTu"
      },
      "outputs": [],
      "source": [
        "assert np.allclose(output3 , np.array([0.00051439]))"
      ]
    },
    {
      "cell_type": "code",
      "execution_count": 114,
      "metadata": {
        "id": "DGoExXKUVra0"
      },
      "outputs": [],
      "source": [
        "# Now let's find the error and error gradient\n",
        "\n",
        "def cal_derivative_and_loss(output3,target):\n",
        "  final_output = output3[0]\n",
        "  loss = (target - final_output)**2\n",
        "  dLoss = final_output-target\n",
        "  return loss, dLoss"
      ]
    },
    {
      "cell_type": "code",
      "execution_count": 115,
      "metadata": {
        "id": "W-9nRRnmWVJO"
      },
      "outputs": [],
      "source": [
        "loss, dLoss = cal_derivative_and_loss(output3,1)"
      ]
    },
    {
      "cell_type": "code",
      "execution_count": 116,
      "metadata": {
        "colab": {
          "base_uri": "https://localhost:8080/"
        },
        "id": "5_rcMa4dV41Y",
        "outputId": "650738f3-6401-47c0-f720-c5c2be3655d1"
      },
      "outputs": [
        {
          "data": {
            "text/plain": [
              "array([0.99897149])"
            ]
          },
          "execution_count": 116,
          "metadata": {},
          "output_type": "execute_result"
        }
      ],
      "source": [
        "loss"
      ]
    },
    {
      "cell_type": "code",
      "execution_count": 117,
      "metadata": {
        "colab": {
          "base_uri": "https://localhost:8080/"
        },
        "id": "a3ozLakiWeDj",
        "outputId": "37d38f68-788a-4bf2-f455-0e04ead483ab"
      },
      "outputs": [
        {
          "data": {
            "text/plain": [
              "array([-0.99948561])"
            ]
          },
          "execution_count": 117,
          "metadata": {},
          "output_type": "execute_result"
        }
      ],
      "source": [
        "dLoss"
      ]
    },
    {
      "cell_type": "code",
      "execution_count": 118,
      "metadata": {
        "id": "gcn1wIE0Wf2G"
      },
      "outputs": [],
      "source": [
        "assert np.allclose( loss, 0.9989714888495282)\n",
        "assert np.allclose( dLoss, -0.9994856121273223)"
      ]
    },
    {
      "cell_type": "code",
      "execution_count": 119,
      "metadata": {
        "id": "fnIUk1C6WsqO"
      },
      "outputs": [],
      "source": [
        "# Now let's start backprop on the layers"
      ]
    },
    {
      "cell_type": "code",
      "execution_count": 120,
      "metadata": {
        "colab": {
          "base_uri": "https://localhost:8080/"
        },
        "id": "7fh6P7g9Wpam",
        "outputId": "95fac7fd-2d8c-43d5-8575-609f600d4fa3"
      },
      "outputs": [
        {
          "data": {
            "text/plain": [
              "array([[-0.00374347, -0.00950225, -0.00731617, -0.00598351, -0.00155938,\n",
              "        -0.00155914, -0.00058054, -0.00865731, -0.00600806, -0.00707708]])"
            ]
          },
          "execution_count": 120,
          "metadata": {},
          "output_type": "execute_result"
        }
      ],
      "source": [
        "input_gradients3 = layer3.backprop([dLoss], 0.1)\n",
        "input_gradients3"
      ]
    },
    {
      "cell_type": "code",
      "execution_count": 121,
      "metadata": {
        "id": "iYvNXQv5XaOu"
      },
      "outputs": [],
      "source": [
        "assert np.allclose( input_gradients3, np.array([-0.00374347, -0.00950225, -0.00731617, -0.00598351, -0.00155938,\n",
        "       -0.00155914, -0.00058054, -0.00865731, -0.00600806, -0.00707708]))"
      ]
    },
    {
      "cell_type": "code",
      "execution_count": 122,
      "metadata": {
        "colab": {
          "base_uri": "https://localhost:8080/"
        },
        "id": "iNRQamfrXjqC",
        "outputId": "42fcf394-9bd9-424a-dff6-8d7d761115a8"
      },
      "outputs": [
        {
          "data": {
            "text/plain": [
              "array([[-0.00019084, -0.00021473, -0.00026229, -0.00029393, -0.00018403]])"
            ]
          },
          "execution_count": 122,
          "metadata": {},
          "output_type": "execute_result"
        }
      ],
      "source": [
        "input_gradients2 = layer2.backprop(input_gradients3, 0.1)\n",
        "input_gradients2"
      ]
    },
    {
      "cell_type": "code",
      "execution_count": 123,
      "metadata": {
        "id": "qa3G-oH4YNXk"
      },
      "outputs": [],
      "source": [
        "assert np.allclose( input_gradients2, np.array([-0.00019084, -0.00021473, -0.00026229, -0.00029393, -0.00018403]))"
      ]
    },
    {
      "cell_type": "code",
      "execution_count": 124,
      "metadata": {
        "colab": {
          "base_uri": "https://localhost:8080/"
        },
        "id": "N_sngzBMYXnZ",
        "outputId": "257f24fe-c3e3-4a2e-f1b4-5ab2190a5c93"
      },
      "outputs": [
        {
          "data": {
            "text/plain": [
              "array([[-3.97277662e-06, -7.35800919e-06]])"
            ]
          },
          "execution_count": 124,
          "metadata": {},
          "output_type": "execute_result"
        }
      ],
      "source": [
        "input_gradients1 = layer1.backprop(input_gradients2, 0.1)\n",
        "input_gradients1"
      ]
    },
    {
      "cell_type": "code",
      "execution_count": 125,
      "metadata": {
        "id": "TsMPk2ftYQFz"
      },
      "outputs": [],
      "source": [
        "assert np.allclose( input_gradients1, np.array([-3.98009953e-06, -7.36642273e-06] ))"
      ]
    },
    {
      "cell_type": "code",
      "execution_count": null,
      "metadata": {
        "id": "X1Eo0lj5YQJK"
      },
      "outputs": [],
      "source": []
    },
    {
      "cell_type": "markdown",
      "metadata": {
        "id": "8nMVWHbpY6qh"
      },
      "source": [
        "## Section 2: Build the Neural Network Class."
      ]
    },
    {
      "cell_type": "code",
      "execution_count": 126,
      "metadata": {
        "id": "bE09CynlYQMN"
      },
      "outputs": [],
      "source": [
        "nn_model = NeuralNetwork()\n",
        "nn_model.add_layer(NeuronNetworkLayer(2,5, 'sigmoid', 0.01) )\n",
        "nn_model.add_layer(NeuronNetworkLayer(5,10, 'sigmoid', 0.01) )\n",
        "nn_model.add_layer(NeuronNetworkLayer(10, 1, 'sigmoid', 0.01) )"
      ]
    },
    {
      "cell_type": "code",
      "execution_count": 127,
      "metadata": {
        "id": "hY3r5N-CZhbf"
      },
      "outputs": [],
      "source": [
        "input = np.array([1,0])\n",
        "target = np.array([1])"
      ]
    },
    {
      "cell_type": "code",
      "execution_count": 128,
      "metadata": {
        "colab": {
          "base_uri": "https://localhost:8080/"
        },
        "id": "GaqFmxYDYQPz",
        "outputId": "a4d3f998-5508-42d0-fe27-bdd07f290fb5"
      },
      "outputs": [
        {
          "data": {
            "text/plain": [
              "array([[0.50660746]])"
            ]
          },
          "execution_count": 128,
          "metadata": {},
          "output_type": "execute_result"
        }
      ],
      "source": [
        "forward_result = nn_model.forward(input)\n",
        "forward_result"
      ]
    },
    {
      "cell_type": "code",
      "execution_count": 129,
      "metadata": {
        "id": "yhHb4ya1ZkYK"
      },
      "outputs": [],
      "source": [
        "assert np.allclose( forward_result, np.array([0.50660746]) )"
      ]
    },
    {
      "cell_type": "code",
      "execution_count": 130,
      "metadata": {
        "colab": {
          "base_uri": "https://localhost:8080/"
        },
        "id": "qW6yzdJraAyz",
        "outputId": "e8591349-4c5b-4309-bf6d-a3ed54377d3c"
      },
      "outputs": [
        {
          "data": {
            "text/plain": [
              "0.24343619827363822"
            ]
          },
          "execution_count": 130,
          "metadata": {},
          "output_type": "execute_result"
        }
      ],
      "source": [
        "loss = nn_model.loss(forward_result, target)\n",
        "loss"
      ]
    },
    {
      "cell_type": "code",
      "execution_count": 131,
      "metadata": {
        "colab": {
          "base_uri": "https://localhost:8080/"
        },
        "id": "kPT_s4iVaaoR",
        "outputId": "df405681-b3ea-4467-843d-38784a22d397"
      },
      "outputs": [
        {
          "data": {
            "text/plain": [
              "array([[-0.49339254]])"
            ]
          },
          "execution_count": 131,
          "metadata": {},
          "output_type": "execute_result"
        }
      ],
      "source": [
        "loss_derivative = nn_model.loss_derivative(forward_result, target)\n",
        "loss_derivative"
      ]
    },
    {
      "cell_type": "code",
      "execution_count": 132,
      "metadata": {
        "id": "vxsHKqTIbJkm"
      },
      "outputs": [],
      "source": [
        "assert np.allclose(loss, np.array([0.2434362]) )\n",
        "assert np.allclose(loss_derivative, np.array([-0.49339254]) )"
      ]
    },
    {
      "cell_type": "code",
      "execution_count": 133,
      "metadata": {
        "colab": {
          "base_uri": "https://localhost:8080/"
        },
        "id": "inwXJF8zZkbd",
        "outputId": "2d206fcd-9646-4bb4-85ed-79efbd1da327"
      },
      "outputs": [
        {
          "data": {
            "text/plain": [
              "array([[-3.06340704e-08, -5.67389248e-08]])"
            ]
          },
          "execution_count": 133,
          "metadata": {},
          "output_type": "execute_result"
        }
      ],
      "source": [
        "backward_result = nn_model.backward(loss_derivative,0.1)\n",
        "backward_result"
      ]
    },
    {
      "cell_type": "code",
      "execution_count": 134,
      "metadata": {
        "id": "VYnAYc3SZkej"
      },
      "outputs": [],
      "source": [
        "assert np.allclose(backward_result, np.array([-3.06340704e-08, -5.67389248e-08]) )"
      ]
    },
    {
      "cell_type": "code",
      "execution_count": 135,
      "metadata": {
        "colab": {
          "base_uri": "https://localhost:8080/"
        },
        "id": "N5XICzV5Zkjd",
        "outputId": "e20af7b7-e719-46b6-d687-b1b03b1c12fd"
      },
      "outputs": [
        {
          "name": "stdout",
          "output_type": "stream",
          "text": [
            "total_loss 0.23278358174415567\n",
            "total_loss 0.22262202387316252\n",
            "total_loss 0.21294412619571323\n",
            "total_loss 0.20373945755988393\n",
            "total_loss 0.1949951315298813\n",
            "total_loss 0.18669632207229045\n",
            "total_loss 0.17882673659198378\n",
            "total_loss 0.1713690397866621\n",
            "total_loss 0.16430522529255934\n",
            "total_loss 0.15761693488389558\n"
          ]
        }
      ],
      "source": [
        "train_x = np.array( [[1,1]] )\n",
        "train_y = np.array([[1]] )\n",
        "\n",
        "total_loss = nn_model.train(10,train_x, train_y, 0.1, 1)"
      ]
    },
    {
      "cell_type": "code",
      "execution_count": 136,
      "metadata": {},
      "outputs": [
        {
          "data": {
            "text/plain": [
              "0.15761693488389558"
            ]
          },
          "execution_count": 136,
          "metadata": {},
          "output_type": "execute_result"
        }
      ],
      "source": [
        "total_loss"
      ]
    },
    {
      "cell_type": "code",
      "execution_count": 137,
      "metadata": {
        "id": "qgOpJoAvb5Xu"
      },
      "outputs": [],
      "source": [
        "assert total_loss < 0.2"
      ]
    },
    {
      "cell_type": "markdown",
      "metadata": {
        "id": "nxirXYlYRcTS"
      },
      "source": [
        "## Section 3: Let's Model Some Logic Gates"
      ]
    },
    {
      "cell_type": "code",
      "execution_count": 138,
      "metadata": {
        "id": "1tY_Udn7m7gC"
      },
      "outputs": [],
      "source": [
        "# Let's train an AND Gate"
      ]
    },
    {
      "cell_type": "code",
      "execution_count": 139,
      "metadata": {
        "id": "HzEfIlegFLUU"
      },
      "outputs": [],
      "source": [
        "nn_model = NeuralNetwork()\n",
        "nn_model.add_layer(NeuronNetworkLayer(2,5, 'sigmoid', 0.01) )\n",
        "nn_model.add_layer(NeuronNetworkLayer(5,10, 'sigmoid', 0.01) )\n",
        "nn_model.add_layer(NeuronNetworkLayer(10, 1, 'sigmoid', 0.01) )"
      ]
    },
    {
      "cell_type": "code",
      "execution_count": 140,
      "metadata": {
        "colab": {
          "base_uri": "https://localhost:8080/"
        },
        "id": "77c3peEnLwPp",
        "outputId": "e1178a90-4a7d-4cd6-f527-75f926a56ce1"
      },
      "outputs": [
        {
          "name": "stdout",
          "output_type": "stream",
          "text": [
            "total_loss 1.0060940031829388\n",
            "total_loss 0.7800871908607746\n",
            "total_loss 0.6578889971126596\n",
            "total_loss 0.031246444457946713\n"
          ]
        }
      ],
      "source": [
        "train_x = np.array([ [1,1], [1,0], [0,1], [0,0]])\n",
        "train_y = np.array([[1], [0], [0], [0] ])\n",
        "\n",
        "total_loss = nn_model.train(2000,train_x, train_y, 0.5, 500)"
      ]
    },
    {
      "cell_type": "code",
      "execution_count": 141,
      "metadata": {},
      "outputs": [
        {
          "data": {
            "text/plain": [
              "0.006743946289042202"
            ]
          },
          "execution_count": 141,
          "metadata": {},
          "output_type": "execute_result"
        }
      ],
      "source": [
        "total_loss"
      ]
    },
    {
      "cell_type": "code",
      "execution_count": 142,
      "metadata": {
        "id": "69RXxGPhdg2H"
      },
      "outputs": [],
      "source": [
        "assert total_loss < 0.01"
      ]
    },
    {
      "cell_type": "code",
      "execution_count": 143,
      "metadata": {
        "colab": {
          "base_uri": "https://localhost:8080/"
        },
        "id": "quhHyBRofq1x",
        "outputId": "bf72d3a4-7073-4c11-e560-0201260e5828"
      },
      "outputs": [
        {
          "data": {
            "text/plain": [
              "array([[0.93399522]])"
            ]
          },
          "execution_count": 143,
          "metadata": {},
          "output_type": "execute_result"
        }
      ],
      "source": [
        "# for AND gate an input of [1,1] should give output of 1\n",
        "nn_model.forward(np.array([1,1]))"
      ]
    },
    {
      "cell_type": "code",
      "execution_count": 144,
      "metadata": {
        "id": "sBl-q5H7d0gU"
      },
      "outputs": [],
      "source": [
        "assert nn_model.forward(np.array([1,1])) > 0.9"
      ]
    },
    {
      "cell_type": "code",
      "execution_count": 145,
      "metadata": {
        "colab": {
          "base_uri": "https://localhost:8080/"
        },
        "id": "MW84VkOjfF_U",
        "outputId": "2369bcba-d5b9-4eb6-d52a-5e57996ccb1d"
      },
      "outputs": [
        {
          "data": {
            "text/plain": [
              "array([[0.03395968]])"
            ]
          },
          "execution_count": 145,
          "metadata": {},
          "output_type": "execute_result"
        }
      ],
      "source": [
        "# for AND gate an input of [1,0] should give output of 0\n",
        "nn_model.forward(np.array([1,0]))"
      ]
    },
    {
      "cell_type": "code",
      "execution_count": 146,
      "metadata": {
        "id": "BTyQ0gKcd4yF"
      },
      "outputs": [],
      "source": [
        "assert nn_model.forward(np.array([1,0])) < 0.1"
      ]
    },
    {
      "cell_type": "code",
      "execution_count": 147,
      "metadata": {
        "colab": {
          "base_uri": "https://localhost:8080/"
        },
        "id": "BDGWxBS7fkNP",
        "outputId": "2f92175f-43fb-4dd5-815b-e6d5b87d05b7"
      },
      "outputs": [
        {
          "data": {
            "text/plain": [
              "array([[0.03426685]])"
            ]
          },
          "execution_count": 147,
          "metadata": {},
          "output_type": "execute_result"
        }
      ],
      "source": [
        "# for AND gate an input of [0,1] should give output of 0\n",
        "nn_model.forward(np.array([0,1]))"
      ]
    },
    {
      "cell_type": "code",
      "execution_count": 148,
      "metadata": {
        "id": "iReHbmaTd78f"
      },
      "outputs": [],
      "source": [
        "assert nn_model.forward(np.array([0,1])) < 0.1"
      ]
    },
    {
      "cell_type": "code",
      "execution_count": 149,
      "metadata": {
        "colab": {
          "base_uri": "https://localhost:8080/"
        },
        "id": "J4QFh9ilfvxh",
        "outputId": "d13fafc2-fc3c-45dc-9e4f-9d7223abee36"
      },
      "outputs": [
        {
          "data": {
            "text/plain": [
              "array([[0.00019878]])"
            ]
          },
          "execution_count": 149,
          "metadata": {},
          "output_type": "execute_result"
        }
      ],
      "source": [
        "nn_model.forward(np.array([0,0]))"
      ]
    },
    {
      "cell_type": "code",
      "execution_count": 150,
      "metadata": {
        "id": "76yg0Czgd_U1"
      },
      "outputs": [],
      "source": [
        "assert nn_model.forward(np.array([0,0])) < 0.1"
      ]
    },
    {
      "cell_type": "code",
      "execution_count": 151,
      "metadata": {
        "id": "ORnN48oGnDyt"
      },
      "outputs": [],
      "source": [
        "# Let's train an OR Gate and let's make it harder for the model by asking it to predict 0.69"
      ]
    },
    {
      "cell_type": "code",
      "execution_count": 152,
      "metadata": {
        "id": "s1QTpDnRnHkL"
      },
      "outputs": [],
      "source": [
        "nn_model = NeuralNetwork()\n",
        "nn_model.add_layer(NeuronNetworkLayer(2,5, 'relu', 0.01) )\n",
        "nn_model.add_layer(NeuronNetworkLayer(5,10, 'relu', 0.01) )\n",
        "nn_model.add_layer(NeuronNetworkLayer(10, 2, 'linear', 0.01) )"
      ]
    },
    {
      "cell_type": "code",
      "execution_count": 153,
      "metadata": {
        "colab": {
          "base_uri": "https://localhost:8080/"
        },
        "id": "fyoxPV7knHnT",
        "outputId": "5ed290fe-5763-4b4c-b8cc-ca86fefcd929"
      },
      "outputs": [
        {
          "name": "stdout",
          "output_type": "stream",
          "text": [
            "total_loss 1.965005841430646\n",
            "total_loss 0.4144686014599397\n",
            "total_loss 0.1761088765118653\n",
            "total_loss 0.17517429222565067\n",
            "total_loss 0.17495781930725401\n",
            "total_loss 0.176083755562214\n",
            "total_loss 0.1751625850613106\n",
            "total_loss 0.17540103105052476\n"
          ]
        }
      ],
      "source": [
        "# nn_model.test(np.array([1,0]))\n",
        "\n",
        "train_x = np.array([ [1,1], [1,0], [0,1], [0,0]])\n",
        "train_y = np.array([[1,0.69], [1,0.69], [1,0.69], [0,0.69] ])\n",
        "\n",
        "total_loss = nn_model.train(4000,train_x, train_y, 0.1, 500)"
      ]
    },
    {
      "cell_type": "code",
      "execution_count": 154,
      "metadata": {
        "id": "uS-GpPt-ecfn"
      },
      "outputs": [],
      "source": [
        "assert total_loss < 0.3"
      ]
    },
    {
      "cell_type": "code",
      "execution_count": 155,
      "metadata": {
        "colab": {
          "base_uri": "https://localhost:8080/"
        },
        "id": "ZeVTBmP_nHqK",
        "outputId": "9570c613-5c18-4674-9847-65cade6c319f"
      },
      "outputs": [
        {
          "data": {
            "text/plain": [
              "array([[1.27422775, 0.69000741]])"
            ]
          },
          "execution_count": 155,
          "metadata": {},
          "output_type": "execute_result"
        }
      ],
      "source": [
        "nn_model.forward(np.array([1,1]))"
      ]
    },
    {
      "cell_type": "code",
      "execution_count": 156,
      "metadata": {
        "colab": {
          "base_uri": "https://localhost:8080/"
        },
        "id": "iRsuejuonHtS",
        "outputId": "9a9faf3f-cdaa-41fa-da92-12436b7352a2"
      },
      "outputs": [
        {
          "data": {
            "text/plain": [
              "array([[0.80259664, 0.68999473]])"
            ]
          },
          "execution_count": 156,
          "metadata": {},
          "output_type": "execute_result"
        }
      ],
      "source": [
        "nn_model.forward(np.array([1,0]))"
      ]
    },
    {
      "cell_type": "code",
      "execution_count": 157,
      "metadata": {
        "colab": {
          "base_uri": "https://localhost:8080/"
        },
        "id": "xy12kfaTnRmb",
        "outputId": "33d1da7d-a87c-43a9-f33f-d9f1e0f1db01"
      },
      "outputs": [
        {
          "data": {
            "text/plain": [
              "array([[0.74142541, 0.68999268]])"
            ]
          },
          "execution_count": 157,
          "metadata": {},
          "output_type": "execute_result"
        }
      ],
      "source": [
        "nn_model.forward(np.array([0,1]))"
      ]
    },
    {
      "cell_type": "code",
      "execution_count": 158,
      "metadata": {
        "colab": {
          "base_uri": "https://localhost:8080/"
        },
        "id": "b8YcpTzOnRpz",
        "outputId": "35697e23-5e17-4c9b-e0c8-29739eaf05d3"
      },
      "outputs": [
        {
          "data": {
            "text/plain": [
              "array([[0.28216447, 0.69001701]])"
            ]
          },
          "execution_count": 158,
          "metadata": {},
          "output_type": "execute_result"
        }
      ],
      "source": [
        "nn_model.forward(np.array([0,0]))"
      ]
    },
    {
      "cell_type": "code",
      "execution_count": 159,
      "metadata": {},
      "outputs": [
        {
          "data": {
            "text/plain": [
              "array([1.27422775, 0.69000741])"
            ]
          },
          "execution_count": 159,
          "metadata": {},
          "output_type": "execute_result"
        }
      ],
      "source": [
        "nn_model.forward(np.array([1,1]))[0]"
      ]
    },
    {
      "cell_type": "code",
      "execution_count": 160,
      "metadata": {
        "id": "PsdTqawJnRs9"
      },
      "outputs": [],
      "source": [
        "assert nn_model.forward(np.array([1,1]))[0][0] > 0.7\n",
        "assert nn_model.forward(np.array([1,0]))[0][0] > 0.7\n",
        "assert nn_model.forward(np.array([0,1]))[0][0] > 0.7\n",
        "assert nn_model.forward(np.array([0,0]))[0][0] < 0.3\n",
        "\n",
        "assert np.allclose( nn_model.forward(np.array([1,1]))[0][1], 0.69, rtol=1e-03, atol=1e-03, equal_nan=False)\n",
        "assert np.allclose( nn_model.forward(np.array([1,0]))[0][1], 0.69, rtol=1e-03, atol=1e-03, equal_nan=False)\n",
        "assert np.allclose( nn_model.forward(np.array([0,1]))[0][1], 0.69, rtol=1e-03, atol=1e-03, equal_nan=False)\n",
        "assert np.allclose( nn_model.forward(np.array([0,0]))[0][1], 0.69, rtol=1e-03, atol=1e-03, equal_nan=False)"
      ]
    },
    {
      "cell_type": "code",
      "execution_count": null,
      "metadata": {
        "id": "35tqW9gFflwM"
      },
      "outputs": [],
      "source": []
    },
    {
      "cell_type": "markdown",
      "metadata": {
        "id": "cuNDIdCZRSzp"
      },
      "source": [
        "## Section 4: Linear Regression Prediction with Some Test Lines"
      ]
    },
    {
      "cell_type": "code",
      "execution_count": 161,
      "metadata": {
        "id": "zYBVL-IcnHxi"
      },
      "outputs": [],
      "source": [
        "import matplotlib.pyplot as plt\n",
        "\n",
        "def plotXY(x1,y1,x2,y2):\n",
        "  # Create the plot\n",
        "  plt.figure(figsize=(10, 6))  # Optional: Specifies the figure size\n",
        "\n",
        "  # Plot the first line\n",
        "  plt.plot(x1, y1, label='Line 1', color='blue', linestyle='-', marker='o')\n",
        "\n",
        "  # Plot the second line\n",
        "  plt.plot(x2, y2, label='Line 2', color='red', linestyle='--', marker='x')\n",
        "\n",
        "  # Adding title\n",
        "  plt.title('X-Y Plot with Two Lines')\n",
        "\n",
        "  # Adding X and Y axis labels\n",
        "  plt.xlabel('X axis label')\n",
        "  plt.ylabel('Y axis label')\n",
        "\n",
        "  # Adding a legend\n",
        "  plt.legend()\n",
        "\n",
        "  # Show plot\n",
        "  plt.show()"
      ]
    },
    {
      "cell_type": "code",
      "execution_count": 162,
      "metadata": {
        "id": "rIulLzyym4KM"
      },
      "outputs": [],
      "source": [
        "# Let's train a straight line."
      ]
    },
    {
      "cell_type": "code",
      "execution_count": 163,
      "metadata": {
        "id": "yDIsGh0xiNsE"
      },
      "outputs": [],
      "source": [
        "# TO DO: Build the neural network\n",
        "\n",
        "nn_model = NeuralNetwork()\n",
        "nn_model.add_layer(NeuronNetworkLayer(1,10, 'sigmoid', 0.01) )\n",
        "nn_model.add_layer(NeuronNetworkLayer(10,5, 'sigmoid', 0.01) )\n",
        "nn_model.add_layer(NeuronNetworkLayer(5, 1, 'linear', 0.01) )"
      ]
    },
    {
      "cell_type": "code",
      "execution_count": 164,
      "metadata": {
        "colab": {
          "base_uri": "https://localhost:8080/"
        },
        "id": "x3JyIltfiNu_",
        "outputId": "ef9b6d50-48f1-44c3-82d4-bcefe3639989"
      },
      "outputs": [
        {
          "name": "stdout",
          "output_type": "stream",
          "text": [
            "total_loss 3044.121742223243\n",
            "total_loss 16.25291544730793\n",
            "total_loss 8.530835280058042\n",
            "total_loss 4.520155707900932\n",
            "total_loss 4.605726480127381\n",
            "total_loss 4.4302962933734005\n",
            "total_loss 1.9412612102899036\n",
            "total_loss 1.3688777202572977\n"
          ]
        }
      ],
      "source": [
        "train_x = np.linspace(-10, 10, 20)\n",
        "train_y = train_x*2+3\n",
        "\n",
        "train_x = np.array([[item] for item in train_x])\n",
        "train_y = np.array([[item] for item in train_y])\n",
        "\n",
        "# TO DO: Train the model.\n",
        "total_loss = nn_model.train(4000,train_x,train_y,0.01,500)"
      ]
    },
    {
      "cell_type": "code",
      "execution_count": 165,
      "metadata": {},
      "outputs": [
        {
          "data": {
            "text/plain": [
              "1.1520841230579342"
            ]
          },
          "execution_count": 165,
          "metadata": {},
          "output_type": "execute_result"
        }
      ],
      "source": [
        "total_loss"
      ]
    },
    {
      "cell_type": "code",
      "execution_count": 166,
      "metadata": {
        "id": "j_A6lzBVhQ-R"
      },
      "outputs": [],
      "source": [
        "assert total_loss < 10"
      ]
    },
    {
      "cell_type": "code",
      "execution_count": 167,
      "metadata": {
        "colab": {
          "base_uri": "https://localhost:8080/",
          "height": 564
        },
        "id": "cZ3dERRzlrGB",
        "outputId": "62e55814-ee1a-4e06-9d6c-4c9d7d829b41"
      },
      "outputs": [
        {
          "data": {
            "image/png": "[encoded data removed]",
            "text/plain": [
              "<Figure size 1000x600 with 1 Axes>"
            ]
          },
          "metadata": {},
          "output_type": "display_data"
        }
      ],
      "source": [
        "forward_result = []\n",
        "for x in train_x:\n",
        "  forward = nn_model.forward(x)\n",
        "  forward_result.append(np.squeeze(forward))\n",
        "forward_result\n",
        "\n",
        "plotXY(train_x, train_y, train_x, forward_result )"
      ]
    },
    {
      "cell_type": "code",
      "execution_count": 168,
      "metadata": {
        "id": "7SaN5Cd8pG3U"
      },
      "outputs": [],
      "source": [
        "# Let's train a second order polynomial"
      ]
    },
    {
      "cell_type": "code",
      "execution_count": 169,
      "metadata": {
        "id": "tWUJHV0ypNA3"
      },
      "outputs": [],
      "source": [
        "# TO DO: Build the neural network\n",
        "\n",
        "nn_model = NeuralNetwork()\n",
        "nn_model.add_layer(NeuronNetworkLayer(1,30, 'sigmoid', 1) )\n",
        "nn_model.add_layer(NeuronNetworkLayer(30,30, 'sigmoid', 1) )\n",
        "nn_model.add_layer(NeuronNetworkLayer(30, 1, 'linear', 1) )"
      ]
    },
    {
      "cell_type": "code",
      "execution_count": 170,
      "metadata": {
        "colab": {
          "base_uri": "https://localhost:8080/"
        },
        "id": "o4ZgE85ApNER",
        "outputId": "3c8d8f3b-8443-4103-8e1c-ad34d906d301"
      },
      "outputs": [
        {
          "name": "stdout",
          "output_type": "stream",
          "text": [
            "total_loss 310698.50385796407\n"
          ]
        },
        {
          "name": "stdout",
          "output_type": "stream",
          "text": [
            "total_loss 92146.05771054294\n",
            "total_loss 530.397206265912\n",
            "total_loss 112.23901108656926\n"
          ]
        }
      ],
      "source": [
        "train_x = np.linspace(-10, 10, 40)\n",
        "train_y = train_x*train_x*2+3*train_x+3\n",
        "\n",
        "train_x = np.array([[item] for item in train_x])\n",
        "train_y = np.array([[item] for item in train_y])\n",
        "\n",
        "# TO DO: Train the model.\n",
        "total_loss = nn_model.train(40000,train_x,train_y,0.00001,10000)"
      ]
    },
    {
      "cell_type": "code",
      "execution_count": 171,
      "metadata": {
        "id": "qvXKxnx2kE9t"
      },
      "outputs": [],
      "source": [
        "assert total_loss < 400"
      ]
    },
    {
      "cell_type": "code",
      "execution_count": 172,
      "metadata": {
        "id": "EJJM8yTTpNH4"
      },
      "outputs": [
        {
          "data": {
            "image/png": "[encoded data removed]",
            "text/plain": [
              "<Figure size 1000x600 with 1 Axes>"
            ]
          },
          "metadata": {},
          "output_type": "display_data"
        }
      ],
      "source": [
        "train_x_prediction = []\n",
        "for x in train_x:\n",
        "  forward_result = nn_model.forward(x)\n",
        "  train_x_prediction.append(np.squeeze(forward_result))\n",
        "\n",
        "train_x_prediction\n",
        "\n",
        "plotXY(train_x, train_y, train_x, train_x_prediction )"
      ]
    },
    {
      "cell_type": "code",
      "execution_count": null,
      "metadata": {
        "id": "OGlglsa8RJq-"
      },
      "outputs": [],
      "source": []
    },
    {
      "cell_type": "markdown",
      "metadata": {
        "id": "3EcwdzsGRKOH"
      },
      "source": [
        "## Section 5: Test with Iris Dataset"
      ]
    },
    {
      "cell_type": "code",
      "execution_count": 173,
      "metadata": {
        "id": "L9Hn1edLpNLR"
      },
      "outputs": [],
      "source": [
        "# Now let's do the iris datset"
      ]
    },
    {
      "cell_type": "code",
      "execution_count": 174,
      "metadata": {
        "id": "PP_mlQUj8KDx"
      },
      "outputs": [],
      "source": [
        "from sklearn.datasets import load_iris\n",
        "import pandas as pd\n",
        "\n",
        "# Load the Iris dataset\n",
        "iris = load_iris()\n",
        "\n",
        "# Convert to DataFrame for easier manipulation\n",
        "iris_df = pd.DataFrame(iris.data, columns=iris.feature_names)\n",
        "iris_df['species'] = iris.target\n",
        "species_mapping = dict(zip(range(3), iris.target_names))\n",
        "iris_df['species'] = iris_df['species'].map(species_mapping)"
      ]
    },
    {
      "cell_type": "code",
      "execution_count": 175,
      "metadata": {
        "id": "PtHrMB7S7R7r"
      },
      "outputs": [],
      "source": [
        "# One-hot encode the 'species' column\n",
        "species_encoded = pd.get_dummies(iris_df['species'], prefix='species')\n",
        "\n",
        "iris_df_encoded = pd.concat([iris_df.drop('species', axis=1), species_encoded], axis=1)\n",
        "\n",
        "train_y = species_encoded.to_numpy()"
      ]
    },
    {
      "cell_type": "code",
      "execution_count": 176,
      "metadata": {
        "id": "lR44-ega93-P"
      },
      "outputs": [
        {
          "data": {
            "text/html": [
              "<div>\n",
              "<style scoped>\n",
              "    .dataframe tbody tr th:only-of-type {\n",
              "        vertical-align: middle;\n",
              "    }\n",
              "\n",
              "    .dataframe tbody tr th {\n",
              "        vertical-align: top;\n",
              "    }\n",
              "\n",
              "    .dataframe thead th {\n",
              "        text-align: right;\n",
              "    }\n",
              "</style>\n",
              "<table border=\"1\" class=\"dataframe\">\n",
              "  <thead>\n",
              "    <tr style=\"text-align: right;\">\n",
              "      <th></th>\n",
              "      <th>sepal length (cm)</th>\n",
              "      <th>sepal width (cm)</th>\n",
              "      <th>petal length (cm)</th>\n",
              "      <th>petal width (cm)</th>\n",
              "      <th>species_setosa</th>\n",
              "      <th>species_versicolor</th>\n",
              "      <th>species_virginica</th>\n",
              "    </tr>\n",
              "  </thead>\n",
              "  <tbody>\n",
              "    <tr>\n",
              "      <th>0</th>\n",
              "      <td>5.1</td>\n",
              "      <td>3.5</td>\n",
              "      <td>1.4</td>\n",
              "      <td>0.2</td>\n",
              "      <td>True</td>\n",
              "      <td>False</td>\n",
              "      <td>False</td>\n",
              "    </tr>\n",
              "    <tr>\n",
              "      <th>1</th>\n",
              "      <td>4.9</td>\n",
              "      <td>3.0</td>\n",
              "      <td>1.4</td>\n",
              "      <td>0.2</td>\n",
              "      <td>True</td>\n",
              "      <td>False</td>\n",
              "      <td>False</td>\n",
              "    </tr>\n",
              "    <tr>\n",
              "      <th>2</th>\n",
              "      <td>4.7</td>\n",
              "      <td>3.2</td>\n",
              "      <td>1.3</td>\n",
              "      <td>0.2</td>\n",
              "      <td>True</td>\n",
              "      <td>False</td>\n",
              "      <td>False</td>\n",
              "    </tr>\n",
              "    <tr>\n",
              "      <th>3</th>\n",
              "      <td>4.6</td>\n",
              "      <td>3.1</td>\n",
              "      <td>1.5</td>\n",
              "      <td>0.2</td>\n",
              "      <td>True</td>\n",
              "      <td>False</td>\n",
              "      <td>False</td>\n",
              "    </tr>\n",
              "    <tr>\n",
              "      <th>4</th>\n",
              "      <td>5.0</td>\n",
              "      <td>3.6</td>\n",
              "      <td>1.4</td>\n",
              "      <td>0.2</td>\n",
              "      <td>True</td>\n",
              "      <td>False</td>\n",
              "      <td>False</td>\n",
              "    </tr>\n",
              "  </tbody>\n",
              "</table>\n",
              "</div>"
            ],
            "text/plain": [
              "   sepal length (cm)  sepal width (cm)  petal length (cm)  petal width (cm)  \\\n",
              "0                5.1               3.5                1.4               0.2   \n",
              "1                4.9               3.0                1.4               0.2   \n",
              "2                4.7               3.2                1.3               0.2   \n",
              "3                4.6               3.1                1.5               0.2   \n",
              "4                5.0               3.6                1.4               0.2   \n",
              "\n",
              "   species_setosa  species_versicolor  species_virginica  \n",
              "0            True               False              False  \n",
              "1            True               False              False  \n",
              "2            True               False              False  \n",
              "3            True               False              False  \n",
              "4            True               False              False  "
            ]
          },
          "execution_count": 176,
          "metadata": {},
          "output_type": "execute_result"
        }
      ],
      "source": [
        "iris_df_encoded.head()"
      ]
    },
    {
      "cell_type": "code",
      "execution_count": 177,
      "metadata": {
        "id": "iJ2somoe7R_F"
      },
      "outputs": [],
      "source": [
        "df_x = iris_df_encoded.drop(['species_setosa', 'species_versicolor', 'species_virginica'], axis=1).to_numpy()\n",
        "df_y = iris_df_encoded[['species_setosa', 'species_versicolor', 'species_virginica']].to_numpy()"
      ]
    },
    {
      "cell_type": "code",
      "execution_count": 178,
      "metadata": {
        "id": "9KSus2v6OvxJ"
      },
      "outputs": [],
      "source": [
        "from sklearn.model_selection import train_test_split\n",
        "\n",
        "train_x, test_x, train_y, test_y = train_test_split(df_x, df_y, test_size=0.3, random_state=42)"
      ]
    },
    {
      "cell_type": "code",
      "execution_count": 179,
      "metadata": {
        "id": "i4XYrY5y7SCb"
      },
      "outputs": [
        {
          "data": {
            "text/plain": [
              "(105, 4)"
            ]
          },
          "execution_count": 179,
          "metadata": {},
          "output_type": "execute_result"
        }
      ],
      "source": [
        "train_x.shape"
      ]
    },
    {
      "cell_type": "code",
      "execution_count": 180,
      "metadata": {
        "id": "XK1QhsYy7SGF"
      },
      "outputs": [
        {
          "data": {
            "text/plain": [
              "(105, 3)"
            ]
          },
          "execution_count": 180,
          "metadata": {},
          "output_type": "execute_result"
        }
      ],
      "source": [
        "train_y.shape"
      ]
    },
    {
      "cell_type": "code",
      "execution_count": 181,
      "metadata": {
        "id": "67ijej2b-juA"
      },
      "outputs": [],
      "source": [
        "# TO DO: Create your neural network by completing the code in this cell\n",
        "\n",
        "nn_model = NeuralNetwork()\n",
        "nn_model.add_layer(NeuronNetworkLayer(4,10, 'relu', 0.01) )\n",
        "nn_model.add_layer(NeuronNetworkLayer(10,5, 'relu', 0.01) )\n",
        "nn_model.add_layer(NeuronNetworkLayer(5, 3, 'sigmoid', 0.01) )"
      ]
    },
    {
      "cell_type": "code",
      "execution_count": 182,
      "metadata": {
        "id": "TnfetwO17SJT"
      },
      "outputs": [
        {
          "name": "stdout",
          "output_type": "stream",
          "text": [
            "total_loss 26.106498126416625\n"
          ]
        },
        {
          "name": "stdout",
          "output_type": "stream",
          "text": [
            "total_loss 2.703762568697546\n",
            "total_loss 1.634411686412911\n",
            "total_loss 1.7668341081706918\n",
            "total_loss 1.6639946968428259\n",
            "total_loss 1.838405828320939\n",
            "total_loss 1.4195868590202418\n"
          ]
        }
      ],
      "source": [
        "# TO DO: Train the model.\n",
        "total_loss = nn_model.train(3500,train_x,train_y,0.01,500)"
      ]
    },
    {
      "cell_type": "code",
      "execution_count": 183,
      "metadata": {
        "id": "0xHtbhJqmqRP"
      },
      "outputs": [],
      "source": [
        "assert total_loss < 5"
      ]
    },
    {
      "cell_type": "code",
      "execution_count": 184,
      "metadata": {
        "id": "8hwN3FWmpNOq"
      },
      "outputs": [],
      "source": [
        "def prediction_accuracy(nn_model, train_x, train_y):\n",
        "\n",
        "  correct=0\n",
        "  for i in range(len(train_x)):\n",
        "    prediction = nn_model.forward(train_x[i])\n",
        "    prediction_index = np.argmax(prediction)\n",
        "    y_label = np.argmax(train_y[i])\n",
        "    if y_label == prediction_index:\n",
        "      correct=correct+1\n",
        "\n",
        "  return correct/len(train_y)"
      ]
    },
    {
      "cell_type": "code",
      "execution_count": 185,
      "metadata": {
        "id": "3r-MttpWP15S"
      },
      "outputs": [
        {
          "data": {
            "text/plain": [
              "0.9619047619047619"
            ]
          },
          "execution_count": 185,
          "metadata": {},
          "output_type": "execute_result"
        }
      ],
      "source": [
        "train_accuracy = prediction_accuracy(nn_model, train_x, train_y)\n",
        "train_accuracy"
      ]
    },
    {
      "cell_type": "code",
      "execution_count": 186,
      "metadata": {
        "id": "sL6jmpIfQ5aJ"
      },
      "outputs": [
        {
          "data": {
            "text/plain": [
              "0.9555555555555556"
            ]
          },
          "execution_count": 186,
          "metadata": {},
          "output_type": "execute_result"
        }
      ],
      "source": [
        "test_accuracy = prediction_accuracy(nn_model, test_x, test_y)\n",
        "test_accuracy"
      ]
    },
    {
      "cell_type": "code",
      "execution_count": 187,
      "metadata": {
        "id": "p2MsH9uekRdk"
      },
      "outputs": [],
      "source": [
        "assert train_accuracy > 0.9"
      ]
    },
    {
      "cell_type": "code",
      "execution_count": 188,
      "metadata": {
        "id": "iolzIDQ2RBdT"
      },
      "outputs": [],
      "source": [
        "assert test_accuracy > 0.9"
      ]
    }
  ],
  "metadata": {
    "colab": {
      "collapsed_sections": [
        "TklZOMGORnYK",
        "8nMVWHbpY6qh",
        "nxirXYlYRcTS"
      ],
      "provenance": []
    },
    "kernelspec": {
      "display_name": "Python 3",
      "name": "python3"
    },
    "language_info": {
      "codemirror_mode": {
        "name": "ipython",
        "version": 3
      },
      "file_extension": ".py",
      "mimetype": "text/x-python",
      "name": "python",
      "nbconvert_exporter": "python",
      "pygments_lexer": "ipython3",
      "version": "3.11.5"
    }
  },
  "nbformat": 4,
  "nbformat_minor": 0
}
