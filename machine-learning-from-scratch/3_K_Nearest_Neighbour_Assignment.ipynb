{
  "cells": [
    {
      "cell_type": "code",
      "execution_count": 63,
      "metadata": {
        "id": "1rXGDKzSf_CN"
      },
      "outputs": [],
      "source": [
        "import numpy as np\n",
        "import pandas as pd\n",
        "import matplotlib.pyplot as plt\n",
        "import random\n",
        "import math"
      ]
    },
    {
      "cell_type": "code",
      "execution_count": 64,
      "metadata": {
        "colab": {
          "base_uri": "https://localhost:8080/"
        },
        "id": "hGRXAbFPXViy",
        "outputId": "c399f5f5-0b10-4a06-a355-7c5a567d9e7f"
      },
      "outputs": [
        {
          "name": "stderr",
          "output_type": "stream",
          "text": [
            "/var/folders/9q/gllpszsd7tx204064mvtm3540000gn/T/ipykernel_32701/2849386185.py:14: RuntimeWarning: covariance is not symmetric positive-semidefinite.\n",
            "  x_3 = np.random.multivariate_normal([3, -2], [[1, 0],[-.5, 1]], num_samples)\n"
          ]
        }
      ],
      "source": [
        "np.random.seed(42)\n",
        "\n",
        "num_samples = 40\n",
        "\n",
        "# Class 0 data\n",
        "x_1 = np.random.multivariate_normal([2, 2], [[1, .75],[.75, 1]], num_samples)\n",
        "y_1 = np.zeros(num_samples)\n",
        "\n",
        "# Class 1 data\n",
        "x_2 = np.random.multivariate_normal([-1, -1], [[1, .75],[.75, 1]], num_samples)\n",
        "y_2 = np.ones(num_samples)\n",
        "\n",
        "# Class 2 data\n",
        "x_3 = np.random.multivariate_normal([3, -2], [[1, 0],[-.5, 1]], num_samples)\n",
        "y_3 = np.ones(num_samples)+1\n",
        "\n",
        "# Combining the data\n",
        "X = np.vstack((x_1, x_2, x_3))\n",
        "y = np.hstack((y_1, y_2, y_3))"
      ]
    },
    {
      "cell_type": "code",
      "execution_count": 65,
      "metadata": {
        "colab": {
          "base_uri": "https://localhost:8080/",
          "height": 333
        },
        "id": "BolkfDjIcmn_",
        "outputId": "9fa83051-58cd-4e8f-b587-8e77bd1fc266"
      },
      "outputs": [
        {
          "data": {
            "image/png": "[encoded data removed]",
            "text/plain": [
              "<Figure size 500x300 with 1 Axes>"
            ]
          },
          "metadata": {},
          "output_type": "display_data"
        }
      ],
      "source": [
        "plt.figure(figsize=(5,3))\n",
        "plt.scatter(x_1[:,0], x_1[:,1], color='red', label='Class 0')\n",
        "plt.scatter(x_2[:,0], x_2[:,1], color='blue', label='Class 1')\n",
        "plt.scatter(x_3[:,0], x_3[:,1], color='green', label='Class 2')\n",
        "\n",
        "plt.xlabel('Feature 1')\n",
        "plt.ylabel('Feature 2')\n",
        "plt.title('Plot of data set to see the two classes.')\n",
        "plt.legend()\n",
        "plt.show()"
      ]
    },
    {
      "cell_type": "code",
      "execution_count": 66,
      "metadata": {
        "id": "G3z0gBeteWdy"
      },
      "outputs": [],
      "source": [
        "y_reshaped = y.reshape(-1, 1)\n",
        "\n",
        "# Concatenate X and y column-wise\n",
        "concatenated = np.concatenate((X, y_reshaped), axis=1)"
      ]
    },
    {
      "cell_type": "code",
      "execution_count": 67,
      "metadata": {
        "id": "VBiwGGw9d0EF"
      },
      "outputs": [],
      "source": [
        "df = pd.DataFrame(concatenated, columns=['Feature1', 'Feature2', 'Target'])"
      ]
    },
    {
      "cell_type": "code",
      "execution_count": 68,
      "metadata": {
        "id": "YHQajbXien1B"
      },
      "outputs": [],
      "source": [
        "from sklearn.model_selection import train_test_split\n",
        "\n",
        "# Features and target\n",
        "y = df['Target']  # Series with the target variable\n",
        "X = df[['Feature1', 'Feature2' ]]\n",
        "\n",
        "# Split the data into training and testing sets\n",
        "df_X_train, df_X_test, df_y_train, df_y_test = train_test_split(X, y, test_size=0.2, random_state=42)"
      ]
    },
    {
      "cell_type": "code",
      "execution_count": 69,
      "metadata": {
        "id": "gqOS39yBqrBn"
      },
      "outputs": [],
      "source": [
        "X_test = df_X_test.to_numpy()\n",
        "y_test = df_y_test.to_numpy()\n",
        "X_train = df_X_train.to_numpy()\n",
        "y_train = df_y_train.to_numpy()"
      ]
    },
    {
      "cell_type": "code",
      "execution_count": 70,
      "metadata": {
        "colab": {
          "base_uri": "https://localhost:8080/"
        },
        "id": "jYwBmi8s29rL",
        "outputId": "27dbe388-8207-4d6e-f561-dec696c91eda"
      },
      "outputs": [
        {
          "data": {
            "text/plain": [
              "{0.0, 1.0, 2.0}"
            ]
          },
          "execution_count": 70,
          "metadata": {},
          "output_type": "execute_result"
        }
      ],
      "source": [
        "unique_classes = set(y.to_numpy())\n",
        "unique_classes"
      ]
    },
    {
      "cell_type": "code",
      "execution_count": 71,
      "metadata": {
        "id": "D2bg-Znp1pJp"
      },
      "outputs": [],
      "source": [
        "y_train_reshaped = y_train.reshape(-1, 1)\n",
        "\n",
        "# Concatenate X and y column-wise\n",
        "concatenated_train = np.concatenate((X_train, y_train_reshaped), axis=1)"
      ]
    },
    {
      "cell_type": "markdown",
      "metadata": {
        "id": "ot7oPQRQJ5vX"
      },
      "source": [
        "## Section 1: KNN with Euclidean Distance"
      ]
    },
    {
      "cell_type": "code",
      "execution_count": 72,
      "metadata": {
        "id": "6UlCkOv5rxSS"
      },
      "outputs": [],
      "source": [
        "i = 0\n",
        "feature1 = X_test[i][0]\n",
        "feature2 = X_test[i][1]"
      ]
    },
    {
      "cell_type": "code",
      "execution_count": 73,
      "metadata": {
        "id": "wDzpEWyS1YgP"
      },
      "outputs": [],
      "source": [
        "def calculateDistanceEuclidean(concatenated_train, feature1, feature2):\n",
        "  # write this function and return distance list\n",
        "  d = np.sqrt((feature1 - concatenated_train[:,0])**2 + (feature2 - concatenated_train[:,1])**2)\n",
        "\n",
        "  distance = np.stack([d, concatenated_train[:,2]], axis=1)\n",
        "\n",
        "  return distance"
      ]
    },
    {
      "cell_type": "code",
      "execution_count": 74,
      "metadata": {
        "id": "AVSrWdE2soxQ"
      },
      "outputs": [],
      "source": [
        "distance_list = calculateDistanceEuclidean(concatenated_train, feature1, feature2)"
      ]
    },
    {
      "cell_type": "code",
      "execution_count": 75,
      "metadata": {
        "id": "jo5IKzxO3qiG"
      },
      "outputs": [],
      "source": [
        "def sortDistanceList(distance_list):\n",
        "  # write this function and return sorted distance list\n",
        "  distance_sorted = distance_list[np.lexsort([distance_list[:,0]])]\n",
        "  return distance_sorted "
      ]
    },
    {
      "cell_type": "code",
      "execution_count": 76,
      "metadata": {
        "id": "KsGuERxRtIN8"
      },
      "outputs": [],
      "source": [
        "distance_sorted = sortDistanceList(distance_list)"
      ]
    },
    {
      "cell_type": "code",
      "execution_count": 77,
      "metadata": {
        "id": "jiV50LHN4hum"
      },
      "outputs": [],
      "source": [
        "k=5\n",
        "distance_sorted_k = distance_sorted[:k]\n",
        "expected_array = [[0.24342591120588192, 1.0], [0.45871917392826284, 1.0], [0.47826677647289073, 1.0], [0.4904952649726137, 1.0], [0.5356271266554974, 1.0]]\n",
        "assert np.allclose(distance_sorted_k, expected_array)"
      ]
    },
    {
      "cell_type": "code",
      "execution_count": 78,
      "metadata": {
        "id": "ivImX3Yl487q"
      },
      "outputs": [],
      "source": [
        "def findKNearestNeighbours( distance_sorted, k ):\n",
        "  # write this function and return nearest_neighbour_group\n",
        "  nearest_neighbour_group_list = distance_sorted[0:k]\n",
        "  nearest_neighbour_group = np.round(np.average(nearest_neighbour_group_list[:,1]))\n",
        "  return nearest_neighbour_group"
      ]
    },
    {
      "cell_type": "code",
      "execution_count": 79,
      "metadata": {},
      "outputs": [
        {
          "data": {
            "text/plain": [
              "1.0"
            ]
          },
          "execution_count": 79,
          "metadata": {},
          "output_type": "execute_result"
        }
      ],
      "source": [
        "findKNearestNeighbours(distance_sorted, 5)"
      ]
    },
    {
      "cell_type": "code",
      "execution_count": 80,
      "metadata": {
        "id": "7zR3dSdS8O67"
      },
      "outputs": [],
      "source": [
        "nearest_neighbour_class = findKNearestNeighbours(distance_sorted, 5)\n",
        "assert nearest_neighbour_class == 1"
      ]
    },
    {
      "cell_type": "code",
      "execution_count": 81,
      "metadata": {
        "id": "lDXlrLf6puNq"
      },
      "outputs": [],
      "source": [
        "def runPredictionEuclidean(dataset, concatenated_train):\n",
        "  # write this function and return a numpy array of predictions\n",
        "  prediction = []\n",
        "  for data in dataset:\n",
        "    feature1 = data[0]\n",
        "    feature2 = data[1]\n",
        "    distance_list = calculateDistanceEuclidean(concatenated_train, feature1, feature2)\n",
        "    distance_sorted = sortDistanceList(distance_list)\n",
        "    prediction.append(findKNearestNeighbours(distance_sorted, 5))\n",
        "  \n",
        "  return np.array(prediction)"
      ]
    },
    {
      "cell_type": "code",
      "execution_count": 82,
      "metadata": {},
      "outputs": [
        {
          "data": {
            "text/plain": [
              "array([1., 1., 0., 0., 0., 1., 1., 1., 1., 2., 0., 1., 0., 0., 2., 2., 2.,\n",
              "       0., 2., 0., 1., 1., 0., 1.])"
            ]
          },
          "execution_count": 82,
          "metadata": {},
          "output_type": "execute_result"
        }
      ],
      "source": [
        "runPredictionEuclidean(X_test, concatenated_train)"
      ]
    },
    {
      "cell_type": "code",
      "execution_count": 83,
      "metadata": {
        "id": "g1W060bhvH8m"
      },
      "outputs": [],
      "source": [
        "# make prediction on the test dataset.\n",
        "\n",
        "predictions = runPredictionEuclidean(X_test, concatenated_train)\n",
        "expected_array = np.array([1, 1, 0, 0, 0, 1, 1, 1, 1, 2, 0, 1, 0, 0, 2, 2, 2, 0, 2, 0, 1, 1, 0, 1])\n",
        "assert np.allclose(predictions, expected_array)"
      ]
    },
    {
      "cell_type": "code",
      "execution_count": 84,
      "metadata": {
        "id": "hysi_-iKv-WA"
      },
      "outputs": [],
      "source": [
        "def accuracy(predictions, target):\n",
        "  # write this function and return the accuracy of the predictions\n",
        "  acc = []\n",
        "  for i in range(len(predictions)):\n",
        "    if predictions[i] == target[i]:\n",
        "      acc.append(1)\n",
        "    else:\n",
        "      acc.append(0)\n",
        "  return sum(acc)/len(acc)"
      ]
    },
    {
      "cell_type": "code",
      "execution_count": 85,
      "metadata": {
        "id": "bIEfhjoS0v4o"
      },
      "outputs": [],
      "source": [
        "acc = accuracy(predictions, y_test)\n",
        "assert acc == 0.875"
      ]
    },
    {
      "cell_type": "markdown",
      "metadata": {
        "id": "REg2ilcGLQuk"
      },
      "source": [
        "## Section 2: KNN with Any Number of Features and Number of Categories"
      ]
    },
    {
      "cell_type": "code",
      "execution_count": 86,
      "metadata": {
        "id": "KgyUKF4CMGXX"
      },
      "outputs": [],
      "source": [
        "def calculateDistanceEuclidean_nFeatures(concatenated_train, feature_array ):\n",
        "  # write this function and return sorted distance list for features with any dimensions\n",
        "  _,col = concatenated_train.shape\n",
        "  first_col = []\n",
        "  \n",
        "  for i in concatenated_train:\n",
        "    temp = []\n",
        "    for j in range(len(feature_array)):\n",
        "      temp.append((feature_array[j] - i[j])**2)\n",
        "      \n",
        "    first_col.append( np.sqrt(np.sum(temp)) )\n",
        "    \n",
        "  first_col = np.array(first_col)\n",
        "  distance = np.stack([first_col, concatenated_train[:,col - 1]], axis=1)\n",
        "  return distance"
      ]
    },
    {
      "cell_type": "code",
      "execution_count": 87,
      "metadata": {
        "id": "nv9ThniCQ8RA"
      },
      "outputs": [],
      "source": [
        "distance_list = calculateDistanceEuclidean_nFeatures(concatenated_train, X_test[0] )"
      ]
    },
    {
      "cell_type": "code",
      "execution_count": 91,
      "metadata": {},
      "outputs": [
        {
          "data": {
            "text/plain": [
              "array([[0.62731986, 1.        ],\n",
              "       [4.26672965, 0.        ],\n",
              "       [4.38917901, 0.        ],\n",
              "       [4.99257222, 2.        ],\n",
              "       [0.24342591, 1.        ],\n",
              "       [3.9565014 , 2.        ],\n",
              "       [3.29038406, 0.        ],\n",
              "       [3.1690559 , 1.        ],\n",
              "       [5.53219905, 0.        ],\n",
              "       [3.69824221, 2.        ],\n",
              "       [1.24890172, 1.        ],\n",
              "       [1.49377119, 2.        ],\n",
              "       [4.19031939, 0.        ],\n",
              "       [3.20047964, 1.        ],\n",
              "       [6.32754987, 2.        ],\n",
              "       [4.83976794, 0.        ],\n",
              "       [3.64534561, 0.        ],\n",
              "       [3.14534867, 0.        ],\n",
              "       [1.97944154, 1.        ],\n",
              "       [4.67015575, 0.        ],\n",
              "       [5.05483195, 2.        ],\n",
              "       [4.94914149, 2.        ],\n",
              "       [4.18361307, 0.        ],\n",
              "       [3.23477547, 2.        ],\n",
              "       [0.53562713, 1.        ],\n",
              "       [3.64183944, 0.        ],\n",
              "       [0.80029921, 1.        ],\n",
              "       [3.1063027 , 0.        ],\n",
              "       [3.64532286, 0.        ],\n",
              "       [0.70476809, 1.        ],\n",
              "       [3.11770669, 0.        ],\n",
              "       [3.86457572, 2.        ],\n",
              "       [5.84846294, 0.        ],\n",
              "       [1.91399486, 1.        ],\n",
              "       [1.05319448, 1.        ],\n",
              "       [0.73101724, 1.        ],\n",
              "       [3.98996129, 2.        ],\n",
              "       [2.18795528, 0.        ],\n",
              "       [5.30121994, 0.        ],\n",
              "       [4.75796014, 2.        ],\n",
              "       [3.81541483, 2.        ],\n",
              "       [4.88269756, 0.        ],\n",
              "       [5.06492228, 0.        ],\n",
              "       [4.22435133, 2.        ],\n",
              "       [1.45827961, 0.        ],\n",
              "       [2.60239774, 0.        ],\n",
              "       [3.45066555, 0.        ],\n",
              "       [2.13380879, 2.        ],\n",
              "       [3.4426287 , 0.        ],\n",
              "       [1.24964228, 1.        ],\n",
              "       [3.19668162, 2.        ],\n",
              "       [4.91131603, 2.        ],\n",
              "       [1.08217522, 1.        ],\n",
              "       [1.26118349, 1.        ],\n",
              "       [5.30109602, 2.        ],\n",
              "       [0.47826678, 1.        ],\n",
              "       [2.63543241, 2.        ],\n",
              "       [2.7299747 , 1.        ],\n",
              "       [3.90339239, 2.        ],\n",
              "       [0.87806714, 1.        ],\n",
              "       [3.51427523, 2.        ],\n",
              "       [2.70549436, 1.        ],\n",
              "       [1.06588593, 1.        ],\n",
              "       [1.099791  , 1.        ],\n",
              "       [3.29826579, 2.        ],\n",
              "       [0.45871917, 1.        ],\n",
              "       [1.03554242, 1.        ],\n",
              "       [2.50271014, 0.        ],\n",
              "       [4.86177046, 2.        ],\n",
              "       [2.215835  , 1.        ],\n",
              "       [0.81419644, 1.        ],\n",
              "       [3.82550132, 2.        ],\n",
              "       [7.00912982, 0.        ],\n",
              "       [3.11220851, 0.        ],\n",
              "       [4.89787441, 2.        ],\n",
              "       [2.73207803, 0.        ],\n",
              "       [0.49049526, 1.        ],\n",
              "       [3.71719121, 0.        ],\n",
              "       [3.86967645, 0.        ],\n",
              "       [4.16009849, 0.        ],\n",
              "       [3.6350737 , 2.        ],\n",
              "       [3.87196172, 2.        ],\n",
              "       [3.9935596 , 2.        ],\n",
              "       [4.86808919, 2.        ],\n",
              "       [1.39546717, 1.        ],\n",
              "       [4.21362716, 2.        ],\n",
              "       [3.13450706, 2.        ],\n",
              "       [4.98500752, 2.        ],\n",
              "       [2.57062482, 0.        ],\n",
              "       [1.88649081, 1.        ],\n",
              "       [1.4351314 , 1.        ],\n",
              "       [3.23775321, 2.        ],\n",
              "       [4.35504205, 0.        ],\n",
              "       [4.47729687, 2.        ],\n",
              "       [0.70277317, 1.        ],\n",
              "       [5.49770896, 2.        ]])"
            ]
          },
          "execution_count": 91,
          "metadata": {},
          "output_type": "execute_result"
        }
      ],
      "source": [
        "distance_list"
      ]
    },
    {
      "cell_type": "code",
      "execution_count": 27,
      "metadata": {
        "id": "KTJQw7B3ULdy"
      },
      "outputs": [],
      "source": [
        "distance_sorted = sortDistanceList(distance_list)"
      ]
    },
    {
      "cell_type": "code",
      "execution_count": 28,
      "metadata": {
        "id": "IsYqOm9dUNmD"
      },
      "outputs": [],
      "source": [
        "k=5\n",
        "distance_sorted_k = distance_sorted[:k]\n",
        "expected_array = [[0.24342591120588192, 1.0], [0.45871917392826284, 1.0], [0.47826677647289073, 1.0], [0.4904952649726137, 1.0], [0.5356271266554974, 1.0]]\n",
        "assert np.allclose(distance_sorted_k, expected_array)"
      ]
    },
    {
      "cell_type": "code",
      "execution_count": 29,
      "metadata": {},
      "outputs": [
        {
          "data": {
            "text/plain": [
              "{0.0, 1.0, 2.0}"
            ]
          },
          "execution_count": 29,
          "metadata": {},
          "output_type": "execute_result"
        }
      ],
      "source": [
        "unique_classes"
      ]
    },
    {
      "cell_type": "code",
      "execution_count": 30,
      "metadata": {
        "id": "hDmBbUk2LWGR"
      },
      "outputs": [],
      "source": [
        "def findKNearestNeighboursMultiClass( distance_sorted, k, unique_classes ):\n",
        "  # write this function and return the nearest neighbour group for features with any dimensions\n",
        "  nearest_list = distance_sorted[0:k]\n",
        "  k_list = list(nearest_list[:,-1])\n",
        "  k_dict = {i:k_list.count(i) for i in unique_classes}\n",
        "  reversed_dict = {value: key for key, value in k_dict.items()}\n",
        "  \n",
        "  Mvalue = max(k_dict.values())\n",
        "  nearest_neighbour_group = reversed_dict[Mvalue]\n",
        "  \n",
        "  return nearest_neighbour_group"
      ]
    },
    {
      "cell_type": "code",
      "execution_count": 31,
      "metadata": {},
      "outputs": [
        {
          "data": {
            "text/plain": [
              "1.0"
            ]
          },
          "execution_count": 31,
          "metadata": {},
          "output_type": "execute_result"
        }
      ],
      "source": [
        "findKNearestNeighboursMultiClass( distance_sorted, k, unique_classes )"
      ]
    },
    {
      "cell_type": "code",
      "execution_count": 32,
      "metadata": {
        "id": "S_PNiXtXP0yU"
      },
      "outputs": [],
      "source": [
        "nearest_neighbour_group = findKNearestNeighboursMultiClass( distance_sorted, k, unique_classes )\n",
        "assert nearest_neighbour_group == 1"
      ]
    },
    {
      "cell_type": "code",
      "execution_count": 33,
      "metadata": {
        "id": "LEH4tU_lMLBF"
      },
      "outputs": [],
      "source": [
        "def runPredictionEuclideanMultiClass(dataset, concatenated_train, unique_classes,k):\n",
        "  # write this function and return the predictions for features with any dimensions\n",
        "  prediction = []\n",
        "  for data in dataset:\n",
        "    distance_list = calculateDistanceEuclidean_nFeatures(concatenated_train, data )\n",
        "    distance_sorted = sortDistanceList(distance_list)\n",
        "    prediction.append(findKNearestNeighboursMultiClass( distance_sorted, k, unique_classes ))\n",
        "    \n",
        "  return np.array(prediction)"
      ]
    },
    {
      "cell_type": "code",
      "execution_count": 34,
      "metadata": {},
      "outputs": [
        {
          "data": {
            "text/plain": [
              "array([1., 1., 0., 0., 0., 1., 1., 1., 1., 2., 0., 1., 0., 0., 2., 2., 2.,\n",
              "       0., 2., 0., 1., 1., 0., 1.])"
            ]
          },
          "execution_count": 34,
          "metadata": {},
          "output_type": "execute_result"
        }
      ],
      "source": [
        "runPredictionEuclideanMultiClass(X_test, concatenated_train, unique_classes,5)"
      ]
    },
    {
      "cell_type": "code",
      "execution_count": 35,
      "metadata": {
        "id": "TSAQcK8yOEYq"
      },
      "outputs": [],
      "source": [
        "predictions = runPredictionEuclideanMultiClass(X_test, concatenated_train, unique_classes,5)\n",
        "expected_array = np.array([1, 1, 0, 0, 0, 1, 1, 1, 1, 2, 0, 1, 0, 0, 2, 2, 2, 0, 2, 0, 1, 1, 0, 1])\n",
        "assert np.allclose(predictions, expected_array)"
      ]
    },
    {
      "cell_type": "markdown",
      "metadata": {
        "id": "RIAyfjjjQQsG"
      },
      "source": [
        "## Section 3: KNN with Real Dataset (Iris)"
      ]
    },
    {
      "cell_type": "code",
      "execution_count": 36,
      "metadata": {
        "id": "8vY2yxzJnLqI"
      },
      "outputs": [],
      "source": [
        "# Download Iris Dataset from: https://www.kaggle.com/datasets/uciml/iris"
      ]
    },
    {
      "cell_type": "code",
      "execution_count": 37,
      "metadata": {
        "id": "dxFwnqP9QTn4"
      },
      "outputs": [],
      "source": [
        "df_iris = pd.read_csv('archive (1)/Iris.csv')"
      ]
    },
    {
      "cell_type": "code",
      "execution_count": 38,
      "metadata": {
        "colab": {
          "base_uri": "https://localhost:8080/",
          "height": 424
        },
        "id": "QGLV9UezUkjw",
        "outputId": "bb28b102-14eb-4f27-9823-d8455533c520"
      },
      "outputs": [
        {
          "data": {
            "text/html": [
              "<div>\n",
              "<style scoped>\n",
              "    .dataframe tbody tr th:only-of-type {\n",
              "        vertical-align: middle;\n",
              "    }\n",
              "\n",
              "    .dataframe tbody tr th {\n",
              "        vertical-align: top;\n",
              "    }\n",
              "\n",
              "    .dataframe thead th {\n",
              "        text-align: right;\n",
              "    }\n",
              "</style>\n",
              "<table border=\"1\" class=\"dataframe\">\n",
              "  <thead>\n",
              "    <tr style=\"text-align: right;\">\n",
              "      <th></th>\n",
              "      <th>Id</th>\n",
              "      <th>SepalLengthCm</th>\n",
              "      <th>SepalWidthCm</th>\n",
              "      <th>PetalLengthCm</th>\n",
              "      <th>PetalWidthCm</th>\n",
              "      <th>Species</th>\n",
              "    </tr>\n",
              "  </thead>\n",
              "  <tbody>\n",
              "    <tr>\n",
              "      <th>0</th>\n",
              "      <td>1</td>\n",
              "      <td>5.1</td>\n",
              "      <td>3.5</td>\n",
              "      <td>1.4</td>\n",
              "      <td>0.2</td>\n",
              "      <td>Iris-setosa</td>\n",
              "    </tr>\n",
              "    <tr>\n",
              "      <th>1</th>\n",
              "      <td>2</td>\n",
              "      <td>4.9</td>\n",
              "      <td>3.0</td>\n",
              "      <td>1.4</td>\n",
              "      <td>0.2</td>\n",
              "      <td>Iris-setosa</td>\n",
              "    </tr>\n",
              "    <tr>\n",
              "      <th>2</th>\n",
              "      <td>3</td>\n",
              "      <td>4.7</td>\n",
              "      <td>3.2</td>\n",
              "      <td>1.3</td>\n",
              "      <td>0.2</td>\n",
              "      <td>Iris-setosa</td>\n",
              "    </tr>\n",
              "    <tr>\n",
              "      <th>3</th>\n",
              "      <td>4</td>\n",
              "      <td>4.6</td>\n",
              "      <td>3.1</td>\n",
              "      <td>1.5</td>\n",
              "      <td>0.2</td>\n",
              "      <td>Iris-setosa</td>\n",
              "    </tr>\n",
              "    <tr>\n",
              "      <th>4</th>\n",
              "      <td>5</td>\n",
              "      <td>5.0</td>\n",
              "      <td>3.6</td>\n",
              "      <td>1.4</td>\n",
              "      <td>0.2</td>\n",
              "      <td>Iris-setosa</td>\n",
              "    </tr>\n",
              "    <tr>\n",
              "      <th>...</th>\n",
              "      <td>...</td>\n",
              "      <td>...</td>\n",
              "      <td>...</td>\n",
              "      <td>...</td>\n",
              "      <td>...</td>\n",
              "      <td>...</td>\n",
              "    </tr>\n",
              "    <tr>\n",
              "      <th>145</th>\n",
              "      <td>146</td>\n",
              "      <td>6.7</td>\n",
              "      <td>3.0</td>\n",
              "      <td>5.2</td>\n",
              "      <td>2.3</td>\n",
              "      <td>Iris-virginica</td>\n",
              "    </tr>\n",
              "    <tr>\n",
              "      <th>146</th>\n",
              "      <td>147</td>\n",
              "      <td>6.3</td>\n",
              "      <td>2.5</td>\n",
              "      <td>5.0</td>\n",
              "      <td>1.9</td>\n",
              "      <td>Iris-virginica</td>\n",
              "    </tr>\n",
              "    <tr>\n",
              "      <th>147</th>\n",
              "      <td>148</td>\n",
              "      <td>6.5</td>\n",
              "      <td>3.0</td>\n",
              "      <td>5.2</td>\n",
              "      <td>2.0</td>\n",
              "      <td>Iris-virginica</td>\n",
              "    </tr>\n",
              "    <tr>\n",
              "      <th>148</th>\n",
              "      <td>149</td>\n",
              "      <td>6.2</td>\n",
              "      <td>3.4</td>\n",
              "      <td>5.4</td>\n",
              "      <td>2.3</td>\n",
              "      <td>Iris-virginica</td>\n",
              "    </tr>\n",
              "    <tr>\n",
              "      <th>149</th>\n",
              "      <td>150</td>\n",
              "      <td>5.9</td>\n",
              "      <td>3.0</td>\n",
              "      <td>5.1</td>\n",
              "      <td>1.8</td>\n",
              "      <td>Iris-virginica</td>\n",
              "    </tr>\n",
              "  </tbody>\n",
              "</table>\n",
              "<p>150 rows × 6 columns</p>\n",
              "</div>"
            ],
            "text/plain": [
              "      Id  SepalLengthCm  SepalWidthCm  PetalLengthCm  PetalWidthCm  \\\n",
              "0      1            5.1           3.5            1.4           0.2   \n",
              "1      2            4.9           3.0            1.4           0.2   \n",
              "2      3            4.7           3.2            1.3           0.2   \n",
              "3      4            4.6           3.1            1.5           0.2   \n",
              "4      5            5.0           3.6            1.4           0.2   \n",
              "..   ...            ...           ...            ...           ...   \n",
              "145  146            6.7           3.0            5.2           2.3   \n",
              "146  147            6.3           2.5            5.0           1.9   \n",
              "147  148            6.5           3.0            5.2           2.0   \n",
              "148  149            6.2           3.4            5.4           2.3   \n",
              "149  150            5.9           3.0            5.1           1.8   \n",
              "\n",
              "            Species  \n",
              "0       Iris-setosa  \n",
              "1       Iris-setosa  \n",
              "2       Iris-setosa  \n",
              "3       Iris-setosa  \n",
              "4       Iris-setosa  \n",
              "..              ...  \n",
              "145  Iris-virginica  \n",
              "146  Iris-virginica  \n",
              "147  Iris-virginica  \n",
              "148  Iris-virginica  \n",
              "149  Iris-virginica  \n",
              "\n",
              "[150 rows x 6 columns]"
            ]
          },
          "execution_count": 38,
          "metadata": {},
          "output_type": "execute_result"
        }
      ],
      "source": [
        "df_iris"
      ]
    },
    {
      "cell_type": "code",
      "execution_count": 39,
      "metadata": {
        "id": "YvWcgDI_gyu3"
      },
      "outputs": [],
      "source": [
        "# Features and target\n",
        "y = df_iris['Species']  # Series with the target variable\n",
        "X = df_iris[['SepalLengthCm', 'SepalWidthCm', 'PetalLengthCm', 'PetalWidthCm' ]]\n",
        "\n",
        "# Split the data into training and testing sets\n",
        "df_X_train, df_X_test, df_y_train, df_y_test = train_test_split(X, y, test_size=0.2, random_state=42)"
      ]
    },
    {
      "cell_type": "code",
      "execution_count": 40,
      "metadata": {
        "colab": {
          "base_uri": "https://localhost:8080/"
        },
        "id": "P7LDcfWFqPOk",
        "outputId": "2468c245-3845-43d4-91d2-01552d5fe2ab"
      },
      "outputs": [
        {
          "data": {
            "text/plain": [
              "array(['Iris-versicolor', 'Iris-setosa', 'Iris-virginica',\n",
              "       'Iris-versicolor', 'Iris-versicolor', 'Iris-setosa',\n",
              "       'Iris-versicolor', 'Iris-virginica', 'Iris-versicolor',\n",
              "       'Iris-versicolor', 'Iris-virginica', 'Iris-setosa', 'Iris-setosa',\n",
              "       'Iris-setosa', 'Iris-setosa', 'Iris-versicolor', 'Iris-virginica',\n",
              "       'Iris-versicolor', 'Iris-versicolor', 'Iris-virginica',\n",
              "       'Iris-setosa', 'Iris-virginica', 'Iris-setosa', 'Iris-virginica',\n",
              "       'Iris-virginica', 'Iris-virginica', 'Iris-virginica',\n",
              "       'Iris-virginica', 'Iris-setosa', 'Iris-setosa'], dtype=object)"
            ]
          },
          "execution_count": 40,
          "metadata": {},
          "output_type": "execute_result"
        }
      ],
      "source": [
        "df_y_test.values"
      ]
    },
    {
      "cell_type": "code",
      "execution_count": 41,
      "metadata": {
        "id": "zr2kiJyXhCzW"
      },
      "outputs": [],
      "source": [
        "def prepareInputData(df_X_train, df_X_test, df_y_train, df_y_test):\n",
        "  # prepare X_text as numpy array\n",
        "  X_train = df_X_train.to_numpy()\n",
        "  X_test = df_X_test.to_numpy()\n",
        "  Y_train = df_y_train.to_numpy()\n",
        "  Y_test = df_y_test.to_numpy()\n",
        "  # prepare concatenated_train as numpy array containing X_train and y_train\n",
        "  Y_train = np.expand_dims(Y_train, axis=1)\n",
        "  concatenated_train = np.concatenate((X_train,Y_train),axis=1)\n",
        "  # reutrn the unqiue classes\n",
        "  unique_classes = np.unique(Y_test)\n",
        "  \n",
        "  return X_test, concatenated_train, unique_classes"
      ]
    },
    {
      "cell_type": "code",
      "execution_count": 42,
      "metadata": {
        "id": "_LI1H_RxhO0U"
      },
      "outputs": [],
      "source": [
        "X_test, concatenated_train, unique_classes = prepareInputData(df_X_train, df_X_test, df_y_train, df_y_test)"
      ]
    },
    {
      "cell_type": "code",
      "execution_count": 43,
      "metadata": {},
      "outputs": [
        {
          "data": {
            "text/plain": [
              "array([[4.6, 3.6, 1.0, 0.2, 'Iris-setosa'],\n",
              "       [5.7, 4.4, 1.5, 0.4, 'Iris-setosa'],\n",
              "       [6.7, 3.1, 4.4, 1.4, 'Iris-versicolor'],\n",
              "       [4.8, 3.4, 1.6, 0.2, 'Iris-setosa'],\n",
              "       [4.4, 3.2, 1.3, 0.2, 'Iris-setosa'],\n",
              "       [6.3, 2.5, 5.0, 1.9, 'Iris-virginica'],\n",
              "       [6.4, 3.2, 4.5, 1.5, 'Iris-versicolor'],\n",
              "       [5.2, 3.5, 1.5, 0.2, 'Iris-setosa'],\n",
              "       [5.0, 3.6, 1.4, 0.2, 'Iris-setosa'],\n",
              "       [5.2, 4.1, 1.5, 0.1, 'Iris-setosa'],\n",
              "       [5.8, 2.7, 5.1, 1.9, 'Iris-virginica'],\n",
              "       [6.0, 3.4, 4.5, 1.6, 'Iris-versicolor'],\n",
              "       [6.7, 3.1, 4.7, 1.5, 'Iris-versicolor'],\n",
              "       [5.4, 3.9, 1.3, 0.4, 'Iris-setosa'],\n",
              "       [5.4, 3.7, 1.5, 0.2, 'Iris-setosa'],\n",
              "       [5.5, 2.4, 3.7, 1.0, 'Iris-versicolor'],\n",
              "       [6.3, 2.8, 5.1, 1.5, 'Iris-virginica'],\n",
              "       [6.4, 3.1, 5.5, 1.8, 'Iris-virginica'],\n",
              "       [6.6, 3.0, 4.4, 1.4, 'Iris-versicolor'],\n",
              "       [7.2, 3.6, 6.1, 2.5, 'Iris-virginica'],\n",
              "       [5.7, 2.9, 4.2, 1.3, 'Iris-versicolor'],\n",
              "       [7.6, 3.0, 6.6, 2.1, 'Iris-virginica'],\n",
              "       [5.6, 3.0, 4.5, 1.5, 'Iris-versicolor'],\n",
              "       [5.1, 3.5, 1.4, 0.2, 'Iris-setosa'],\n",
              "       [7.7, 2.8, 6.7, 2.0, 'Iris-virginica'],\n",
              "       [5.8, 2.7, 4.1, 1.0, 'Iris-versicolor'],\n",
              "       [5.2, 3.4, 1.4, 0.2, 'Iris-setosa'],\n",
              "       [5.0, 3.5, 1.3, 0.3, 'Iris-setosa'],\n",
              "       [5.1, 3.8, 1.9, 0.4, 'Iris-setosa'],\n",
              "       [5.0, 2.0, 3.5, 1.0, 'Iris-versicolor'],\n",
              "       [6.3, 2.7, 4.9, 1.8, 'Iris-virginica'],\n",
              "       [4.8, 3.4, 1.9, 0.2, 'Iris-setosa'],\n",
              "       [5.0, 3.0, 1.6, 0.2, 'Iris-setosa'],\n",
              "       [5.1, 3.3, 1.7, 0.5, 'Iris-setosa'],\n",
              "       [5.6, 2.7, 4.2, 1.3, 'Iris-versicolor'],\n",
              "       [5.1, 3.4, 1.5, 0.2, 'Iris-setosa'],\n",
              "       [5.7, 3.0, 4.2, 1.2, 'Iris-versicolor'],\n",
              "       [7.7, 3.8, 6.7, 2.2, 'Iris-virginica'],\n",
              "       [4.6, 3.2, 1.4, 0.2, 'Iris-setosa'],\n",
              "       [6.2, 2.9, 4.3, 1.3, 'Iris-versicolor'],\n",
              "       [5.7, 2.5, 5.0, 2.0, 'Iris-virginica'],\n",
              "       [5.5, 4.2, 1.4, 0.2, 'Iris-setosa'],\n",
              "       [6.0, 3.0, 4.8, 1.8, 'Iris-virginica'],\n",
              "       [5.8, 2.7, 5.1, 1.9, 'Iris-virginica'],\n",
              "       [6.0, 2.2, 4.0, 1.0, 'Iris-versicolor'],\n",
              "       [5.4, 3.0, 4.5, 1.5, 'Iris-versicolor'],\n",
              "       [6.2, 3.4, 5.4, 2.3, 'Iris-virginica'],\n",
              "       [5.5, 2.3, 4.0, 1.3, 'Iris-versicolor'],\n",
              "       [5.4, 3.9, 1.7, 0.4, 'Iris-setosa'],\n",
              "       [5.0, 2.3, 3.3, 1.0, 'Iris-versicolor'],\n",
              "       [6.4, 2.7, 5.3, 1.9, 'Iris-virginica'],\n",
              "       [5.0, 3.3, 1.4, 0.2, 'Iris-setosa'],\n",
              "       [5.0, 3.2, 1.2, 0.2, 'Iris-setosa'],\n",
              "       [5.5, 2.4, 3.8, 1.1, 'Iris-versicolor'],\n",
              "       [6.7, 3.0, 5.0, 1.7, 'Iris-versicolor'],\n",
              "       [4.9, 3.1, 1.5, 0.1, 'Iris-setosa'],\n",
              "       [5.8, 2.8, 5.1, 2.4, 'Iris-virginica'],\n",
              "       [5.0, 3.4, 1.5, 0.2, 'Iris-setosa'],\n",
              "       [5.0, 3.5, 1.6, 0.6, 'Iris-setosa'],\n",
              "       [5.9, 3.2, 4.8, 1.8, 'Iris-versicolor'],\n",
              "       [5.1, 2.5, 3.0, 1.1, 'Iris-versicolor'],\n",
              "       [6.9, 3.2, 5.7, 2.3, 'Iris-virginica'],\n",
              "       [6.0, 2.7, 5.1, 1.6, 'Iris-versicolor'],\n",
              "       [6.1, 2.6, 5.6, 1.4, 'Iris-virginica'],\n",
              "       [7.7, 3.0, 6.1, 2.3, 'Iris-virginica'],\n",
              "       [5.5, 2.5, 4.0, 1.3, 'Iris-versicolor'],\n",
              "       [4.4, 2.9, 1.4, 0.2, 'Iris-setosa'],\n",
              "       [4.3, 3.0, 1.1, 0.1, 'Iris-setosa'],\n",
              "       [6.0, 2.2, 5.0, 1.5, 'Iris-virginica'],\n",
              "       [7.2, 3.2, 6.0, 1.8, 'Iris-virginica'],\n",
              "       [4.6, 3.1, 1.5, 0.2, 'Iris-setosa'],\n",
              "       [5.1, 3.5, 1.4, 0.3, 'Iris-setosa'],\n",
              "       [4.4, 3.0, 1.3, 0.2, 'Iris-setosa'],\n",
              "       [6.3, 2.5, 4.9, 1.5, 'Iris-versicolor'],\n",
              "       [6.3, 3.4, 5.6, 2.4, 'Iris-virginica'],\n",
              "       [4.6, 3.4, 1.4, 0.3, 'Iris-setosa'],\n",
              "       [6.8, 3.0, 5.5, 2.1, 'Iris-virginica'],\n",
              "       [6.3, 3.3, 6.0, 2.5, 'Iris-virginica'],\n",
              "       [4.7, 3.2, 1.3, 0.2, 'Iris-setosa'],\n",
              "       [6.1, 2.9, 4.7, 1.4, 'Iris-versicolor'],\n",
              "       [6.5, 2.8, 4.6, 1.5, 'Iris-versicolor'],\n",
              "       [6.2, 2.8, 4.8, 1.8, 'Iris-virginica'],\n",
              "       [7.0, 3.2, 4.7, 1.4, 'Iris-versicolor'],\n",
              "       [6.4, 3.2, 5.3, 2.3, 'Iris-virginica'],\n",
              "       [5.1, 3.8, 1.6, 0.2, 'Iris-setosa'],\n",
              "       [6.9, 3.1, 5.4, 2.1, 'Iris-virginica'],\n",
              "       [5.9, 3.0, 4.2, 1.5, 'Iris-versicolor'],\n",
              "       [6.5, 3.0, 5.2, 2.0, 'Iris-virginica'],\n",
              "       [5.7, 2.6, 3.5, 1.0, 'Iris-versicolor'],\n",
              "       [5.2, 2.7, 3.9, 1.4, 'Iris-versicolor'],\n",
              "       [6.1, 3.0, 4.6, 1.4, 'Iris-versicolor'],\n",
              "       [4.5, 2.3, 1.3, 0.3, 'Iris-setosa'],\n",
              "       [6.6, 2.9, 4.6, 1.3, 'Iris-versicolor'],\n",
              "       [5.5, 2.6, 4.4, 1.2, 'Iris-versicolor'],\n",
              "       [5.3, 3.7, 1.5, 0.2, 'Iris-setosa'],\n",
              "       [5.6, 3.0, 4.1, 1.3, 'Iris-versicolor'],\n",
              "       [7.3, 2.9, 6.3, 1.8, 'Iris-virginica'],\n",
              "       [6.7, 3.3, 5.7, 2.1, 'Iris-virginica'],\n",
              "       [5.1, 3.7, 1.5, 0.4, 'Iris-setosa'],\n",
              "       [4.9, 2.4, 3.3, 1.0, 'Iris-versicolor'],\n",
              "       [6.7, 3.3, 5.7, 2.5, 'Iris-virginica'],\n",
              "       [7.2, 3.0, 5.8, 1.6, 'Iris-virginica'],\n",
              "       [4.9, 3.1, 1.5, 0.1, 'Iris-setosa'],\n",
              "       [6.7, 3.1, 5.6, 2.4, 'Iris-virginica'],\n",
              "       [4.9, 3.0, 1.4, 0.2, 'Iris-setosa'],\n",
              "       [6.9, 3.1, 4.9, 1.5, 'Iris-versicolor'],\n",
              "       [7.4, 2.8, 6.1, 1.9, 'Iris-virginica'],\n",
              "       [6.3, 2.9, 5.6, 1.8, 'Iris-virginica'],\n",
              "       [5.7, 2.8, 4.1, 1.3, 'Iris-versicolor'],\n",
              "       [6.5, 3.0, 5.5, 1.8, 'Iris-virginica'],\n",
              "       [6.3, 2.3, 4.4, 1.3, 'Iris-versicolor'],\n",
              "       [6.4, 2.9, 4.3, 1.3, 'Iris-versicolor'],\n",
              "       [5.6, 2.8, 4.9, 2.0, 'Iris-virginica'],\n",
              "       [5.9, 3.0, 5.1, 1.8, 'Iris-virginica'],\n",
              "       [5.4, 3.4, 1.7, 0.2, 'Iris-setosa'],\n",
              "       [6.1, 2.8, 4.0, 1.3, 'Iris-versicolor'],\n",
              "       [4.9, 2.5, 4.5, 1.7, 'Iris-virginica'],\n",
              "       [5.8, 4.0, 1.2, 0.2, 'Iris-setosa'],\n",
              "       [5.8, 2.6, 4.0, 1.2, 'Iris-versicolor'],\n",
              "       [7.1, 3.0, 5.9, 2.1, 'Iris-virginica']], dtype=object)"
            ]
          },
          "execution_count": 43,
          "metadata": {},
          "output_type": "execute_result"
        }
      ],
      "source": [
        "concatenated_train"
      ]
    },
    {
      "cell_type": "code",
      "execution_count": 44,
      "metadata": {
        "colab": {
          "base_uri": "https://localhost:8080/"
        },
        "id": "i9GLl7QNqf1E",
        "outputId": "73b7550e-159f-42e0-8fba-18d2f57d3bfd"
      },
      "outputs": [
        {
          "data": {
            "text/plain": [
              "array(['Iris-setosa', 'Iris-versicolor', 'Iris-virginica'], dtype=object)"
            ]
          },
          "execution_count": 44,
          "metadata": {},
          "output_type": "execute_result"
        }
      ],
      "source": [
        "unique_classes"
      ]
    },
    {
      "cell_type": "code",
      "execution_count": 45,
      "metadata": {},
      "outputs": [
        {
          "data": {
            "text/plain": [
              "array(['Iris-versicolor', 'Iris-setosa', 'Iris-virginica',\n",
              "       'Iris-versicolor', 'Iris-versicolor', 'Iris-setosa',\n",
              "       'Iris-versicolor', 'Iris-virginica', 'Iris-versicolor',\n",
              "       'Iris-versicolor', 'Iris-virginica', 'Iris-setosa', 'Iris-setosa',\n",
              "       'Iris-setosa', 'Iris-setosa', 'Iris-versicolor', 'Iris-virginica',\n",
              "       'Iris-versicolor', 'Iris-versicolor', 'Iris-virginica',\n",
              "       'Iris-setosa', 'Iris-virginica', 'Iris-setosa', 'Iris-virginica',\n",
              "       'Iris-virginica', 'Iris-virginica', 'Iris-virginica',\n",
              "       'Iris-virginica', 'Iris-setosa', 'Iris-setosa'], dtype='<U15')"
            ]
          },
          "execution_count": 45,
          "metadata": {},
          "output_type": "execute_result"
        }
      ],
      "source": [
        "runPredictionEuclideanMultiClass(X_test,concatenated_train, unique_classes,5)"
      ]
    },
    {
      "cell_type": "code",
      "execution_count": 46,
      "metadata": {
        "id": "drhjSBphhfxj"
      },
      "outputs": [],
      "source": [
        "predictions = runPredictionEuclideanMultiClass(X_test,concatenated_train, unique_classes,5)\n",
        "assert predictions[0] == 'Iris-versicolor'\n",
        "assert predictions[1] == 'Iris-setosa'\n",
        "assert predictions[2] == 'Iris-virginica'"
      ]
    },
    {
      "cell_type": "code",
      "execution_count": 47,
      "metadata": {},
      "outputs": [
        {
          "data": {
            "text/plain": [
              "1.0"
            ]
          },
          "execution_count": 47,
          "metadata": {},
          "output_type": "execute_result"
        }
      ],
      "source": [
        "accuracy(predictions, df_y_test.values)"
      ]
    },
    {
      "cell_type": "code",
      "execution_count": 48,
      "metadata": {
        "id": "aMUDHzeOhg7i"
      },
      "outputs": [],
      "source": [
        "acc = accuracy(predictions, df_y_test.values)\n",
        "assert acc == 1.0"
      ]
    },
    {
      "cell_type": "code",
      "execution_count": 49,
      "metadata": {
        "colab": {
          "base_uri": "https://localhost:8080/"
        },
        "id": "AcoE7IHZrNn1",
        "outputId": "aa4eae6b-b781-428f-f4c1-ea51b2b2713b"
      },
      "outputs": [
        {
          "data": {
            "text/plain": [
              "array(['Iris-versicolor', 'Iris-setosa', 'Iris-virginica',\n",
              "       'Iris-versicolor', 'Iris-versicolor', 'Iris-setosa',\n",
              "       'Iris-versicolor', 'Iris-virginica', 'Iris-versicolor',\n",
              "       'Iris-versicolor', 'Iris-virginica', 'Iris-setosa', 'Iris-setosa',\n",
              "       'Iris-setosa', 'Iris-setosa', 'Iris-versicolor', 'Iris-virginica',\n",
              "       'Iris-versicolor', 'Iris-versicolor', 'Iris-virginica',\n",
              "       'Iris-setosa', 'Iris-virginica', 'Iris-setosa', 'Iris-virginica',\n",
              "       'Iris-virginica', 'Iris-virginica', 'Iris-virginica',\n",
              "       'Iris-virginica', 'Iris-setosa', 'Iris-setosa'], dtype='<U15')"
            ]
          },
          "execution_count": 49,
          "metadata": {},
          "output_type": "execute_result"
        }
      ],
      "source": [
        "predictions"
      ]
    },
    {
      "cell_type": "code",
      "execution_count": 50,
      "metadata": {
        "colab": {
          "base_uri": "https://localhost:8080/"
        },
        "id": "BNj4Hib2p1KC",
        "outputId": "40c08cfd-9065-4182-8903-2b9d2401dd80"
      },
      "outputs": [
        {
          "data": {
            "text/plain": [
              "array(['Iris-versicolor', 'Iris-setosa', 'Iris-virginica',\n",
              "       'Iris-versicolor', 'Iris-versicolor', 'Iris-setosa',\n",
              "       'Iris-versicolor', 'Iris-virginica', 'Iris-versicolor',\n",
              "       'Iris-versicolor', 'Iris-virginica', 'Iris-setosa', 'Iris-setosa',\n",
              "       'Iris-setosa', 'Iris-setosa', 'Iris-versicolor', 'Iris-virginica',\n",
              "       'Iris-versicolor', 'Iris-versicolor', 'Iris-virginica',\n",
              "       'Iris-setosa', 'Iris-virginica', 'Iris-setosa', 'Iris-virginica',\n",
              "       'Iris-virginica', 'Iris-virginica', 'Iris-virginica',\n",
              "       'Iris-virginica', 'Iris-setosa', 'Iris-setosa'], dtype=object)"
            ]
          },
          "execution_count": 50,
          "metadata": {},
          "output_type": "execute_result"
        }
      ],
      "source": [
        "df_y_test.values"
      ]
    },
    {
      "cell_type": "code",
      "execution_count": null,
      "metadata": {
        "id": "aJMtS3-4p2h1"
      },
      "outputs": [],
      "source": []
    }
  ],
  "metadata": {
    "colab": {
      "provenance": []
    },
    "kernelspec": {
      "display_name": "Python 3",
      "name": "python3"
    },
    "language_info": {
      "codemirror_mode": {
        "name": "ipython",
        "version": 3
      },
      "file_extension": ".py",
      "mimetype": "text/x-python",
      "name": "python",
      "nbconvert_exporter": "python",
      "pygments_lexer": "ipython3",
      "version": "3.11.5"
    }
  },
  "nbformat": 4,
  "nbformat_minor": 0
}
