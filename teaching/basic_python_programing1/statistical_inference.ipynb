{
 "cells": [
  {
   "cell_type": "markdown",
   "metadata": {},
   "source": [
    "# Statistical Inference"
   ]
  },
  {
   "cell_type": "code",
   "execution_count": 1,
   "metadata": {},
   "outputs": [],
   "source": [
    "import pandas as pd\n",
    "import scipy.stats as st\n",
    "import matplotlib.pyplot as plt\n",
    "import seaborn as sns"
   ]
  },
  {
   "cell_type": "code",
   "execution_count": 2,
   "metadata": {},
   "outputs": [],
   "source": [
    "df = pd.read_csv('data/us_indicators.csv')\n",
    "df['date'] = pd.to_datetime(df['date'], format='%d/%m/%Y')"
   ]
  },
  {
   "cell_type": "code",
   "execution_count": 3,
   "metadata": {},
   "outputs": [
    {
     "data": {
      "text/html": [
       "<div>\n",
       "<style scoped>\n",
       "    .dataframe tbody tr th:only-of-type {\n",
       "        vertical-align: middle;\n",
       "    }\n",
       "\n",
       "    .dataframe tbody tr th {\n",
       "        vertical-align: top;\n",
       "    }\n",
       "\n",
       "    .dataframe thead th {\n",
       "        text-align: right;\n",
       "    }\n",
       "</style>\n",
       "<table border=\"1\" class=\"dataframe\">\n",
       "  <thead>\n",
       "    <tr style=\"text-align: right;\">\n",
       "      <th></th>\n",
       "      <th>date</th>\n",
       "      <th>cpi</th>\n",
       "      <th>policy_rate</th>\n",
       "      <th>neer</th>\n",
       "      <th>money_supply</th>\n",
       "      <th>inflation_target</th>\n",
       "      <th>type_of_monetary_policy</th>\n",
       "    </tr>\n",
       "  </thead>\n",
       "  <tbody>\n",
       "    <tr>\n",
       "      <th>0</th>\n",
       "      <td>2001-01-31</td>\n",
       "      <td>1.32</td>\n",
       "      <td>1.5</td>\n",
       "      <td>89.24</td>\n",
       "      <td>147.07</td>\n",
       "      <td>inrange</td>\n",
       "      <td>ease</td>\n",
       "    </tr>\n",
       "    <tr>\n",
       "      <th>1</th>\n",
       "      <td>2001-02-28</td>\n",
       "      <td>1.44</td>\n",
       "      <td>1.5</td>\n",
       "      <td>90.47</td>\n",
       "      <td>145.49</td>\n",
       "      <td>inrange</td>\n",
       "      <td>ease</td>\n",
       "    </tr>\n",
       "    <tr>\n",
       "      <th>2</th>\n",
       "      <td>2001-03-31</td>\n",
       "      <td>1.44</td>\n",
       "      <td>1.5</td>\n",
       "      <td>89.33</td>\n",
       "      <td>140.02</td>\n",
       "      <td>inrange</td>\n",
       "      <td>ease</td>\n",
       "    </tr>\n",
       "    <tr>\n",
       "      <th>3</th>\n",
       "      <td>2001-04-30</td>\n",
       "      <td>2.52</td>\n",
       "      <td>1.5</td>\n",
       "      <td>87.32</td>\n",
       "      <td>138.88</td>\n",
       "      <td>inrange</td>\n",
       "      <td>ease</td>\n",
       "    </tr>\n",
       "    <tr>\n",
       "      <th>4</th>\n",
       "      <td>2001-05-31</td>\n",
       "      <td>2.76</td>\n",
       "      <td>1.5</td>\n",
       "      <td>87.16</td>\n",
       "      <td>139.49</td>\n",
       "      <td>inrange</td>\n",
       "      <td>ease</td>\n",
       "    </tr>\n",
       "    <tr>\n",
       "      <th>...</th>\n",
       "      <td>...</td>\n",
       "      <td>...</td>\n",
       "      <td>...</td>\n",
       "      <td>...</td>\n",
       "      <td>...</td>\n",
       "      <td>...</td>\n",
       "      <td>...</td>\n",
       "    </tr>\n",
       "    <tr>\n",
       "      <th>277</th>\n",
       "      <td>2024-02-29</td>\n",
       "      <td>-0.77</td>\n",
       "      <td>2.5</td>\n",
       "      <td>118.51</td>\n",
       "      <td>718.27</td>\n",
       "      <td>outrrange</td>\n",
       "      <td>tight</td>\n",
       "    </tr>\n",
       "    <tr>\n",
       "      <th>278</th>\n",
       "      <td>2024-03-31</td>\n",
       "      <td>-0.47</td>\n",
       "      <td>2.5</td>\n",
       "      <td>118.11</td>\n",
       "      <td>711.58</td>\n",
       "      <td>outrrange</td>\n",
       "      <td>tight</td>\n",
       "    </tr>\n",
       "    <tr>\n",
       "      <th>279</th>\n",
       "      <td>2024-04-30</td>\n",
       "      <td>0.19</td>\n",
       "      <td>2.5</td>\n",
       "      <td>116.80</td>\n",
       "      <td>695.69</td>\n",
       "      <td>outrrange</td>\n",
       "      <td>tight</td>\n",
       "    </tr>\n",
       "    <tr>\n",
       "      <th>280</th>\n",
       "      <td>2024-05-31</td>\n",
       "      <td>1.54</td>\n",
       "      <td>2.5</td>\n",
       "      <td>117.21</td>\n",
       "      <td>702.68</td>\n",
       "      <td>inrange</td>\n",
       "      <td>tight</td>\n",
       "    </tr>\n",
       "    <tr>\n",
       "      <th>281</th>\n",
       "      <td>2024-06-30</td>\n",
       "      <td>1.54</td>\n",
       "      <td>2.5</td>\n",
       "      <td>117.55</td>\n",
       "      <td>702.68</td>\n",
       "      <td>inrange</td>\n",
       "      <td>tight</td>\n",
       "    </tr>\n",
       "  </tbody>\n",
       "</table>\n",
       "<p>282 rows × 7 columns</p>\n",
       "</div>"
      ],
      "text/plain": [
       "          date   cpi  policy_rate    neer  money_supply inflation_target  \\\n",
       "0   2001-01-31  1.32          1.5   89.24        147.07          inrange   \n",
       "1   2001-02-28  1.44          1.5   90.47        145.49          inrange   \n",
       "2   2001-03-31  1.44          1.5   89.33        140.02          inrange   \n",
       "3   2001-04-30  2.52          1.5   87.32        138.88          inrange   \n",
       "4   2001-05-31  2.76          1.5   87.16        139.49          inrange   \n",
       "..         ...   ...          ...     ...           ...              ...   \n",
       "277 2024-02-29 -0.77          2.5  118.51        718.27        outrrange   \n",
       "278 2024-03-31 -0.47          2.5  118.11        711.58        outrrange   \n",
       "279 2024-04-30  0.19          2.5  116.80        695.69        outrrange   \n",
       "280 2024-05-31  1.54          2.5  117.21        702.68          inrange   \n",
       "281 2024-06-30  1.54          2.5  117.55        702.68          inrange   \n",
       "\n",
       "    type_of_monetary_policy  \n",
       "0                      ease  \n",
       "1                      ease  \n",
       "2                      ease  \n",
       "3                      ease  \n",
       "4                      ease  \n",
       "..                      ...  \n",
       "277                   tight  \n",
       "278                   tight  \n",
       "279                   tight  \n",
       "280                   tight  \n",
       "281                   tight  \n",
       "\n",
       "[282 rows x 7 columns]"
      ]
     },
     "execution_count": 3,
     "metadata": {},
     "output_type": "execute_result"
    }
   ],
   "source": [
    "df"
   ]
  },
  {
   "cell_type": "markdown",
   "metadata": {},
   "source": [
    "## Tests"
   ]
  },
  {
   "cell_type": "markdown",
   "metadata": {},
   "source": [
    "### T-Test"
   ]
  },
  {
   "cell_type": "code",
   "execution_count": 4,
   "metadata": {},
   "outputs": [],
   "source": [
    "money_supply_inrange = df[df['inflation_target'] == 'inrange']['money_supply']\n",
    "money_supply_outrrange = df[df['inflation_target'] == 'outrrange']['money_supply']\n",
    "t_stat, p_value = st.ttest_ind(money_supply_inrange, money_supply_outrrange)"
   ]
  },
  {
   "cell_type": "code",
   "execution_count": 5,
   "metadata": {},
   "outputs": [
    {
     "name": "stdout",
     "output_type": "stream",
     "text": [
      "T-Test Results:\n",
      "   T-Statistic: -3.0762948318033585\n",
      "   P-Value: 0.002303304806832142\n"
     ]
    }
   ],
   "source": [
    "print(f\"T-Test Results:\\n   T-Statistic: {t_stat}\\n   P-Value: {p_value}\")"
   ]
  },
  {
   "cell_type": "markdown",
   "metadata": {},
   "source": [
    "### Chi-Square"
   ]
  },
  {
   "cell_type": "code",
   "execution_count": 6,
   "metadata": {},
   "outputs": [],
   "source": [
    "contingency_table = pd.crosstab(df['inflation_target'], df['type_of_monetary_policy'])\n",
    "chi2_stat, p_value, dof, expected = st.chi2_contingency(contingency_table)"
   ]
  },
  {
   "cell_type": "code",
   "execution_count": 7,
   "metadata": {},
   "outputs": [
    {
     "name": "stdout",
     "output_type": "stream",
     "text": [
      "Chi-Square Test Results:\n",
      "   Chi2 Statistic: 0.46833140225787323\n",
      "   P-Value: 0.4937558046674232\n",
      "\n"
     ]
    }
   ],
   "source": [
    "print(f\"Chi-Square Test Results:\\n   Chi2 Statistic: {chi2_stat}\\n   P-Value: {p_value}\\n\")"
   ]
  },
  {
   "cell_type": "markdown",
   "metadata": {},
   "source": [
    "### Pearson"
   ]
  },
  {
   "cell_type": "code",
   "execution_count": 8,
   "metadata": {},
   "outputs": [],
   "source": [
    "coef, p_value = st.pearsonr(df['cpi'], df['neer'])"
   ]
  },
  {
   "cell_type": "code",
   "execution_count": 9,
   "metadata": {},
   "outputs": [
    {
     "name": "stdout",
     "output_type": "stream",
     "text": [
      "Pearson Correlation Results:\n",
      "   Correlation Coefficient: -0.31793859350711884\n",
      "   P-Value: 4.8248207969110485e-08\n"
     ]
    }
   ],
   "source": [
    "print(f\"Pearson Correlation Results:\\n   Correlation Coefficient: {coef}\\n   P-Value: {p_value}\")"
   ]
  },
  {
   "cell_type": "markdown",
   "metadata": {},
   "source": [
    "#### Correlation Matrix"
   ]
  },
  {
   "cell_type": "code",
   "execution_count": 10,
   "metadata": {},
   "outputs": [],
   "source": [
    "corr_df = df[['cpi', 'policy_rate', 'neer', 'money_supply']].corr()"
   ]
  },
  {
   "cell_type": "code",
   "execution_count": 11,
   "metadata": {},
   "outputs": [
    {
     "data": {
      "text/html": [
       "<div>\n",
       "<style scoped>\n",
       "    .dataframe tbody tr th:only-of-type {\n",
       "        vertical-align: middle;\n",
       "    }\n",
       "\n",
       "    .dataframe tbody tr th {\n",
       "        vertical-align: top;\n",
       "    }\n",
       "\n",
       "    .dataframe thead th {\n",
       "        text-align: right;\n",
       "    }\n",
       "</style>\n",
       "<table border=\"1\" class=\"dataframe\">\n",
       "  <thead>\n",
       "    <tr style=\"text-align: right;\">\n",
       "      <th></th>\n",
       "      <th>cpi</th>\n",
       "      <th>policy_rate</th>\n",
       "      <th>neer</th>\n",
       "      <th>money_supply</th>\n",
       "    </tr>\n",
       "  </thead>\n",
       "  <tbody>\n",
       "    <tr>\n",
       "      <th>cpi</th>\n",
       "      <td>1.000000</td>\n",
       "      <td>0.409506</td>\n",
       "      <td>-0.317939</td>\n",
       "      <td>-0.239998</td>\n",
       "    </tr>\n",
       "    <tr>\n",
       "      <th>policy_rate</th>\n",
       "      <td>0.409506</td>\n",
       "      <td>1.000000</td>\n",
       "      <td>-0.430170</td>\n",
       "      <td>-0.446686</td>\n",
       "    </tr>\n",
       "    <tr>\n",
       "      <th>neer</th>\n",
       "      <td>-0.317939</td>\n",
       "      <td>-0.430170</td>\n",
       "      <td>1.000000</td>\n",
       "      <td>0.962318</td>\n",
       "    </tr>\n",
       "    <tr>\n",
       "      <th>money_supply</th>\n",
       "      <td>-0.239998</td>\n",
       "      <td>-0.446686</td>\n",
       "      <td>0.962318</td>\n",
       "      <td>1.000000</td>\n",
       "    </tr>\n",
       "  </tbody>\n",
       "</table>\n",
       "</div>"
      ],
      "text/plain": [
       "                   cpi  policy_rate      neer  money_supply\n",
       "cpi           1.000000     0.409506 -0.317939     -0.239998\n",
       "policy_rate   0.409506     1.000000 -0.430170     -0.446686\n",
       "neer         -0.317939    -0.430170  1.000000      0.962318\n",
       "money_supply -0.239998    -0.446686  0.962318      1.000000"
      ]
     },
     "execution_count": 11,
     "metadata": {},
     "output_type": "execute_result"
    }
   ],
   "source": [
    "corr_df"
   ]
  },
  {
   "cell_type": "code",
   "execution_count": 12,
   "metadata": {},
   "outputs": [
    {
     "data": {
      "image/png": "[encoded data removed]",
      "text/plain": [
       "<Figure size 800x800 with 2 Axes>"
      ]
     },
     "metadata": {},
     "output_type": "display_data"
    }
   ],
   "source": [
    "plt.figure(figsize=(8, 8))\n",
    "sns.heatmap(corr_df, annot=True, fmt=\".2f\")\n",
    "plt.title(\"Correlation Matix\")\n",
    "plt.show()"
   ]
  }
 ],
 "metadata": {
  "kernelspec": {
   "display_name": "kmitl",
   "language": "python",
   "name": "python3"
  },
  "language_info": {
   "codemirror_mode": {
    "name": "ipython",
    "version": 3
   },
   "file_extension": ".py",
   "mimetype": "text/x-python",
   "name": "python",
   "nbconvert_exporter": "python",
   "pygments_lexer": "ipython3",
   "version": "3.12.4"
  }
 },
 "nbformat": 4,
 "nbformat_minor": 2
}
