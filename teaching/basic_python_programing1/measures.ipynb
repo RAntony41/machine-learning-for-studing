{
 "cells": [
  {
   "cell_type": "markdown",
   "metadata": {},
   "source": [
    "# Measure"
   ]
  },
  {
   "cell_type": "code",
   "execution_count": 1,
   "metadata": {},
   "outputs": [],
   "source": [
    "import numpy as np\n",
    "import pandas as pd\n",
    "import scipy.stats as st"
   ]
  },
  {
   "cell_type": "code",
   "execution_count": 2,
   "metadata": {},
   "outputs": [],
   "source": [
    "df = pd.read_csv('data/us_indicators.csv')\n",
    "df['date'] = pd.to_datetime(df['date'], format='%d/%m/%Y')"
   ]
  },
  {
   "cell_type": "code",
   "execution_count": 3,
   "metadata": {},
   "outputs": [
    {
     "data": {
      "text/html": [
       "<div>\n",
       "<style scoped>\n",
       "    .dataframe tbody tr th:only-of-type {\n",
       "        vertical-align: middle;\n",
       "    }\n",
       "\n",
       "    .dataframe tbody tr th {\n",
       "        vertical-align: top;\n",
       "    }\n",
       "\n",
       "    .dataframe thead th {\n",
       "        text-align: right;\n",
       "    }\n",
       "</style>\n",
       "<table border=\"1\" class=\"dataframe\">\n",
       "  <thead>\n",
       "    <tr style=\"text-align: right;\">\n",
       "      <th></th>\n",
       "      <th>date</th>\n",
       "      <th>cpi</th>\n",
       "      <th>policy_rate</th>\n",
       "      <th>neer</th>\n",
       "      <th>money_supply</th>\n",
       "      <th>inflation_target</th>\n",
       "      <th>type_of_monetary_policy</th>\n",
       "    </tr>\n",
       "  </thead>\n",
       "  <tbody>\n",
       "    <tr>\n",
       "      <th>0</th>\n",
       "      <td>2001-01-31</td>\n",
       "      <td>1.32</td>\n",
       "      <td>1.5</td>\n",
       "      <td>89.24</td>\n",
       "      <td>147.07</td>\n",
       "      <td>inrange</td>\n",
       "      <td>ease</td>\n",
       "    </tr>\n",
       "    <tr>\n",
       "      <th>1</th>\n",
       "      <td>2001-02-28</td>\n",
       "      <td>1.44</td>\n",
       "      <td>1.5</td>\n",
       "      <td>90.47</td>\n",
       "      <td>145.49</td>\n",
       "      <td>inrange</td>\n",
       "      <td>ease</td>\n",
       "    </tr>\n",
       "    <tr>\n",
       "      <th>2</th>\n",
       "      <td>2001-03-31</td>\n",
       "      <td>1.44</td>\n",
       "      <td>1.5</td>\n",
       "      <td>89.33</td>\n",
       "      <td>140.02</td>\n",
       "      <td>inrange</td>\n",
       "      <td>ease</td>\n",
       "    </tr>\n",
       "    <tr>\n",
       "      <th>3</th>\n",
       "      <td>2001-04-30</td>\n",
       "      <td>2.52</td>\n",
       "      <td>1.5</td>\n",
       "      <td>87.32</td>\n",
       "      <td>138.88</td>\n",
       "      <td>inrange</td>\n",
       "      <td>ease</td>\n",
       "    </tr>\n",
       "    <tr>\n",
       "      <th>4</th>\n",
       "      <td>2001-05-31</td>\n",
       "      <td>2.76</td>\n",
       "      <td>1.5</td>\n",
       "      <td>87.16</td>\n",
       "      <td>139.49</td>\n",
       "      <td>inrange</td>\n",
       "      <td>ease</td>\n",
       "    </tr>\n",
       "    <tr>\n",
       "      <th>...</th>\n",
       "      <td>...</td>\n",
       "      <td>...</td>\n",
       "      <td>...</td>\n",
       "      <td>...</td>\n",
       "      <td>...</td>\n",
       "      <td>...</td>\n",
       "      <td>...</td>\n",
       "    </tr>\n",
       "    <tr>\n",
       "      <th>277</th>\n",
       "      <td>2024-02-29</td>\n",
       "      <td>-0.77</td>\n",
       "      <td>2.5</td>\n",
       "      <td>118.51</td>\n",
       "      <td>718.27</td>\n",
       "      <td>outrrange</td>\n",
       "      <td>tight</td>\n",
       "    </tr>\n",
       "    <tr>\n",
       "      <th>278</th>\n",
       "      <td>2024-03-31</td>\n",
       "      <td>-0.47</td>\n",
       "      <td>2.5</td>\n",
       "      <td>118.11</td>\n",
       "      <td>711.58</td>\n",
       "      <td>outrrange</td>\n",
       "      <td>tight</td>\n",
       "    </tr>\n",
       "    <tr>\n",
       "      <th>279</th>\n",
       "      <td>2024-04-30</td>\n",
       "      <td>0.19</td>\n",
       "      <td>2.5</td>\n",
       "      <td>116.80</td>\n",
       "      <td>695.69</td>\n",
       "      <td>outrrange</td>\n",
       "      <td>tight</td>\n",
       "    </tr>\n",
       "    <tr>\n",
       "      <th>280</th>\n",
       "      <td>2024-05-31</td>\n",
       "      <td>1.54</td>\n",
       "      <td>2.5</td>\n",
       "      <td>117.21</td>\n",
       "      <td>702.68</td>\n",
       "      <td>inrange</td>\n",
       "      <td>tight</td>\n",
       "    </tr>\n",
       "    <tr>\n",
       "      <th>281</th>\n",
       "      <td>2024-06-30</td>\n",
       "      <td>1.54</td>\n",
       "      <td>2.5</td>\n",
       "      <td>117.55</td>\n",
       "      <td>702.68</td>\n",
       "      <td>inrange</td>\n",
       "      <td>tight</td>\n",
       "    </tr>\n",
       "  </tbody>\n",
       "</table>\n",
       "<p>282 rows × 7 columns</p>\n",
       "</div>"
      ],
      "text/plain": [
       "          date   cpi  policy_rate    neer  money_supply inflation_target  \\\n",
       "0   2001-01-31  1.32          1.5   89.24        147.07          inrange   \n",
       "1   2001-02-28  1.44          1.5   90.47        145.49          inrange   \n",
       "2   2001-03-31  1.44          1.5   89.33        140.02          inrange   \n",
       "3   2001-04-30  2.52          1.5   87.32        138.88          inrange   \n",
       "4   2001-05-31  2.76          1.5   87.16        139.49          inrange   \n",
       "..         ...   ...          ...     ...           ...              ...   \n",
       "277 2024-02-29 -0.77          2.5  118.51        718.27        outrrange   \n",
       "278 2024-03-31 -0.47          2.5  118.11        711.58        outrrange   \n",
       "279 2024-04-30  0.19          2.5  116.80        695.69        outrrange   \n",
       "280 2024-05-31  1.54          2.5  117.21        702.68          inrange   \n",
       "281 2024-06-30  1.54          2.5  117.55        702.68          inrange   \n",
       "\n",
       "    type_of_monetary_policy  \n",
       "0                      ease  \n",
       "1                      ease  \n",
       "2                      ease  \n",
       "3                      ease  \n",
       "4                      ease  \n",
       "..                      ...  \n",
       "277                   tight  \n",
       "278                   tight  \n",
       "279                   tight  \n",
       "280                   tight  \n",
       "281                   tight  \n",
       "\n",
       "[282 rows x 7 columns]"
      ]
     },
     "execution_count": 3,
     "metadata": {},
     "output_type": "execute_result"
    }
   ],
   "source": [
    "df"
   ]
  },
  {
   "cell_type": "markdown",
   "metadata": {},
   "source": [
    "## Overview"
   ]
  },
  {
   "cell_type": "code",
   "execution_count": 4,
   "metadata": {},
   "outputs": [
    {
     "data": {
      "text/html": [
       "<div>\n",
       "<style scoped>\n",
       "    .dataframe tbody tr th:only-of-type {\n",
       "        vertical-align: middle;\n",
       "    }\n",
       "\n",
       "    .dataframe tbody tr th {\n",
       "        vertical-align: top;\n",
       "    }\n",
       "\n",
       "    .dataframe thead th {\n",
       "        text-align: right;\n",
       "    }\n",
       "</style>\n",
       "<table border=\"1\" class=\"dataframe\">\n",
       "  <thead>\n",
       "    <tr style=\"text-align: right;\">\n",
       "      <th></th>\n",
       "      <th>date</th>\n",
       "      <th>cpi</th>\n",
       "      <th>policy_rate</th>\n",
       "      <th>neer</th>\n",
       "      <th>money_supply</th>\n",
       "    </tr>\n",
       "  </thead>\n",
       "  <tbody>\n",
       "    <tr>\n",
       "      <th>count</th>\n",
       "      <td>282</td>\n",
       "      <td>282.000000</td>\n",
       "      <td>282.000000</td>\n",
       "      <td>282.000000</td>\n",
       "      <td>282.000000</td>\n",
       "    </tr>\n",
       "    <tr>\n",
       "      <th>mean</th>\n",
       "      <td>2012-10-14 19:39:34.468084992</td>\n",
       "      <td>1.987624</td>\n",
       "      <td>2.035461</td>\n",
       "      <td>103.934220</td>\n",
       "      <td>432.494929</td>\n",
       "    </tr>\n",
       "    <tr>\n",
       "      <th>min</th>\n",
       "      <td>2001-01-31 00:00:00</td>\n",
       "      <td>-4.360000</td>\n",
       "      <td>0.500000</td>\n",
       "      <td>85.840000</td>\n",
       "      <td>138.870000</td>\n",
       "    </tr>\n",
       "    <tr>\n",
       "      <th>25%</th>\n",
       "      <td>2006-12-07 18:00:00</td>\n",
       "      <td>0.425000</td>\n",
       "      <td>1.500000</td>\n",
       "      <td>94.317500</td>\n",
       "      <td>237.987500</td>\n",
       "    </tr>\n",
       "    <tr>\n",
       "      <th>50%</th>\n",
       "      <td>2012-10-15 12:00:00</td>\n",
       "      <td>1.755000</td>\n",
       "      <td>1.750000</td>\n",
       "      <td>102.730000</td>\n",
       "      <td>470.675000</td>\n",
       "    </tr>\n",
       "    <tr>\n",
       "      <th>75%</th>\n",
       "      <td>2018-08-23 06:00:00</td>\n",
       "      <td>3.230000</td>\n",
       "      <td>2.500000</td>\n",
       "      <td>114.322500</td>\n",
       "      <td>613.550000</td>\n",
       "    </tr>\n",
       "    <tr>\n",
       "      <th>max</th>\n",
       "      <td>2024-06-30 00:00:00</td>\n",
       "      <td>9.160000</td>\n",
       "      <td>5.000000</td>\n",
       "      <td>126.920000</td>\n",
       "      <td>765.730000</td>\n",
       "    </tr>\n",
       "    <tr>\n",
       "      <th>std</th>\n",
       "      <td>NaN</td>\n",
       "      <td>2.188279</td>\n",
       "      <td>1.044849</td>\n",
       "      <td>11.502054</td>\n",
       "      <td>202.217172</td>\n",
       "    </tr>\n",
       "  </tbody>\n",
       "</table>\n",
       "</div>"
      ],
      "text/plain": [
       "                                date         cpi  policy_rate        neer  \\\n",
       "count                            282  282.000000   282.000000  282.000000   \n",
       "mean   2012-10-14 19:39:34.468084992    1.987624     2.035461  103.934220   \n",
       "min              2001-01-31 00:00:00   -4.360000     0.500000   85.840000   \n",
       "25%              2006-12-07 18:00:00    0.425000     1.500000   94.317500   \n",
       "50%              2012-10-15 12:00:00    1.755000     1.750000  102.730000   \n",
       "75%              2018-08-23 06:00:00    3.230000     2.500000  114.322500   \n",
       "max              2024-06-30 00:00:00    9.160000     5.000000  126.920000   \n",
       "std                              NaN    2.188279     1.044849   11.502054   \n",
       "\n",
       "       money_supply  \n",
       "count    282.000000  \n",
       "mean     432.494929  \n",
       "min      138.870000  \n",
       "25%      237.987500  \n",
       "50%      470.675000  \n",
       "75%      613.550000  \n",
       "max      765.730000  \n",
       "std      202.217172  "
      ]
     },
     "execution_count": 4,
     "metadata": {},
     "output_type": "execute_result"
    }
   ],
   "source": [
    "df.describe()"
   ]
  },
  {
   "cell_type": "markdown",
   "metadata": {},
   "source": [
    "## Central Tendency"
   ]
  },
  {
   "cell_type": "markdown",
   "metadata": {},
   "source": [
    "### Mean"
   ]
  },
  {
   "cell_type": "code",
   "execution_count": 5,
   "metadata": {},
   "outputs": [
    {
     "data": {
      "text/plain": [
       "1.9876241134751773"
      ]
     },
     "execution_count": 5,
     "metadata": {},
     "output_type": "execute_result"
    }
   ],
   "source": [
    "df['cpi'].mean()"
   ]
  },
  {
   "cell_type": "markdown",
   "metadata": {},
   "source": [
    "### Median"
   ]
  },
  {
   "cell_type": "code",
   "execution_count": 6,
   "metadata": {},
   "outputs": [
    {
     "data": {
      "text/plain": [
       "1.755"
      ]
     },
     "execution_count": 6,
     "metadata": {},
     "output_type": "execute_result"
    }
   ],
   "source": [
    "df['cpi'].median()"
   ]
  },
  {
   "cell_type": "markdown",
   "metadata": {},
   "source": [
    "### Mode"
   ]
  },
  {
   "cell_type": "code",
   "execution_count": 7,
   "metadata": {},
   "outputs": [
    {
     "data": {
      "text/plain": [
       "0    1.5\n",
       "Name: policy_rate, dtype: float64"
      ]
     },
     "execution_count": 7,
     "metadata": {},
     "output_type": "execute_result"
    }
   ],
   "source": [
    "df['policy_rate'].mode()"
   ]
  },
  {
   "cell_type": "code",
   "execution_count": 8,
   "metadata": {},
   "outputs": [
    {
     "data": {
      "text/plain": [
       "0    outrrange\n",
       "Name: inflation_target, dtype: object"
      ]
     },
     "execution_count": 8,
     "metadata": {},
     "output_type": "execute_result"
    }
   ],
   "source": [
    "df['inflation_target'].mode()"
   ]
  },
  {
   "cell_type": "markdown",
   "metadata": {},
   "source": [
    "## Dispersion"
   ]
  },
  {
   "cell_type": "markdown",
   "metadata": {},
   "source": [
    "### Variance"
   ]
  },
  {
   "cell_type": "code",
   "execution_count": 9,
   "metadata": {},
   "outputs": [
    {
     "data": {
      "text/plain": [
       "4.788564085964513"
      ]
     },
     "execution_count": 9,
     "metadata": {},
     "output_type": "execute_result"
    }
   ],
   "source": [
    "df['cpi'].var()"
   ]
  },
  {
   "cell_type": "markdown",
   "metadata": {},
   "source": [
    "### Standard Deviation"
   ]
  },
  {
   "cell_type": "code",
   "execution_count": 10,
   "metadata": {},
   "outputs": [
    {
     "data": {
      "text/plain": [
       "2.1882787953011182"
      ]
     },
     "execution_count": 10,
     "metadata": {},
     "output_type": "execute_result"
    }
   ],
   "source": [
    "df['cpi'].std()"
   ]
  },
  {
   "cell_type": "markdown",
   "metadata": {},
   "source": [
    "## Shape"
   ]
  },
  {
   "cell_type": "markdown",
   "metadata": {},
   "source": [
    "### Skewness"
   ]
  },
  {
   "cell_type": "code",
   "execution_count": 11,
   "metadata": {},
   "outputs": [
    {
     "data": {
      "text/plain": [
       "0.4347841036814551"
      ]
     },
     "execution_count": 11,
     "metadata": {},
     "output_type": "execute_result"
    }
   ],
   "source": [
    "df['cpi'].skew()"
   ]
  },
  {
   "cell_type": "markdown",
   "metadata": {},
   "source": [
    "### Kurtosis"
   ]
  },
  {
   "cell_type": "code",
   "execution_count": 12,
   "metadata": {},
   "outputs": [
    {
     "data": {
      "text/plain": [
       "0.6537834217575811"
      ]
     },
     "execution_count": 12,
     "metadata": {},
     "output_type": "execute_result"
    }
   ],
   "source": [
    "df['cpi'].kurtosis()"
   ]
  },
  {
   "cell_type": "markdown",
   "metadata": {},
   "source": [
    "## Position"
   ]
  },
  {
   "cell_type": "markdown",
   "metadata": {},
   "source": [
    "### Percentiles"
   ]
  },
  {
   "cell_type": "code",
   "execution_count": 13,
   "metadata": {},
   "outputs": [
    {
     "data": {
      "text/plain": [
       "1.755"
      ]
     },
     "execution_count": 13,
     "metadata": {},
     "output_type": "execute_result"
    }
   ],
   "source": [
    "np.percentile(df['cpi'], 50)"
   ]
  },
  {
   "cell_type": "markdown",
   "metadata": {},
   "source": [
    "#### Percentile of the number"
   ]
  },
  {
   "cell_type": "code",
   "execution_count": 14,
   "metadata": {},
   "outputs": [
    {
     "data": {
      "text/plain": [
       "44.326241134751776"
      ]
     },
     "execution_count": 14,
     "metadata": {},
     "output_type": "execute_result"
    }
   ],
   "source": [
    "st.percentileofscore(df['cpi'], 1.5)"
   ]
  },
  {
   "cell_type": "markdown",
   "metadata": {},
   "source": [
    "### Quartiles"
   ]
  },
  {
   "cell_type": "code",
   "execution_count": 15,
   "metadata": {},
   "outputs": [
    {
     "data": {
      "text/plain": [
       "1.755"
      ]
     },
     "execution_count": 15,
     "metadata": {},
     "output_type": "execute_result"
    }
   ],
   "source": [
    "df['cpi'].quantile(0.5)"
   ]
  },
  {
   "cell_type": "markdown",
   "metadata": {},
   "source": [
    "## Identify Outlier"
   ]
  },
  {
   "cell_type": "code",
   "execution_count": 16,
   "metadata": {},
   "outputs": [],
   "source": [
    "col = 'cpi'"
   ]
  },
  {
   "cell_type": "markdown",
   "metadata": {},
   "source": [
    "### By standard deviation"
   ]
  },
  {
   "cell_type": "code",
   "execution_count": 17,
   "metadata": {},
   "outputs": [],
   "source": [
    "z = 2"
   ]
  },
  {
   "cell_type": "code",
   "execution_count": 18,
   "metadata": {},
   "outputs": [],
   "source": [
    "mean = df[col].mean()\n",
    "sd = df[col].std()"
   ]
  },
  {
   "cell_type": "code",
   "execution_count": 19,
   "metadata": {},
   "outputs": [],
   "source": [
    "lower_bound = mean - (z * sd)\n",
    "upper_bound = mean + (z * sd)"
   ]
  },
  {
   "cell_type": "code",
   "execution_count": 20,
   "metadata": {},
   "outputs": [
    {
     "data": {
      "text/plain": [
       "(-2.3889334771270594, 6.364181704077414)"
      ]
     },
     "execution_count": 20,
     "metadata": {},
     "output_type": "execute_result"
    }
   ],
   "source": [
    "(lower_bound, upper_bound)"
   ]
  },
  {
   "cell_type": "markdown",
   "metadata": {},
   "source": [
    "### By IQR"
   ]
  },
  {
   "cell_type": "code",
   "execution_count": 21,
   "metadata": {},
   "outputs": [],
   "source": [
    "q1 = df[col].quantile(0.25)\n",
    "q3 = df[col].quantile(0.75)"
   ]
  },
  {
   "cell_type": "code",
   "execution_count": 22,
   "metadata": {},
   "outputs": [],
   "source": [
    "iqr = q3 - q1"
   ]
  },
  {
   "cell_type": "code",
   "execution_count": 23,
   "metadata": {},
   "outputs": [],
   "source": [
    "lower_bound = q1 - (1.5 * iqr)\n",
    "upper_bound = q3 + (1.5 * iqr)"
   ]
  },
  {
   "cell_type": "code",
   "execution_count": 24,
   "metadata": {},
   "outputs": [
    {
     "data": {
      "text/plain": [
       "(-3.7825000000000006, 7.4375)"
      ]
     },
     "execution_count": 24,
     "metadata": {},
     "output_type": "execute_result"
    }
   ],
   "source": [
    "(lower_bound, upper_bound)"
   ]
  }
 ],
 "metadata": {
  "kernelspec": {
   "display_name": "kmitl",
   "language": "python",
   "name": "python3"
  },
  "language_info": {
   "codemirror_mode": {
    "name": "ipython",
    "version": 3
   },
   "file_extension": ".py",
   "mimetype": "text/x-python",
   "name": "python",
   "nbconvert_exporter": "python",
   "pygments_lexer": "ipython3",
   "version": "3.12.4"
  }
 },
 "nbformat": 4,
 "nbformat_minor": 2
}
