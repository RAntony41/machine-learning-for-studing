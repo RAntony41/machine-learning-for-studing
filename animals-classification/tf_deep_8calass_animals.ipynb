{
 "cells": [
  {
   "cell_type": "code",
   "execution_count": 73,
   "metadata": {},
   "outputs": [],
   "source": [
    "import tensorflow as tf\n",
    "import os"
   ]
  },
  {
   "cell_type": "code",
   "execution_count": 74,
   "metadata": {},
   "outputs": [
    {
     "data": {
      "text/plain": [
       "'2.15.0'"
      ]
     },
     "execution_count": 74,
     "metadata": {},
     "output_type": "execute_result"
    }
   ],
   "source": [
    "tf.__version__"
   ]
  },
  {
   "cell_type": "code",
   "execution_count": 75,
   "metadata": {},
   "outputs": [
    {
     "name": "stdout",
     "output_type": "stream",
     "text": [
      "False\n"
     ]
    }
   ],
   "source": [
    "# using GPU\n",
    "print(tf.test.is_gpu_available())\n",
    "gpus = tf.config.experimental.list_physical_devices('GPU')\n",
    "for gpu in gpus:\n",
    "    tf.config.experimental.set_memory_growth(gpu,True)"
   ]
  },
  {
   "cell_type": "code",
   "execution_count": 76,
   "metadata": {},
   "outputs": [
    {
     "data": {
      "text/plain": [
       "[]"
      ]
     },
     "execution_count": 76,
     "metadata": {},
     "output_type": "execute_result"
    }
   ],
   "source": [
    "tf.config.experimental.list_physical_devices('GPU')"
   ]
  },
  {
   "cell_type": "code",
   "execution_count": 77,
   "metadata": {},
   "outputs": [
    {
     "data": {
      "text/plain": [
       "[PhysicalDevice(name='/physical_device:CPU:0', device_type='CPU')]"
      ]
     },
     "execution_count": 77,
     "metadata": {},
     "output_type": "execute_result"
    }
   ],
   "source": [
    "tf.config.experimental.list_physical_devices('CPU')"
   ]
  },
  {
   "cell_type": "code",
   "execution_count": 78,
   "metadata": {},
   "outputs": [],
   "source": [
    "import cv2\n",
    "import numpy as np\n",
    "from matplotlib import pyplot as plt"
   ]
  },
  {
   "cell_type": "code",
   "execution_count": 79,
   "metadata": {},
   "outputs": [],
   "source": [
    "all_animals = ['Fish','Goldfish','Harbor seal','Jellyfish',\n",
    "              'Lobster','Oyster','Sea turtle','Squid','Starfish']\n",
    "training_dir = r'animal_images/train'\n",
    "testing_dir = r'animal_images/test'"
   ]
  },
  {
   "cell_type": "code",
   "execution_count": 80,
   "metadata": {},
   "outputs": [
    {
     "name": "stdout",
     "output_type": "stream",
     "text": [
      "Fish 89\n",
      "Goldfish 65\n",
      "Harbor seal 46\n",
      "Jellyfish 85\n",
      "Lobster 39\n",
      "Oyster 62\n",
      "Sea turtle 82\n",
      "Squid 49\n",
      "Starfish 104\n"
     ]
    }
   ],
   "source": [
    "for animal in all_animals:\n",
    "    num = len(os.listdir(os.path.join(training_dir, animal)))\n",
    "    print(animal,num)"
   ]
  },
  {
   "cell_type": "code",
   "execution_count": 81,
   "metadata": {},
   "outputs": [
    {
     "name": "stdout",
     "output_type": "stream",
     "text": [
      "Fish 18\n",
      "Goldfish 13\n",
      "Harbor seal 15\n",
      "Jellyfish 31\n",
      "Lobster 14\n",
      "Oyster 23\n",
      "Sea turtle 23\n",
      "Squid 25\n",
      "Starfish 23\n"
     ]
    }
   ],
   "source": [
    "for animal in all_animals:\n",
    "    num = len(os.listdir(os.path.join(testing_dir, animal)))\n",
    "    print(animal,num)"
   ]
  },
  {
   "cell_type": "code",
   "execution_count": 82,
   "metadata": {},
   "outputs": [
    {
     "data": {
      "text/plain": [
       "<function keras.src.utils.image_dataset.image_dataset_from_directory(directory, labels='inferred', label_mode='int', class_names=None, color_mode='rgb', batch_size=32, image_size=(256, 256), shuffle=True, seed=None, validation_split=None, subset=None, interpolation='bilinear', follow_links=False, crop_to_aspect_ratio=False, **kwargs)>"
      ]
     },
     "execution_count": 82,
     "metadata": {},
     "output_type": "execute_result"
    }
   ],
   "source": [
    "tf.keras.utils.image_dataset_from_directory"
   ]
  },
  {
   "cell_type": "code",
   "execution_count": 83,
   "metadata": {},
   "outputs": [
    {
     "name": "stdout",
     "output_type": "stream",
     "text": [
      "Found 621 files belonging to 9 classes.\n",
      "Found 185 files belonging to 9 classes.\n"
     ]
    }
   ],
   "source": [
    "data_train = tf.keras.utils.image_dataset_from_directory(training_dir)\n",
    "data_test = tf.keras.utils.image_dataset_from_directory(testing_dir)"
   ]
  },
  {
   "cell_type": "code",
   "execution_count": 84,
   "metadata": {},
   "outputs": [],
   "source": [
    "data_iterator = data_train.as_numpy_iterator()"
   ]
  },
  {
   "cell_type": "code",
   "execution_count": 85,
   "metadata": {},
   "outputs": [],
   "source": [
    "batch = data_iterator.next()"
   ]
  },
  {
   "cell_type": "code",
   "execution_count": 86,
   "metadata": {},
   "outputs": [
    {
     "name": "stdout",
     "output_type": "stream",
     "text": [
      "(32, 256, 256, 3)\n",
      "[7 0 5 4 6 0 0 0 2 0 6 3 8 5 2 8 8 7 3 3 0 5 4 0 7 7 3 5 3 2 7 3]\n"
     ]
    }
   ],
   "source": [
    "#image representation\n",
    "print(batch[0].shape)\n",
    "# lable\n",
    "print(batch[1])"
   ]
  },
  {
   "cell_type": "code",
   "execution_count": 87,
   "metadata": {},
   "outputs": [
    {
     "data": {
      "text/plain": [
       "'\\nfig, ax = plt.subplot(ncols=4, figsize=(20,20))\\nfor idx, img in enumerate(batch[0][:4]):\\n    ax[idx].imshow(img.astype(int))\\n    ax[idx].title.set_text(batch[1][idx])\\n'"
      ]
     },
     "execution_count": 87,
     "metadata": {},
     "output_type": "execute_result"
    }
   ],
   "source": [
    "'''\n",
    "fig, ax = plt.subplot(ncols=4, figsize=(20,20))\n",
    "for idx, img in enumerate(batch[0][:4]):\n",
    "    ax[idx].imshow(img.astype(int))\n",
    "    ax[idx].title.set_text(batch[1][idx])\n",
    "'''"
   ]
  },
  {
   "cell_type": "markdown",
   "metadata": {},
   "source": [
    "# Preprocessing"
   ]
  },
  {
   "cell_type": "code",
   "execution_count": 88,
   "metadata": {},
   "outputs": [],
   "source": [
    "data_train = data_train.map(lambda x,y: (x/255,y))\n",
    "data_test = data_test.map(lambda x,y: (x/255,y))"
   ]
  },
  {
   "cell_type": "code",
   "execution_count": 89,
   "metadata": {},
   "outputs": [
    {
     "data": {
      "text/plain": [
       "<tensorflow.python.data.ops.dataset_ops.NumpyIterator at 0x3070ab6d0>"
      ]
     },
     "execution_count": 89,
     "metadata": {},
     "output_type": "execute_result"
    }
   ],
   "source": [
    "data_train.as_numpy_iterator()\n",
    "data_test.as_numpy_iterator()"
   ]
  },
  {
   "cell_type": "code",
   "execution_count": 90,
   "metadata": {},
   "outputs": [
    {
     "name": "stdout",
     "output_type": "stream",
     "text": [
      "tf.Tensor([3 1 3 7 4 7 5 8 5 0 0 0 4 7 6 0 3 6 7 6 6 8 8 5 6 2 6 0 2 2 6 4], shape=(32,), dtype=int32)\n",
      "tf.Tensor([3 6 6 3 6 5 7 2 6 8 6 0 3 8 8 0 8 7 3 6 1 8 2 7 6 0 3 8 2 5 6 8], shape=(32,), dtype=int32)\n",
      "tf.Tensor([0 7 8 4 1 0 6 1 1 0 2 7 5 1 1 1 0 3 1 7 8 8 3 3 7 7 6 3 7 6 0 3], shape=(32,), dtype=int32)\n",
      "tf.Tensor([6 2 4 0 7 5 2 0 3 5 6 6 1 3 8 8 2 0 3 0 0 7 2 3 0 1 8 6 5 3 3 3], shape=(32,), dtype=int32)\n",
      "tf.Tensor([3 5 5 0 3 6 8 5 6 5 2 4 5 4 8 7 3 8 1 5 4 8 8 7 0 6 8 1 7 0 3 3], shape=(32,), dtype=int32)\n",
      "tf.Tensor([6 3 1 2 6 8 7 4 8 5 8 1 3 0 0 0 5 6 4 8 1 5 1 0 3 3 6 0 2 0 3 5], shape=(32,), dtype=int32)\n",
      "tf.Tensor([8 5 1 5 0 3 6 8 6 2 4 2 8 0 6 2 3 2 8 1 5 3 3 2 6 3 6 7 0 6 1 0], shape=(32,), dtype=int32)\n",
      "tf.Tensor([5 8 5 3 7 3 7 1 1 8 8 4 8 2 8 1 7 0 1 3 5 2 2 6 3 8 0 3 1 5 0 8], shape=(32,), dtype=int32)\n",
      "tf.Tensor([3 1 6 1 1 8 0 8 8 5 8 0 6 7 5 4 0 0 6 3 0 1 5 5 6 7 5 3 8 8 3 7], shape=(32,), dtype=int32)\n",
      "tf.Tensor([5 4 8 8 2 1 3 6 6 8 6 3 3 0 4 4 2 1 0 5 0 5 8 6 2 0 6 4 3 5 1 0], shape=(32,), dtype=int32)\n",
      "tf.Tensor([0 0 1 8 1 8 3 6 3 5 6 8 0 5 5 0 5 8 8 3 1 1 3 0 8 3 3 8 3 0 3 2], shape=(32,), dtype=int32)\n",
      "tf.Tensor([2 8 1 4 8 7 3 1 0 8 6 8 7 5 1 6 5 8 8 1 4 8 8 4 7 3 3 3 2 0 8 0], shape=(32,), dtype=int32)\n",
      "tf.Tensor([8 8 8 1 7 6 1 8 8 5 8 3 2 3 7 8 2 6 7 0 0 1 5 8 4 3 2 5 1 0 4 5], shape=(32,), dtype=int32)\n",
      "tf.Tensor([6 8 1 8 2 8 1 6 7 0 8 5 8 6 4 6 4 6 8 8 2 2 8 3 0 8 1 0 3 1 3 8], shape=(32,), dtype=int32)\n",
      "tf.Tensor([0 8 2 5 4 0 1 4 0 0 1 1 5 6 2 8 8 8 1 0 5 0 3 0 7 6 7 4 1 8 0 0], shape=(32,), dtype=int32)\n",
      "tf.Tensor([3 2 3 8 8 4 8 5 3 5 8 6 5 0 0 7 7 5 6 0 0 4 8 4 1 2 6 5 4 6 6 4], shape=(32,), dtype=int32)\n",
      "tf.Tensor([5 1 0 7 8 6 3 1 0 5 2 8 0 0 8 7 8 3 6 4 2 0 3 3 4 6 6 3 6 7 8 6], shape=(32,), dtype=int32)\n",
      "tf.Tensor([6 8 2 8 2 3 6 1 5 3 7 8 4 8 6 3 5 5 3 8 3 1 0 3 0 1 7 7 2 6 3 0], shape=(32,), dtype=int32)\n",
      "tf.Tensor([1 6 2 0 2 0 0 3 7 0 7 6 1 5 7 5 7 6 4 1 0 6 1 0 7 6 7 6 8 0 8 0], shape=(32,), dtype=int32)\n",
      "tf.Tensor([8 3 2 3 5 6 4 4 4 1 6 1 6], shape=(13,), dtype=int32)\n"
     ]
    }
   ],
   "source": [
    "for images, text in data_train:\n",
    "  print(text)"
   ]
  },
  {
   "cell_type": "code",
   "execution_count": 91,
   "metadata": {},
   "outputs": [
    {
     "name": "stdout",
     "output_type": "stream",
     "text": [
      "tf.Tensor([4 3 4 2 1 8 7 5 5 3 3 4 5 5 6 8 1 2 2 3 5 3 1 6 8 5 5 3 6 7 3 0], shape=(32,), dtype=int32)\n",
      "tf.Tensor([6 3 7 6 0 6 3 5 1 8 3 0 6 3 4 6 3 3 3 5 2 0 4 1 6 5 0 0 3 7 4 0], shape=(32,), dtype=int32)\n",
      "tf.Tensor([3 5 6 0 5 4 6 2 7 8 6 7 7 8 2 0 7 0 3 3 3 2 4 6 2 4 8 3 6 8 2 7], shape=(32,), dtype=int32)\n",
      "tf.Tensor([6 6 5 7 7 2 0 1 7 0 8 0 3 7 5 7 6 0 8 1 7 6 3 1 5 8 0 1 6 6 8 8], shape=(32,), dtype=int32)\n",
      "tf.Tensor([2 8 8 3 8 3 4 7 2 3 7 1 2 3 3 2 5 6 3 4 7 8 7 8 2 6 8 3 5 7 8 6], shape=(32,), dtype=int32)\n",
      "tf.Tensor([0 5 4 5 0 8 1 0 3 3 1 5 7 5 7 7 8 8 5 7 7 4 4 1 5], shape=(25,), dtype=int32)\n"
     ]
    }
   ],
   "source": [
    "for images, text in data_test:\n",
    "  print(text)"
   ]
  },
  {
   "cell_type": "markdown",
   "metadata": {},
   "source": [
    "### Split"
   ]
  },
  {
   "cell_type": "code",
   "execution_count": 92,
   "metadata": {},
   "outputs": [
    {
     "data": {
      "text/plain": [
       "20"
      ]
     },
     "execution_count": 92,
     "metadata": {},
     "output_type": "execute_result"
    }
   ],
   "source": [
    "len(data_train)"
   ]
  },
  {
   "cell_type": "code",
   "execution_count": 93,
   "metadata": {},
   "outputs": [
    {
     "name": "stdout",
     "output_type": "stream",
     "text": [
      "14\n",
      "6\n"
     ]
    }
   ],
   "source": [
    "train_size = int(len(data_train)*0.7)\n",
    "val_size = int(len(data_train)*0.3)\n",
    "\n",
    "print(train_size)\n",
    "print(val_size)"
   ]
  },
  {
   "cell_type": "code",
   "execution_count": 94,
   "metadata": {},
   "outputs": [],
   "source": [
    "train = data_train.take(train_size)\n",
    "val = data_train.skip(train_size).take(val_size)"
   ]
  },
  {
   "cell_type": "markdown",
   "metadata": {},
   "source": [
    "# Build Model"
   ]
  },
  {
   "cell_type": "code",
   "execution_count": 95,
   "metadata": {},
   "outputs": [],
   "source": [
    "from keras.models import Sequential\n",
    "from keras.layers import Conv2D, MaxPooling2D, Dense, Flatten, Dropout "
   ]
  },
  {
   "cell_type": "code",
   "execution_count": 96,
   "metadata": {},
   "outputs": [],
   "source": [
    "model = Sequential()\n",
    "\n",
    "model.add(Conv2D(16,(3,3),1, activation='relu', input_shape = (256,256,3)))\n",
    "model.add(MaxPooling2D(pool_size=(2, 2), strides=(2, 2)))\n",
    "\n",
    "model.add(Conv2D(32,(3,3),1, activation='relu'))\n",
    "model.add(MaxPooling2D(pool_size=(2, 2), strides=(2, 2)))\n",
    "\n",
    "model.add(Conv2D(16,(3,3),1, activation='relu'))\n",
    "model.add(MaxPooling2D(pool_size=(2, 2), strides=(2, 2)))\n",
    "\n",
    "model.add(Flatten())\n",
    "\n",
    "model.add(Dense(256,activation='relu'))\n",
    "model.add(Dense(9,activation='softmax'))\n"
   ]
  },
  {
   "cell_type": "code",
   "execution_count": 97,
   "metadata": {},
   "outputs": [],
   "source": [
    "model.compile(optimizer='adam',\n",
    "              loss=tf.keras.losses.SparseCategoricalCrossentropy(from_logits=True),\n",
    "              metrics=['accuracy'])"
   ]
  },
  {
   "cell_type": "code",
   "execution_count": 98,
   "metadata": {},
   "outputs": [
    {
     "name": "stdout",
     "output_type": "stream",
     "text": [
      "Model: \"sequential_2\"\n",
      "_________________________________________________________________\n",
      " Layer (type)                Output Shape              Param #   \n",
      "=================================================================\n",
      " conv2d_6 (Conv2D)           (None, 254, 254, 16)      448       \n",
      "                                                                 \n",
      " max_pooling2d_6 (MaxPoolin  (None, 127, 127, 16)      0         \n",
      " g2D)                                                            \n",
      "                                                                 \n",
      " conv2d_7 (Conv2D)           (None, 125, 125, 32)      4640      \n",
      "                                                                 \n",
      " max_pooling2d_7 (MaxPoolin  (None, 62, 62, 32)        0         \n",
      " g2D)                                                            \n",
      "                                                                 \n",
      " conv2d_8 (Conv2D)           (None, 60, 60, 16)        4624      \n",
      "                                                                 \n",
      " max_pooling2d_8 (MaxPoolin  (None, 30, 30, 16)        0         \n",
      " g2D)                                                            \n",
      "                                                                 \n",
      " flatten_2 (Flatten)         (None, 14400)             0         \n",
      "                                                                 \n",
      " dense_4 (Dense)             (None, 256)               3686656   \n",
      "                                                                 \n",
      " dense_5 (Dense)             (None, 9)                 2313      \n",
      "                                                                 \n",
      "=================================================================\n",
      "Total params: 3698681 (14.11 MB)\n",
      "Trainable params: 3698681 (14.11 MB)\n",
      "Non-trainable params: 0 (0.00 Byte)\n",
      "_________________________________________________________________\n"
     ]
    }
   ],
   "source": [
    "model.summary()"
   ]
  },
  {
   "cell_type": "markdown",
   "metadata": {},
   "source": [
    "# Train"
   ]
  },
  {
   "cell_type": "code",
   "execution_count": 99,
   "metadata": {},
   "outputs": [],
   "source": [
    "tensorboard_callback = tf.keras.callbacks.TensorBoard(log_dir='logs')"
   ]
  },
  {
   "cell_type": "code",
   "execution_count": 100,
   "metadata": {},
   "outputs": [
    {
     "name": "stdout",
     "output_type": "stream",
     "text": [
      "Epoch 1/19\n"
     ]
    },
    {
     "name": "stderr",
     "output_type": "stream",
     "text": [
      "/Users/thiraputkongnok/anaconda3/envs/env_imageProcessing/lib/python3.11/site-packages/keras/src/backend.py:5727: UserWarning: \"`sparse_categorical_crossentropy` received `from_logits=True`, but the `output` argument was produced by a Softmax activation and thus does not represent logits. Was this intended?\n",
      "  output, from_logits = _get_logits(\n"
     ]
    },
    {
     "name": "stdout",
     "output_type": "stream",
     "text": [
      "14/14 [==============================] - 5s 327ms/step - loss: 2.1444 - accuracy: 0.2321 - val_loss: 2.0039 - val_accuracy: 0.2254\n",
      "Epoch 2/19\n",
      "14/14 [==============================] - 5s 335ms/step - loss: 2.0164 - accuracy: 0.2589 - val_loss: 1.9616 - val_accuracy: 0.3295\n",
      "Epoch 3/19\n",
      "14/14 [==============================] - 5s 300ms/step - loss: 1.8714 - accuracy: 0.3013 - val_loss: 1.7186 - val_accuracy: 0.3295\n",
      "Epoch 4/19\n",
      "14/14 [==============================] - 5s 297ms/step - loss: 1.6844 - accuracy: 0.3862 - val_loss: 1.6115 - val_accuracy: 0.3931\n",
      "Epoch 5/19\n",
      "14/14 [==============================] - 5s 299ms/step - loss: 1.5376 - accuracy: 0.4598 - val_loss: 1.4630 - val_accuracy: 0.4740\n",
      "Epoch 6/19\n",
      "14/14 [==============================] - 5s 304ms/step - loss: 1.3105 - accuracy: 0.5223 - val_loss: 1.1571 - val_accuracy: 0.6301\n",
      "Epoch 7/19\n",
      "14/14 [==============================] - 5s 305ms/step - loss: 1.1203 - accuracy: 0.6228 - val_loss: 1.0794 - val_accuracy: 0.6532\n",
      "Epoch 8/19\n",
      "14/14 [==============================] - 5s 306ms/step - loss: 0.9395 - accuracy: 0.6875 - val_loss: 0.8405 - val_accuracy: 0.7572\n",
      "Epoch 9/19\n",
      "14/14 [==============================] - 5s 309ms/step - loss: 0.7096 - accuracy: 0.8080 - val_loss: 0.7541 - val_accuracy: 0.7688\n",
      "Epoch 10/19\n",
      "14/14 [==============================] - 5s 308ms/step - loss: 0.5346 - accuracy: 0.8504 - val_loss: 0.5533 - val_accuracy: 0.8266\n",
      "Epoch 11/19\n",
      "14/14 [==============================] - 5s 312ms/step - loss: 0.4948 - accuracy: 0.8906 - val_loss: 0.2618 - val_accuracy: 0.9306\n",
      "Epoch 12/19\n",
      "14/14 [==============================] - 5s 313ms/step - loss: 0.2722 - accuracy: 0.9308 - val_loss: 0.2618 - val_accuracy: 0.9364\n",
      "Epoch 13/19\n",
      "14/14 [==============================] - 5s 314ms/step - loss: 0.2542 - accuracy: 0.9643 - val_loss: 0.3643 - val_accuracy: 0.8902\n",
      "Epoch 14/19\n",
      "14/14 [==============================] - 5s 322ms/step - loss: 0.3084 - accuracy: 0.9330 - val_loss: 0.2372 - val_accuracy: 0.9422\n",
      "Epoch 15/19\n",
      "14/14 [==============================] - 5s 326ms/step - loss: 0.2262 - accuracy: 0.9643 - val_loss: 0.1990 - val_accuracy: 0.9538\n",
      "Epoch 16/19\n",
      "14/14 [==============================] - 5s 316ms/step - loss: 0.2137 - accuracy: 0.9665 - val_loss: 0.1195 - val_accuracy: 0.9827\n",
      "Epoch 17/19\n",
      "14/14 [==============================] - 5s 327ms/step - loss: 0.1039 - accuracy: 0.9799 - val_loss: 0.2693 - val_accuracy: 0.9711\n",
      "Epoch 18/19\n",
      "14/14 [==============================] - 5s 340ms/step - loss: 0.2147 - accuracy: 0.9688 - val_loss: 0.1919 - val_accuracy: 0.9653\n",
      "Epoch 19/19\n",
      "14/14 [==============================] - 5s 329ms/step - loss: 0.0983 - accuracy: 0.9799 - val_loss: 0.1226 - val_accuracy: 0.9538\n"
     ]
    }
   ],
   "source": [
    "hist = model.fit(train,epochs=19,validation_data=val, callbacks=[tensorboard_callback])"
   ]
  },
  {
   "cell_type": "code",
   "execution_count": 101,
   "metadata": {},
   "outputs": [
    {
     "data": {
      "image/png": "[encoded data removed]",
      "text/plain": [
       "<Figure size 640x480 with 1 Axes>"
      ]
     },
     "metadata": {},
     "output_type": "display_data"
    }
   ],
   "source": [
    "fig = plt.figure()\n",
    "plt.plot(hist.history['loss'], color='blue', label='loss')\n",
    "plt.plot(hist.history['val_loss'], color='red', label='val_loss')\n",
    "fig.suptitle('loss',fontsize=20)\n",
    "plt.legend(loc=\"upper left\")\n",
    "plt.show()"
   ]
  },
  {
   "cell_type": "code",
   "execution_count": 102,
   "metadata": {},
   "outputs": [
    {
     "data": {
      "image/png": "[encoded data removed]",
      "text/plain": [
       "<Figure size 640x480 with 1 Axes>"
      ]
     },
     "metadata": {},
     "output_type": "display_data"
    }
   ],
   "source": [
    "fig = plt.figure()\n",
    "plt.plot(hist.history['accuracy'], color='blue', label='accuracy')\n",
    "plt.plot(hist.history['val_accuracy'], color='red', label='val_accuracy')\n",
    "fig.suptitle('accuracy',fontsize=20)\n",
    "plt.legend(loc=\"upper left\")\n",
    "plt.show()"
   ]
  },
  {
   "cell_type": "markdown",
   "metadata": {},
   "source": [
    "# Evauation"
   ]
  },
  {
   "cell_type": "code",
   "execution_count": 103,
   "metadata": {},
   "outputs": [],
   "source": [
    "from keras.metrics import Precision, Recall, BinaryAccuracy"
   ]
  },
  {
   "cell_type": "code",
   "execution_count": 104,
   "metadata": {},
   "outputs": [],
   "source": [
    "pre = Precision()\n",
    "re = Recall()\n",
    "acc = BinaryAccuracy()"
   ]
  },
  {
   "cell_type": "code",
   "execution_count": 106,
   "metadata": {},
   "outputs": [
    {
     "data": {
      "text/plain": [
       "6"
      ]
     },
     "execution_count": 106,
     "metadata": {},
     "output_type": "execute_result"
    }
   ],
   "source": [
    "len(data_test)"
   ]
  },
  {
   "cell_type": "code",
   "execution_count": 113,
   "metadata": {},
   "outputs": [
    {
     "name": "stdout",
     "output_type": "stream",
     "text": [
      "1/1 [==============================] - 0s 64ms/step\n",
      "test_set  : [4 3 3 4 3 7 2 6 4 8 2 5 4 7 5 6 1 1 6 8 0 1 5 4 6 6 7 3 6 5 0 2]\n",
      "prediction: [4 3 3 4 7 8 8 8 4 8 7 8 1 0 8 8 4 0 6 8 2 0 8 1 8 8 5 7 8 5 2 0]\n",
      "1/1 [==============================] - 0s 62ms/step\n",
      "test_set  : [7 3 5 6 8 3 0 0 4 1 7 1 1 7 6 7 5 5 8 3 8 3 3 7 8 2 2 3 7 7 3 1]\n",
      "prediction: [8 6 1 6 0 3 0 8 8 4 0 5 8 0 8 3 0 1 6 3 1 0 0 7 0 7 2 0 0 1 3 1]\n",
      "1/1 [==============================] - 0s 62ms/step\n",
      "test_set  : [7 3 2 3 6 6 3 5 0 8 7 7 5 8 6 2 5 3 1 0 6 2 6 3 5 4 0 0 6 8 3 8]\n",
      "prediction: [6 3 7 3 8 2 0 7 0 8 8 4 8 1 8 0 4 4 8 4 8 6 8 0 8 8 0 0 8 8 6 7]\n",
      "1/1 [==============================] - 0s 64ms/step\n",
      "test_set  : [3 5 7 5 7 0 5 4 3 8 5 4 0 4 6 8 0 3 1 1 6 4 5 4 0 8 6 8 5 3 7 3]\n",
      "prediction: [2 7 4 0 8 6 5 4 1 8 7 8 0 1 6 7 0 0 5 8 6 4 7 8 0 8 8 8 6 3 6 3]\n",
      "1/1 [==============================] - 0s 65ms/step\n",
      "test_set  : [8 6 7 3 3 2 5 6 3 5 2 7 6 8 5 7 0 8 7 8 5 5 2 2 6 7 3 7 8 0 3 8]\n",
      "prediction: [8 6 6 3 5 2 7 2 0 4 6 1 6 3 8 1 5 0 3 5 5 0 0 7 6 6 0 0 5 6 3 8]\n",
      "1/1 [==============================] - 0s 52ms/step\n",
      "test_set  : [6 0 3 7 5 8 8 6 0 3 2 7 1 4 2 2 7 0 3 0 8 1 1 3 4]\n",
      "prediction: [2 1 3 6 5 8 8 8 6 3 0 6 1 7 8 8 5 3 7 6 0 1 8 0 4]\n"
     ]
    }
   ],
   "source": [
    "for batch in data_test:\n",
    "    X,y = batch\n",
    "    yhat = model.predict(X)\n",
    "    yhat_array = []\n",
    "\n",
    "    for yhat_i in yhat:\n",
    "        yhat_array.append(yhat_i.argmax())\n",
    "    \n",
    "    yhat_array = np.array(yhat_array)\n",
    "    \n",
    "    print(\"test_set  :\",y.numpy())\n",
    "    print(\"prediction:\",yhat_array)\n",
    "    \n",
    "    pre.update_state(y, yhat_array)\n",
    "    re.update_state(y, yhat_array)\n",
    "    acc.update_state(y, yhat_array)"
   ]
  },
  {
   "cell_type": "code",
   "execution_count": 114,
   "metadata": {},
   "outputs": [
    {
     "name": "stdout",
     "output_type": "stream",
     "text": [
      "Precision:0.9271523356437683, Recall:0.8383233547210693, Accuracy:0.0972972959280014\n"
     ]
    }
   ],
   "source": [
    "print(f'Precision:{pre.result().numpy()}, Recall:{re.result().numpy()}, Accuracy:{acc.result().numpy()}')"
   ]
  }
 ],
 "metadata": {
  "kernelspec": {
   "display_name": "env_ImageProcessing",
   "language": "python",
   "name": "python3"
  },
  "language_info": {
   "codemirror_mode": {
    "name": "ipython",
    "version": 3
   },
   "file_extension": ".py",
   "mimetype": "text/x-python",
   "name": "python",
   "nbconvert_exporter": "python",
   "pygments_lexer": "ipython3",
   "version": "3.11.5"
  }
 },
 "nbformat": 4,
 "nbformat_minor": 2
}
