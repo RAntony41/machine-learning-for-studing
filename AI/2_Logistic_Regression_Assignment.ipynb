{
  "cells": [
    {
      "cell_type": "code",
      "execution_count": 196,
      "metadata": {
        "id": "6a1xnVuSDfWI"
      },
      "outputs": [],
      "source": [
        "import numpy as np\n",
        "import pandas as pd\n",
        "import matplotlib.pyplot as plt\n",
        "import random\n"
      ]
    },
    {
      "cell_type": "markdown",
      "metadata": {
        "id": "zt_HUIhIEAds"
      },
      "source": [
        "# Logistic Regression Assignment Solution"
      ]
    },
    {
      "cell_type": "markdown",
      "metadata": {
        "id": "DMv0ncIKEGB6"
      },
      "source": [
        "## 1. Logistic Regression with 2 Features"
      ]
    },
    {
      "cell_type": "markdown",
      "metadata": {
        "id": "dCFz6ZqOSRCv"
      },
      "source": [
        "1.1 Create your simulated dataset as a normal distribution."
      ]
    },
    {
      "cell_type": "code",
      "execution_count": 197,
      "metadata": {
        "id": "_FrgKJhBEEwd"
      },
      "outputs": [],
      "source": [
        "np.random.seed(42)\n",
        "\n",
        "num_samples = 40\n",
        "\n",
        "# Class 0 data\n",
        "x_1 = np.random.multivariate_normal([2, 2], [[1, .75],[.75, 1]], num_samples)\n",
        "y_1 = np.zeros(num_samples)\n",
        "\n",
        "# Class 1 data\n",
        "x_2 = np.random.multivariate_normal([-1, -1], [[1, .75],[.75, 1]], num_samples)\n",
        "y_2 = np.ones(num_samples)\n",
        "\n",
        "# Combining the data\n",
        "X = np.vstack((x_1, x_2))\n",
        "y = np.hstack((y_1, y_2))\n",
        "X = np.insert(X,0,np.ones(X.shape[0]),axis=1)"
      ]
    },
    {
      "cell_type": "markdown",
      "metadata": {
        "id": "hRVF-BE5SbvO"
      },
      "source": [
        "1.2 Plot to see the 2 classes in your dateset."
      ]
    },
    {
      "cell_type": "code",
      "execution_count": 198,
      "metadata": {
        "colab": {
          "base_uri": "https://localhost:8080/",
          "height": 333
        },
        "id": "egIoAc2GEKoq",
        "outputId": "3d3e1dd3-8491-494c-be3b-3c700eb609a6"
      },
      "outputs": [
        {
          "data": {
            "image/png": "[encoded data removed]",
            "text/plain": [
              "<Figure size 500x300 with 1 Axes>"
            ]
          },
          "metadata": {},
          "output_type": "display_data"
        }
      ],
      "source": [
        "plt.figure(figsize=(5,3))\n",
        "plt.scatter(x_1[:,0], x_1[:,1], color='red', label='Class 0')\n",
        "plt.scatter(x_2[:,0], x_2[:,1], color='blue', label='Class 1')\n",
        "\n",
        "plt.xlabel('Feature 1')\n",
        "plt.ylabel('Feature 2')\n",
        "plt.title('Plot of data set to see the two classes.')\n",
        "plt.legend()\n",
        "plt.show()"
      ]
    },
    {
      "cell_type": "markdown",
      "metadata": {
        "id": "PVSBCxy7TQ2j"
      },
      "source": [
        "1.3 Randomize initial values for theta. <font color='red'> Complete the initializeTheta() function and verify the results. </font>"
      ]
    },
    {
      "cell_type": "code",
      "execution_count": 199,
      "metadata": {
        "id": "Uj_DnlOuTPpP"
      },
      "outputs": [],
      "source": [
        "def initializeTheta(X, random_seed):\n",
        "  random.seed(random_seed)\n",
        "  # Use random.random() to generate random numbers between -1 and +1. Return a numpy array of theta such that [ theta_0, theta_1, theta_2, ... , theta_n ]\n",
        "  thetaArray = []\n",
        "  row,columns = X.shape\n",
        "  \n",
        "  for _ in range(columns):\n",
        "    thetaArray.append(2*random.random() - 1)\n",
        "    \n",
        "  return np.array(thetaArray)"
      ]
    },
    {
      "cell_type": "code",
      "execution_count": 200,
      "metadata": {
        "id": "5_ef08x2LFBy"
      },
      "outputs": [],
      "source": [
        "expected_array = np.array([ 0.2788536 , -0.94997849, -0.44994136])\n",
        "assert np.allclose( initializeTheta(X,42) , expected_array)"
      ]
    },
    {
      "cell_type": "markdown",
      "metadata": {
        "id": "n-Ny6PSlShU5"
      },
      "source": [
        "1.4 Write out the prediction function. <font color='red'> Complete the sigmoid() function and the prediction() function and verify the results. </font>"
      ]
    },
    {
      "cell_type": "code",
      "execution_count": 201,
      "metadata": {
        "id": "G3GwY6P0Ei1R"
      },
      "outputs": [],
      "source": [
        "def sigmoid(z):\n",
        "    # Write out the sigmoid function.\n",
        "    return 1 / (1 + np.exp(-z))\n",
        "\n",
        "def prediction(X, c, m1, m2):\n",
        "  # Write out the prediction function.\n",
        "  z = np.dot(X,np.array([c,m1,m2]).T)\n",
        "  h = sigmoid(z)\n",
        "  return h"
      ]
    },
    {
      "cell_type": "code",
      "execution_count": 202,
      "metadata": {},
      "outputs": [
        {
          "data": {
            "text/plain": [
              "array([ 0.2788536 , -0.94997849, -0.44994136])"
            ]
          },
          "execution_count": 202,
          "metadata": {},
          "output_type": "execute_result"
        }
      ],
      "source": [
        "initializeTheta(X, 42)"
      ]
    },
    {
      "cell_type": "code",
      "execution_count": 203,
      "metadata": {},
      "outputs": [],
      "source": [
        "thetaArray = initializeTheta(X, 42)\n",
        "theta0 = thetaArray[0]\n",
        "theta1 = thetaArray[1]\n",
        "theta2 = thetaArray[2]\n",
        "h = prediction(X, theta0, theta1, theta2)\n",
        "assert np.allclose(   h.sum() , 34.49833349468386  )"
      ]
    },
    {
      "cell_type": "markdown",
      "metadata": {
        "id": "MEEhkeEtSsDb"
      },
      "source": [
        "1.5 Write out the log loss function. <font color='red'> Complete the logLoss() function and verify the results. </font>"
      ]
    },
    {
      "cell_type": "code",
      "execution_count": 204,
      "metadata": {
        "id": "EdkZPSE7GApm"
      },
      "outputs": [],
      "source": [
        "def logLoss(h,y):\n",
        "  # Write out the log loss function and return the loss.\n",
        "  rows = len(y)\n",
        "  \n",
        "  cost = []\n",
        "  for row in range(rows):\n",
        "    if y[row] == 1:\n",
        "      cost.append( -np.log(h[row]))\n",
        "    else:\n",
        "      cost.append( -np.log(1 - h[row]))\n",
        "      \n",
        "  return np.mean(cost)"
      ]
    },
    {
      "cell_type": "code",
      "execution_count": 205,
      "metadata": {},
      "outputs": [
        {
          "data": {
            "text/plain": [
              "0.19866191835309335"
            ]
          },
          "execution_count": 205,
          "metadata": {},
          "output_type": "execute_result"
        }
      ],
      "source": [
        "logLoss(h,y)"
      ]
    },
    {
      "cell_type": "code",
      "execution_count": 206,
      "metadata": {
        "id": "jcupULFzNvt3"
      },
      "outputs": [],
      "source": [
        "assert np.allclose( logLoss(h,y) , 0.1986619183530933)"
      ]
    },
    {
      "cell_type": "markdown",
      "metadata": {
        "id": "T1_zY0JHSwBe"
      },
      "source": [
        "1.6 Write out the dJ/dTheta gradient calculation function. <font color='red'> Complete the gradients() function and verify the results. </font>"
      ]
    },
    {
      "cell_type": "code",
      "execution_count": 207,
      "metadata": {
        "id": "SxNTkh1hNxFX"
      },
      "outputs": [],
      "source": [
        "def gradients(X,y,h):\n",
        "  # Calculate the gradient and return them as a numpy array [ dTheta_0, dTheta_1, ... , dTheta_n].  \n",
        "  dThetas = (1/len(X)) * np.dot(X.T,(h - y))\n",
        "  \n",
        "  return dThetas\n",
        "  "
      ]
    },
    {
      "cell_type": "code",
      "execution_count": 208,
      "metadata": {},
      "outputs": [
        {
          "data": {
            "text/plain": [
              "array([-0.06877083,  0.09302227,  0.10442537])"
            ]
          },
          "execution_count": 208,
          "metadata": {},
          "output_type": "execute_result"
        }
      ],
      "source": [
        "gradients(X,y,h)"
      ]
    },
    {
      "cell_type": "code",
      "execution_count": 209,
      "metadata": {
        "id": "NDibinXjOYYt"
      },
      "outputs": [],
      "source": [
        "dThetaArray = gradients(X,y,h)\n",
        "expected_array = np.array([-0.06877083,  0.09302227,  0.10442537])\n",
        "assert np.allclose( dThetaArray , expected_array)"
      ]
    },
    {
      "cell_type": "markdown",
      "metadata": {
        "id": "qYBR4fFbS6ph"
      },
      "source": [
        "1.7 Update the gradients. <font color='red'> Complete the updateTheta() function and verify the results. </font>"
      ]
    },
    {
      "cell_type": "code",
      "execution_count": 210,
      "metadata": {
        "id": "bMkGMGzSR2UV"
      },
      "outputs": [],
      "source": [
        "def updateTheta(X, thetaArray, dThetaArray, learning_rate):\n",
        "  # Calculate the new values for theta and return them as a numpy array [theta_0, theta_1, ... , theta_n].\n",
        "  return thetaArray - learning_rate * dThetaArray"
      ]
    },
    {
      "cell_type": "code",
      "execution_count": 211,
      "metadata": {},
      "outputs": [
        {
          "data": {
            "text/plain": [
              "array([ 0.27954131, -0.95090871, -0.45098562])"
            ]
          },
          "execution_count": 211,
          "metadata": {},
          "output_type": "execute_result"
        }
      ],
      "source": [
        "updateTheta(X, thetaArray, dThetaArray, 0.01)"
      ]
    },
    {
      "cell_type": "code",
      "execution_count": 212,
      "metadata": {
        "id": "xYlzVpFyTqxU"
      },
      "outputs": [],
      "source": [
        "theta_updated = updateTheta(X, thetaArray, dThetaArray, 0.01)\n",
        "expected_array = np.array([ 0.27954131, -0.95090871, -0.45098562])\n",
        "assert np.allclose( theta_updated , expected_array)"
      ]
    },
    {
      "cell_type": "code",
      "execution_count": 213,
      "metadata": {},
      "outputs": [
        {
          "name": "stdout",
          "output_type": "stream",
          "text": [
            "[ 0.2788536  -0.94997849 -0.44994136]\n",
            "[-0.06877083  0.09302227  0.10442537]\n"
          ]
        }
      ],
      "source": [
        "print(thetaArray)\n",
        "print(dThetaArray)"
      ]
    },
    {
      "cell_type": "markdown",
      "metadata": {
        "id": "VwRknKAnXOmG"
      },
      "source": [
        "1.8 Putting it all together. <font color='red'> Complete the runLogisticRegression_2Features() function and verify the results. </font>"
      ]
    },
    {
      "cell_type": "code",
      "execution_count": 214,
      "metadata": {
        "id": "R2Hkk170Trrh"
      },
      "outputs": [],
      "source": [
        "def runLogisticRegression_2Features(X,y,iterations, learning_rate):\n",
        "  # Complete this function here to run logistic regression using the functions you have previously created.\n",
        "  # Return the values of the final model loss and theta array\n",
        "  thetaArray = initializeTheta(X, 42)\n",
        "  theta0 = thetaArray[0]\n",
        "  theta1 = thetaArray[1]\n",
        "  theta2 = thetaArray[2]\n",
        "  h = prediction(X, theta0, theta1, theta2)\n",
        "\n",
        "  for _ in range(iterations):\n",
        "    h = prediction(X, theta0, theta1, theta2)\n",
        "    dThetaArray = gradients(X,y,h)\n",
        "    thetaArray = updateTheta(X, thetaArray, dThetaArray, learning_rate)\n",
        "    \n",
        "    theta0 = thetaArray[0]\n",
        "    theta1 = thetaArray[1]\n",
        "    theta2 = thetaArray[2]\n",
        "    \n",
        "  loss = logLoss(h,y)\n",
        "    \n",
        "    \n",
        "  return loss, thetaArray"
      ]
    },
    {
      "cell_type": "code",
      "execution_count": 215,
      "metadata": {},
      "outputs": [
        {
          "name": "stdout",
          "output_type": "stream",
          "text": [
            "0.1792548255021849\n",
            "[ 0.34627922 -1.03070157 -0.54178807]\n"
          ]
        }
      ],
      "source": [
        "loss, thetaArray = runLogisticRegression_2Features(X,y,100, 0.01)\n",
        "print(loss)\n",
        "print(thetaArray)"
      ]
    },
    {
      "cell_type": "code",
      "execution_count": 216,
      "metadata": {
        "colab": {
          "base_uri": "https://localhost:8080/"
        },
        "id": "a5BP5eOKYcQU",
        "outputId": "1a322626-242c-4af2-d483-8cbf6d6ae33b"
      },
      "outputs": [],
      "source": [
        "loss, thetaArray = runLogisticRegression_2Features(X,y,100, 0.01)\n",
        "assert np.allclose( loss , 0.17925482550218486 )"
      ]
    },
    {
      "cell_type": "markdown",
      "metadata": {
        "id": "7clxVLDZZDZz"
      },
      "source": [
        "1.9 Plot the results. <font color='red'> To plot the result including the decision boundary you have to complete the calFeature2Values() function and verify the results. </font>"
      ]
    },
    {
      "cell_type": "code",
      "execution_count": 217,
      "metadata": {
        "id": "9Zvs_UCyYm9Z"
      },
      "outputs": [],
      "source": [
        "def calFeature2Values(x_values, c, m1, m2):\n",
        "  # Calculate the feature2_val and return it\n",
        "  feature2_val = -(m1* x_values +c)/ m2\n",
        "  return feature2_val\n",
        "\n",
        "def plotResult2D( x_1,x_2, c,m1,m2):\n",
        "  plt.figure(figsize=(5,3))\n",
        "  plt.scatter(x_1[:,0], x_1[:,1], color='red', label='Class 0')\n",
        "  plt.scatter(x_2[:,0], x_2[:,1], color='blue', label='Class 1')\n",
        "\n",
        "  # Decision boundary\n",
        "  x_values = np.linspace(-4, 4, 100)\n",
        "  y_values = calFeature2Values(x_values, c, m1, m2)\n",
        "  plt.plot(x_values, y_values, label='Decision Boundary', color='green')\n",
        "\n",
        "  plt.xlabel('Feature 1')\n",
        "  plt.ylabel('Feature 2')\n",
        "  plt.title('Logistic Regression using Gradient Descent')\n",
        "  plt.legend()\n",
        "  plt.show()"
      ]
    },
    {
      "cell_type": "code",
      "execution_count": 218,
      "metadata": {
        "colab": {
          "base_uri": "https://localhost:8080/",
          "height": 333
        },
        "id": "qNRAcN1hZklU",
        "outputId": "16dd5ffd-2e99-4e06-b579-fbd6b487de7a"
      },
      "outputs": [
        {
          "data": {
            "image/png": "[encoded data removed]",
            "text/plain": [
              "<Figure size 500x300 with 1 Axes>"
            ]
          },
          "metadata": {},
          "output_type": "display_data"
        }
      ],
      "source": [
        "plotResult2D(x_1, x_2, thetaArray[0], thetaArray[1], thetaArray[2])"
      ]
    },
    {
      "cell_type": "markdown",
      "metadata": {
        "id": "pfJ-nMYntarZ"
      },
      "source": [
        "## 2. Logistic Regression Multiple Features"
      ]
    },
    {
      "cell_type": "markdown",
      "metadata": {
        "id": "NwaozBT5wr2q"
      },
      "source": [
        "2.1 Prepare the data. We will just use the same data as before but this time we will pad a set of ones to the matrix. <font color='red'> Modify the X matrix so that it is in a suitable format for matrix formulation with n features. </font>"
      ]
    },
    {
      "cell_type": "code",
      "execution_count": 219,
      "metadata": {
        "id": "KxmJtU7KZ0-H"
      },
      "outputs": [],
      "source": [
        "# Use the same data as before but pad ones to the X matrix\n",
        "np.random.seed(42)\n",
        "\n",
        "num_samples = 40\n",
        "\n",
        "# Class 0 data\n",
        "x_1 = np.random.multivariate_normal([2, 2], [[1, .75],[.75, 1]], num_samples)\n",
        "y_1 = np.zeros(num_samples)\n",
        "\n",
        "# Class 1 data\n",
        "x_2 = np.random.multivariate_normal([-1, -1], [[1, .75],[.75, 1]], num_samples)\n",
        "y_2 = np.ones(num_samples)\n",
        "\n",
        "# Combining the data\n",
        "X = np.vstack((x_1, x_2))\n",
        "y = np.hstack((y_1, y_2))\n",
        "\n",
        "# Modify your X and overwrite the result.\n",
        "X = np.insert(X,0,np.ones(X.shape[0]),axis=1)"
      ]
    },
    {
      "cell_type": "code",
      "execution_count": 220,
      "metadata": {
        "id": "UwOtHkYmaNBu"
      },
      "outputs": [],
      "source": [
        "assert X[:,0].mean() == 1"
      ]
    },
    {
      "cell_type": "markdown",
      "metadata": {
        "id": "LwXDyOlnxE0T"
      },
      "source": [
        "2.2 Initialize theta but this time we will alter the code slightly to account for the differnt X. <font color='red'> Complete the initializeTheta_nFeatures() function and verify the results. </font>"
      ]
    },
    {
      "cell_type": "code",
      "execution_count": 221,
      "metadata": {
        "id": "lR75wmPCZ-_u"
      },
      "outputs": [],
      "source": [
        "def initializeTheta_nFeatures(X, random_seed):\n",
        "  random.seed(random_seed)\n",
        "  # Calculate random values for theta array between -1 and +1. Use random.random()\n",
        "  # Return theta valuese in a numpy array of format [ theta_0, theta_1, ... , theta_n ]\n",
        "  thetaArray = []\n",
        "  _,columns = X.shape\n",
        "  \n",
        "  for _ in range(columns):\n",
        "    thetaArray.append(2*random.random() - 1)\n",
        "                      \n",
        "  return thetaArray"
      ]
    },
    {
      "cell_type": "code",
      "execution_count": 222,
      "metadata": {},
      "outputs": [
        {
          "data": {
            "text/plain": [
              "[0.2788535969157675, -0.9499784895546661, -0.4499413632617615]"
            ]
          },
          "execution_count": 222,
          "metadata": {},
          "output_type": "execute_result"
        }
      ],
      "source": [
        "initializeTheta_nFeatures(X,42)"
      ]
    },
    {
      "cell_type": "code",
      "execution_count": 223,
      "metadata": {
        "id": "9VHPLpBauDLD"
      },
      "outputs": [],
      "source": [
        "thetaArray = initializeTheta_nFeatures(X,42)\n",
        "expected_array = np.array([ 0.2788536 , -0.94997849, -0.44994136])\n",
        "assert np.allclose( thetaArray , expected_array)"
      ]
    },
    {
      "cell_type": "markdown",
      "metadata": {
        "id": "m5t0OigBxH8e"
      },
      "source": [
        "2.3 Make prediction using matrix multiplication. <font color='red'> Complete the prediction_nFeatures() function and verify the results. </font>"
      ]
    },
    {
      "cell_type": "code",
      "execution_count": 224,
      "metadata": {
        "id": "qfGN9WP-azAZ"
      },
      "outputs": [],
      "source": [
        "def prediction_nFeatures(X, thetaArray):\n",
        "  # Write prediction function using matrix operations.\n",
        "  z = np.dot(X,thetaArray)\n",
        "  h = sigmoid(z)\n",
        "  return h"
      ]
    },
    {
      "cell_type": "code",
      "execution_count": 225,
      "metadata": {
        "id": "PIZKLFgIu5lV"
      },
      "outputs": [],
      "source": [
        "h = prediction_nFeatures(X, thetaArray)\n",
        "assert np.allclose( h.sum() , 34.49833349468386 )"
      ]
    },
    {
      "cell_type": "markdown",
      "metadata": {
        "id": "GXOEeEGIxsE-"
      },
      "source": [
        "2.4 Calculate and verify the loss."
      ]
    },
    {
      "cell_type": "code",
      "execution_count": 226,
      "metadata": {
        "id": "xsTWu9ucxaCG"
      },
      "outputs": [],
      "source": [
        "loss = logLoss(h,y)\n",
        "assert np.allclose( loss , 0.19866191835309333 )"
      ]
    },
    {
      "cell_type": "markdown",
      "metadata": {
        "id": "a6MlCVyPx5ZD"
      },
      "source": [
        "2.5 Calculate the gradients. <font color='red'> Complete the gradients_nFeatures() function and verify the results. </font>"
      ]
    },
    {
      "cell_type": "code",
      "execution_count": 227,
      "metadata": {
        "id": "sK4_n2UKx9j2"
      },
      "outputs": [],
      "source": [
        "def gradients_nFeatures(X,y,h):\n",
        "  # Write gradients function using matrix operations.\n",
        "  dThetas = (1/len(X)) * np.dot(X.T,(h - y))\n",
        "  return dThetas"
      ]
    },
    {
      "cell_type": "code",
      "execution_count": 228,
      "metadata": {},
      "outputs": [
        {
          "data": {
            "text/plain": [
              "array([-0.06877083,  0.09302227,  0.10442537])"
            ]
          },
          "execution_count": 228,
          "metadata": {},
          "output_type": "execute_result"
        }
      ],
      "source": [
        "gradients_nFeatures(X,y,h)"
      ]
    },
    {
      "cell_type": "code",
      "execution_count": 229,
      "metadata": {
        "id": "Mgi672yowchr"
      },
      "outputs": [],
      "source": [
        "dThetaArray = gradients_nFeatures(X,y,h)\n",
        "expected_array = np.array([-0.06877083,  0.09302227,  0.10442537])\n",
        "assert np.allclose( dThetaArray , expected_array)"
      ]
    },
    {
      "cell_type": "markdown",
      "metadata": {
        "id": "5ko8M8iVyQR-"
      },
      "source": [
        "2.6 Do gradient descent by updating the thetas and verify the results."
      ]
    },
    {
      "cell_type": "code",
      "execution_count": 230,
      "metadata": {
        "id": "-5cHHLInyS5P"
      },
      "outputs": [],
      "source": [
        "learning_rate = 0.01\n",
        "theta_updated = updateTheta(X, thetaArray, dThetaArray, learning_rate)\n",
        "expected_array = np.array([ 0.27954131, -0.95090871, -0.45098562])\n",
        "assert np.allclose( theta_updated , expected_array)"
      ]
    },
    {
      "cell_type": "markdown",
      "metadata": {
        "id": "W3nwGjliwosw"
      },
      "source": [
        "2.8 Put it all together. <font color='red'> Complete the runLogisticRegression_nFeatures() function and verify the results. </font>"
      ]
    },
    {
      "cell_type": "code",
      "execution_count": 231,
      "metadata": {},
      "outputs": [
        {
          "name": "stdout",
          "output_type": "stream",
          "text": [
            "(80, 3)\n",
            "(80,)\n",
            "[[ 1.          1.58425027  1.48648264]\n",
            " [ 1.          0.85567048  1.93261522]\n",
            " [ 1.          2.30181034  2.13625051]\n",
            " [ 1.          0.25145253  0.79411083]\n",
            " [ 1.          2.24732913  2.63097702]\n",
            " [ 1.          2.59814789  2.26882722]\n",
            " [ 1.          2.45011174  1.0972183 ]\n",
            " [ 1.          3.81231155  3.41471422]\n",
            " [ 1.          2.83631355  3.05851997]\n",
            " [ 1.          3.34870351  2.35005399]\n",
            " [ 1.          0.70883509  0.54918714]\n",
            " [ 1.          2.4405577   1.4331086 ]\n",
            " [ 1.          2.47000635  2.54844047]\n",
            " [ 1.          2.9438266   3.20948521]\n",
            " [ 1.          2.66497536  2.45871673]\n",
            " [ 1.          1.90796577  3.21772423]\n",
            " [ 1.          2.38658278  1.63866821]\n",
            " [ 1.          1.6622131   0.79894628]\n",
            " [ 1.          2.49747401  1.11177798]\n",
            " [ 1.          3.17280333  3.31200524]\n",
            " [ 1.          1.24863993  1.3698156 ]\n",
            " [ 1.          2.2146353   2.00172283]\n",
            " [ 1.          3.63753404  3.12852732]\n",
            " [ 1.          2.05713897  2.80463726]\n",
            " [ 1.          2.30190335  1.0552457 ]\n",
            " [ 1.          1.83299435  1.56070006]\n",
            " [ 1.          2.41694232  2.84946278]\n",
            " [ 1.          0.70633101  1.3648455 ]\n",
            " [ 1.          2.8943392   2.67569303]\n",
            " [ 1.          1.34522415  2.03503872]\n",
            " [ 1.          2.51386682  2.3825861 ]\n",
            " [ 1.          3.45780451  2.6119587 ]\n",
            " [ 1.          0.76044843  1.71945495]\n",
            " [ 1.          1.71255684  2.42216176]\n",
            " [ 1.          1.88980475  1.4336362 ]\n",
            " [ 1.          1.11816732  2.20572341]\n",
            " [ 1.          1.48032712  2.58669726]\n",
            " [ 1.          4.15996074  4.74113357]\n",
            " [ 1.          2.02428999  1.81285986]\n",
            " [ 1.          2.61687738  1.21145392]\n",
            " [ 1.         -0.92077413 -0.6682574 ]\n",
            " [ 1.         -2.1992071  -2.56567949]\n",
            " [ 1.         -0.06632558 -0.42112139]\n",
            " [ 1.         -1.97251134 -1.7400492 ]\n",
            " [ 1.         -0.68592215 -0.32298726]\n",
            " [ 1.         -1.43327545 -0.74834001]\n",
            " [ 1.         -0.2274434  -0.45913553]\n",
            " [ 1.         -0.11578574 -1.15064708]\n",
            " [ 1.         -1.36929213 -1.18469818]\n",
            " [ 1.         -0.92184412 -1.08772228]\n",
            " [ 1.          0.47267868  0.17523752]\n",
            " [ 1.         -0.39577208 -0.96306777]\n",
            " [ 1.         -0.99198458 -0.70627748]\n",
            " [ 1.         -2.82608793 -2.70264277]\n",
            " [ 1.         -1.21459572 -1.26723694]\n",
            " [ 1.          0.80422019  0.78547205]\n",
            " [ 1.         -1.9272278  -0.1854526 ]\n",
            " [ 1.         -0.92667588 -0.71344971]\n",
            " [ 1.         -0.55434003 -1.3807202 ]\n",
            " [ 1.         -2.33486133 -1.80316438]\n",
            " [ 1.         -1.41842561 -2.06145965]\n",
            " [ 1.         -1.81656473 -2.80782312]\n",
            " [ 1.         -2.32339756 -0.77451153]\n",
            " [ 1.          0.12677837 -0.27365459]\n",
            " [ 1.         -0.91520979 -1.27122084]\n",
            " [ 1.          0.42627215  0.47475349]\n",
            " [ 1.         -0.17374608  0.16113434]\n",
            " [ 1.         -0.68794194  0.40802718]\n",
            " [ 1.         -0.15346769 -0.38119957]\n",
            " [ 1.         -1.32579942 -2.19615193]\n",
            " [ 1.         -1.67491404 -0.75062453]\n",
            " [ 1.          0.43838495  0.56894081]\n",
            " [ 1.         -1.51951422 -0.96668197]\n",
            " [ 1.          0.62391335 -0.30979047]\n",
            " [ 1.         -1.59323157 -1.38323169]\n",
            " [ 1.         -1.35680255 -1.11182667]\n",
            " [ 1.         -0.4460092  -0.28178104]\n",
            " [ 1.         -1.02158283 -1.52670556]\n",
            " [ 1.         -2.91279748 -2.57774701]\n",
            " [ 1.         -0.11776437  0.34648914]]\n"
          ]
        },
        {
          "data": {
            "text/plain": [
              "numpy.ndarray"
            ]
          },
          "execution_count": 231,
          "metadata": {},
          "output_type": "execute_result"
        }
      ],
      "source": [
        "print(X.shape)\n",
        "print(y.shape)\n",
        "print(X)\n",
        "type(y)"
      ]
    },
    {
      "cell_type": "code",
      "execution_count": 232,
      "metadata": {
        "id": "aG2_NDsrwnTW"
      },
      "outputs": [],
      "source": [
        "def runLogisticRegression_nFeatures(X,y,iterations, learning_rate):\n",
        "  # Complete this function here to run logistic regression using the functions you have previously created.\n",
        "  # Return the values of the final model loss and theta array\n",
        "  thetaArray = initializeTheta_nFeatures(X,42)\n",
        "  h = prediction_nFeatures(X, thetaArray)\n",
        "  \n",
        "  for _ in range(iterations):\n",
        "    h = prediction_nFeatures(X, thetaArray)\n",
        "    dThetaArray = gradients_nFeatures(X,y,h)\n",
        "    thetaArray = updateTheta(X, thetaArray, dThetaArray, learning_rate)\n",
        "    \n",
        "  loss = logLoss(h,y)\n",
        "  \n",
        "  return loss, thetaArray"
      ]
    },
    {
      "cell_type": "code",
      "execution_count": 233,
      "metadata": {},
      "outputs": [
        {
          "name": "stdout",
          "output_type": "stream",
          "text": [
            "(0.1792548255021849, array([ 0.34627922, -1.03070157, -0.54178807]))\n"
          ]
        }
      ],
      "source": [
        "print(runLogisticRegression_nFeatures(X,y, 100, 0.01))"
      ]
    },
    {
      "cell_type": "code",
      "execution_count": 234,
      "metadata": {
        "colab": {
          "base_uri": "https://localhost:8080/"
        },
        "id": "29p8eTBvdX8e",
        "outputId": "5cf84caf-2506-4ef5-e46a-7d7b4fc3007c"
      },
      "outputs": [],
      "source": [
        "loss, thetaArray = runLogisticRegression_nFeatures(X,y, 100, 0.01)\n",
        "assert np.allclose( loss,  0.17925482550218486 )"
      ]
    },
    {
      "cell_type": "code",
      "execution_count": 235,
      "metadata": {
        "colab": {
          "base_uri": "https://localhost:8080/",
          "height": 333
        },
        "id": "BshGJ_gIdX_r",
        "outputId": "92c9b0a9-22d0-4098-df79-c32db95247c1"
      },
      "outputs": [
        {
          "data": {
            "image/png": "[encoded data removed]",
            "text/plain": [
              "<Figure size 500x300 with 1 Axes>"
            ]
          },
          "metadata": {},
          "output_type": "display_data"
        }
      ],
      "source": [
        "plotResult2D(x_1, x_2, thetaArray[0], thetaArray[1], thetaArray[2])"
      ]
    },
    {
      "cell_type": "markdown",
      "metadata": {
        "id": "BDEt-80a4wzD"
      },
      "source": [
        "## 3. Logistic Regression with Advertisment Click Binary Classification"
      ]
    },
    {
      "cell_type": "code",
      "execution_count": 236,
      "metadata": {
        "id": "4wpB4Y6SdYCh"
      },
      "outputs": [],
      "source": [
        "# Download CSV file from this link https://www.kaggle.com/datasets/gabrielsantello/advertisement-click-on-ad/data"
      ]
    },
    {
      "cell_type": "markdown",
      "metadata": {
        "id": "UMJ7JrhXGOy9"
      },
      "source": [
        "3.1 Load your data set into a pandas data frame."
      ]
    },
    {
      "cell_type": "code",
      "execution_count": 237,
      "metadata": {
        "id": "2J25O9ZrdYFo"
      },
      "outputs": [],
      "source": [
        "df = pd.read_csv('advertising.csv')"
      ]
    },
    {
      "cell_type": "code",
      "execution_count": 238,
      "metadata": {
        "colab": {
          "base_uri": "https://localhost:8080/",
          "height": 423
        },
        "id": "cuWUMNsxdYIf",
        "outputId": "8e5067d8-5134-4221-c679-433a6afb22c3"
      },
      "outputs": [
        {
          "data": {
            "text/html": [
              "<div>\n",
              "<style scoped>\n",
              "    .dataframe tbody tr th:only-of-type {\n",
              "        vertical-align: middle;\n",
              "    }\n",
              "\n",
              "    .dataframe tbody tr th {\n",
              "        vertical-align: top;\n",
              "    }\n",
              "\n",
              "    .dataframe thead th {\n",
              "        text-align: right;\n",
              "    }\n",
              "</style>\n",
              "<table border=\"1\" class=\"dataframe\">\n",
              "  <thead>\n",
              "    <tr style=\"text-align: right;\">\n",
              "      <th></th>\n",
              "      <th>Daily Time Spent on Site</th>\n",
              "      <th>Age</th>\n",
              "      <th>Area Income</th>\n",
              "      <th>Daily Internet Usage</th>\n",
              "      <th>Ad Topic Line</th>\n",
              "      <th>City</th>\n",
              "      <th>Male</th>\n",
              "      <th>Country</th>\n",
              "      <th>Timestamp</th>\n",
              "      <th>Clicked on Ad</th>\n",
              "    </tr>\n",
              "  </thead>\n",
              "  <tbody>\n",
              "    <tr>\n",
              "      <th>0</th>\n",
              "      <td>68.95</td>\n",
              "      <td>35</td>\n",
              "      <td>61833.90</td>\n",
              "      <td>256.09</td>\n",
              "      <td>Cloned 5thgeneration orchestration</td>\n",
              "      <td>Wrightburgh</td>\n",
              "      <td>0</td>\n",
              "      <td>Tunisia</td>\n",
              "      <td>2016-03-27 00:53:11</td>\n",
              "      <td>0</td>\n",
              "    </tr>\n",
              "    <tr>\n",
              "      <th>1</th>\n",
              "      <td>80.23</td>\n",
              "      <td>31</td>\n",
              "      <td>68441.85</td>\n",
              "      <td>193.77</td>\n",
              "      <td>Monitored national standardization</td>\n",
              "      <td>West Jodi</td>\n",
              "      <td>1</td>\n",
              "      <td>Nauru</td>\n",
              "      <td>2016-04-04 01:39:02</td>\n",
              "      <td>0</td>\n",
              "    </tr>\n",
              "    <tr>\n",
              "      <th>2</th>\n",
              "      <td>69.47</td>\n",
              "      <td>26</td>\n",
              "      <td>59785.94</td>\n",
              "      <td>236.50</td>\n",
              "      <td>Organic bottom-line service-desk</td>\n",
              "      <td>Davidton</td>\n",
              "      <td>0</td>\n",
              "      <td>San Marino</td>\n",
              "      <td>2016-03-13 20:35:42</td>\n",
              "      <td>0</td>\n",
              "    </tr>\n",
              "    <tr>\n",
              "      <th>3</th>\n",
              "      <td>74.15</td>\n",
              "      <td>29</td>\n",
              "      <td>54806.18</td>\n",
              "      <td>245.89</td>\n",
              "      <td>Triple-buffered reciprocal time-frame</td>\n",
              "      <td>West Terrifurt</td>\n",
              "      <td>1</td>\n",
              "      <td>Italy</td>\n",
              "      <td>2016-01-10 02:31:19</td>\n",
              "      <td>0</td>\n",
              "    </tr>\n",
              "    <tr>\n",
              "      <th>4</th>\n",
              "      <td>68.37</td>\n",
              "      <td>35</td>\n",
              "      <td>73889.99</td>\n",
              "      <td>225.58</td>\n",
              "      <td>Robust logistical utilization</td>\n",
              "      <td>South Manuel</td>\n",
              "      <td>0</td>\n",
              "      <td>Iceland</td>\n",
              "      <td>2016-06-03 03:36:18</td>\n",
              "      <td>0</td>\n",
              "    </tr>\n",
              "    <tr>\n",
              "      <th>...</th>\n",
              "      <td>...</td>\n",
              "      <td>...</td>\n",
              "      <td>...</td>\n",
              "      <td>...</td>\n",
              "      <td>...</td>\n",
              "      <td>...</td>\n",
              "      <td>...</td>\n",
              "      <td>...</td>\n",
              "      <td>...</td>\n",
              "      <td>...</td>\n",
              "    </tr>\n",
              "    <tr>\n",
              "      <th>995</th>\n",
              "      <td>72.97</td>\n",
              "      <td>30</td>\n",
              "      <td>71384.57</td>\n",
              "      <td>208.58</td>\n",
              "      <td>Fundamental modular algorithm</td>\n",
              "      <td>Duffystad</td>\n",
              "      <td>1</td>\n",
              "      <td>Lebanon</td>\n",
              "      <td>2016-02-11 21:49:00</td>\n",
              "      <td>1</td>\n",
              "    </tr>\n",
              "    <tr>\n",
              "      <th>996</th>\n",
              "      <td>51.30</td>\n",
              "      <td>45</td>\n",
              "      <td>67782.17</td>\n",
              "      <td>134.42</td>\n",
              "      <td>Grass-roots cohesive monitoring</td>\n",
              "      <td>New Darlene</td>\n",
              "      <td>1</td>\n",
              "      <td>Bosnia and Herzegovina</td>\n",
              "      <td>2016-04-22 02:07:01</td>\n",
              "      <td>1</td>\n",
              "    </tr>\n",
              "    <tr>\n",
              "      <th>997</th>\n",
              "      <td>51.63</td>\n",
              "      <td>51</td>\n",
              "      <td>42415.72</td>\n",
              "      <td>120.37</td>\n",
              "      <td>Expanded intangible solution</td>\n",
              "      <td>South Jessica</td>\n",
              "      <td>1</td>\n",
              "      <td>Mongolia</td>\n",
              "      <td>2016-02-01 17:24:57</td>\n",
              "      <td>1</td>\n",
              "    </tr>\n",
              "    <tr>\n",
              "      <th>998</th>\n",
              "      <td>55.55</td>\n",
              "      <td>19</td>\n",
              "      <td>41920.79</td>\n",
              "      <td>187.95</td>\n",
              "      <td>Proactive bandwidth-monitored policy</td>\n",
              "      <td>West Steven</td>\n",
              "      <td>0</td>\n",
              "      <td>Guatemala</td>\n",
              "      <td>2016-03-24 02:35:54</td>\n",
              "      <td>0</td>\n",
              "    </tr>\n",
              "    <tr>\n",
              "      <th>999</th>\n",
              "      <td>45.01</td>\n",
              "      <td>26</td>\n",
              "      <td>29875.80</td>\n",
              "      <td>178.35</td>\n",
              "      <td>Virtual 5thgeneration emulation</td>\n",
              "      <td>Ronniemouth</td>\n",
              "      <td>0</td>\n",
              "      <td>Brazil</td>\n",
              "      <td>2016-06-03 21:43:21</td>\n",
              "      <td>1</td>\n",
              "    </tr>\n",
              "  </tbody>\n",
              "</table>\n",
              "<p>1000 rows × 10 columns</p>\n",
              "</div>"
            ],
            "text/plain": [
              "     Daily Time Spent on Site  Age  Area Income  Daily Internet Usage  \\\n",
              "0                       68.95   35     61833.90                256.09   \n",
              "1                       80.23   31     68441.85                193.77   \n",
              "2                       69.47   26     59785.94                236.50   \n",
              "3                       74.15   29     54806.18                245.89   \n",
              "4                       68.37   35     73889.99                225.58   \n",
              "..                        ...  ...          ...                   ...   \n",
              "995                     72.97   30     71384.57                208.58   \n",
              "996                     51.30   45     67782.17                134.42   \n",
              "997                     51.63   51     42415.72                120.37   \n",
              "998                     55.55   19     41920.79                187.95   \n",
              "999                     45.01   26     29875.80                178.35   \n",
              "\n",
              "                             Ad Topic Line            City  Male  \\\n",
              "0       Cloned 5thgeneration orchestration     Wrightburgh     0   \n",
              "1       Monitored national standardization       West Jodi     1   \n",
              "2         Organic bottom-line service-desk        Davidton     0   \n",
              "3    Triple-buffered reciprocal time-frame  West Terrifurt     1   \n",
              "4            Robust logistical utilization    South Manuel     0   \n",
              "..                                     ...             ...   ...   \n",
              "995          Fundamental modular algorithm       Duffystad     1   \n",
              "996        Grass-roots cohesive monitoring     New Darlene     1   \n",
              "997           Expanded intangible solution   South Jessica     1   \n",
              "998   Proactive bandwidth-monitored policy     West Steven     0   \n",
              "999        Virtual 5thgeneration emulation     Ronniemouth     0   \n",
              "\n",
              "                    Country            Timestamp  Clicked on Ad  \n",
              "0                   Tunisia  2016-03-27 00:53:11              0  \n",
              "1                     Nauru  2016-04-04 01:39:02              0  \n",
              "2                San Marino  2016-03-13 20:35:42              0  \n",
              "3                     Italy  2016-01-10 02:31:19              0  \n",
              "4                   Iceland  2016-06-03 03:36:18              0  \n",
              "..                      ...                  ...            ...  \n",
              "995                 Lebanon  2016-02-11 21:49:00              1  \n",
              "996  Bosnia and Herzegovina  2016-04-22 02:07:01              1  \n",
              "997                Mongolia  2016-02-01 17:24:57              1  \n",
              "998               Guatemala  2016-03-24 02:35:54              0  \n",
              "999                  Brazil  2016-06-03 21:43:21              1  \n",
              "\n",
              "[1000 rows x 10 columns]"
            ]
          },
          "execution_count": 238,
          "metadata": {},
          "output_type": "execute_result"
        }
      ],
      "source": [
        "df"
      ]
    },
    {
      "cell_type": "markdown",
      "metadata": {
        "id": "FMeYrrJ5GU0c"
      },
      "source": [
        "3.2 Normalize the data by scaling it to standard deviation of 1. <font color='red'> Complete the normalize() function and verify the results. Do not use any other libray to help other than pandas. </font>"
      ]
    },
    {
      "cell_type": "code",
      "execution_count": 239,
      "metadata": {
        "id": "BxIxO4a2Hdjk"
      },
      "outputs": [],
      "source": [
        "def normalize(df_column):\n",
        "  # Write the function that normalizes a column of a pandas dataframe\n",
        "  # We want to normalize the column such that it has a resulting standard deviation of 1\n",
        "  # return the scaled dataframe column\n",
        "  \n",
        "  return (df_column - df_column.mean())/df_column.std()"
      ]
    },
    {
      "cell_type": "code",
      "execution_count": 240,
      "metadata": {
        "id": "GxjmItRJHd8f"
      },
      "outputs": [],
      "source": [
        "df[['Daily Time Spent on Site']] = normalize( df[['Daily Time Spent on Site']] )\n",
        "df[['Age']] = normalize( df[['Age']] )\n",
        "df[['Area Income']] = normalize( df[['Area Income']] )\n",
        "df[['Daily Internet Usage']] = normalize( df[['Daily Internet Usage']] )"
      ]
    },
    {
      "cell_type": "code",
      "execution_count": 241,
      "metadata": {
        "id": "AsdzEn5JHqC9"
      },
      "outputs": [],
      "source": [
        "assert df['Daily Time Spent on Site'].std() == 1\n",
        "assert df['Age'].std() == 1\n",
        "assert df['Area Income'].std() == 1\n",
        "assert df['Daily Internet Usage'].std() == 1"
      ]
    },
    {
      "cell_type": "markdown",
      "metadata": {
        "id": "3kb9LxaYIvS_"
      },
      "source": [
        "3.3 Prepare the test and train dataset. Choose wisely which columns to the model train on. <font color='red'> Your task is to train the model such that accuracy > 0.7 in both the train and test data set. </font>"
      ]
    },
    {
      "cell_type": "code",
      "execution_count": 242,
      "metadata": {
        "id": "cR7VW2CkdYLq"
      },
      "outputs": [],
      "source": [
        "from sklearn.model_selection import train_test_split\n",
        "\n",
        "y = df[['Clicked on Ad']]\n",
        "X = df.drop(columns=['Clicked on Ad','Ad Topic Line','City','Country','Timestamp'])\n",
        "\n",
        "# Split the data into training and testing sets\n",
        "df_X_train, df_X_test, df_y_train, df_y_test = train_test_split(X, y, test_size=0.2, random_state=42)"
      ]
    },
    {
      "cell_type": "code",
      "execution_count": 243,
      "metadata": {
        "id": "-Gfb1d-78jsW"
      },
      "outputs": [],
      "source": [
        "X = df_X_train.to_numpy()\n",
        "y = df_y_train.to_numpy()\n",
        "y = y.reshape(-1)"
      ]
    },
    {
      "cell_type": "code",
      "execution_count": 244,
      "metadata": {},
      "outputs": [
        {
          "data": {
            "text/plain": [
              "array([[ 0.695097  , -1.59454791, -0.65749316,  0.6792326 ,  0.        ],\n",
              "       [ 0.86792825, -0.45631684,  1.11913824,  0.63823251,  1.        ],\n",
              "       [ 0.53551195,  0.22662181,  0.90441975,  1.46301771,  0.        ],\n",
              "       ...,\n",
              "       [ 1.66333046,  1.02338356, -0.22956348,  0.06035897,  1.        ],\n",
              "       [-0.52607561,  0.68191423,  1.31829462, -0.9243266 ,  0.        ],\n",
              "       [ 1.5712379 ,  0.45426802,  0.34242902,  0.32412624,  0.        ]])"
            ]
          },
          "execution_count": 244,
          "metadata": {},
          "output_type": "execute_result"
        }
      ],
      "source": [
        "X"
      ]
    },
    {
      "cell_type": "code",
      "execution_count": 245,
      "metadata": {
        "id": "eM_F79Lc8aav"
      },
      "outputs": [],
      "source": [
        "X = np.hstack((np.ones(( len(X), 1)), X))"
      ]
    },
    {
      "cell_type": "code",
      "execution_count": 246,
      "metadata": {},
      "outputs": [
        {
          "data": {
            "text/plain": [
              "array([[ 1.        ,  0.695097  , -1.59454791, -0.65749316,  0.6792326 ,\n",
              "         0.        ],\n",
              "       [ 1.        ,  0.86792825, -0.45631684,  1.11913824,  0.63823251,\n",
              "         1.        ],\n",
              "       [ 1.        ,  0.53551195,  0.22662181,  0.90441975,  1.46301771,\n",
              "         0.        ],\n",
              "       ...,\n",
              "       [ 1.        ,  1.66333046,  1.02338356, -0.22956348,  0.06035897,\n",
              "         1.        ],\n",
              "       [ 1.        , -0.52607561,  0.68191423,  1.31829462, -0.9243266 ,\n",
              "         0.        ],\n",
              "       [ 1.        ,  1.5712379 ,  0.45426802,  0.34242902,  0.32412624,\n",
              "         0.        ]])"
            ]
          },
          "execution_count": 246,
          "metadata": {},
          "output_type": "execute_result"
        }
      ],
      "source": [
        "X"
      ]
    },
    {
      "cell_type": "markdown",
      "metadata": {
        "id": "0mbSZqMEJG4S"
      },
      "source": [
        "3.4 Train the model. <font color='red'> Choose your training parameters. </font>"
      ]
    },
    {
      "cell_type": "code",
      "execution_count": 247,
      "metadata": {
        "colab": {
          "base_uri": "https://localhost:8080/"
        },
        "id": "NmRvQsrPdYOn",
        "outputId": "70ae1088-d0df-4397-99da-d52d08aaee76"
      },
      "outputs": [],
      "source": [
        "learning_rate = 0.001\n",
        "iterations = 8000\n",
        "loss, thetaArray = runLogisticRegression_nFeatures(X,y, iterations, learning_rate )"
      ]
    },
    {
      "cell_type": "code",
      "execution_count": 248,
      "metadata": {},
      "outputs": [
        {
          "name": "stdout",
          "output_type": "stream",
          "text": [
            "[ 0.14056768 -1.55530632  0.41274277 -0.86275049 -0.83450892  0.12314879]\n",
            "0.15933690410443835\n"
          ]
        }
      ],
      "source": [
        "print(thetaArray)\n",
        "print(loss)"
      ]
    },
    {
      "cell_type": "markdown",
      "metadata": {
        "id": "cDvLROdpJLJX"
      },
      "source": [
        "3.5 Make predictions with train dataset."
      ]
    },
    {
      "cell_type": "code",
      "execution_count": 249,
      "metadata": {
        "id": "MgBH2b-zBTTZ"
      },
      "outputs": [],
      "source": [
        "h = prediction_nFeatures(X, thetaArray)"
      ]
    },
    {
      "cell_type": "markdown",
      "metadata": {
        "id": "St4157PWFmG3"
      },
      "source": [
        "3.6 Find the prediction accuracy of the train data set. We will choose a threshold of 0.5 for our predictions meaning that predictions equal to or greater than 0.5 will be classed as a positive prediction. Otherwise the prediction is negative. <font color='red'> Complete the accuracy() function and verify your results. </font>"
      ]
    },
    {
      "cell_type": "code",
      "execution_count": 250,
      "metadata": {
        "id": "spjmsR3hBKJ5"
      },
      "outputs": [],
      "source": [
        "def accuracy(h,y):\n",
        "  # accurcy is the percentage of predictions the model got correct\n",
        "  # outputs the accuracy in decimals where by accuracy of 1 is 100% and 0 is 0%\n",
        "  acc = []\n",
        "  for i in range(len(h)):\n",
        "    if h[i] >= 0.5 and y[i] == 1:\n",
        "      acc.append(1)\n",
        "    elif h[i] < 0.5 and y[i] == 0:\n",
        "      acc.append(1)\n",
        "    else:\n",
        "      acc.append(0)\n",
        "      \n",
        "  return sum(acc)/len(acc)"
      ]
    },
    {
      "cell_type": "code",
      "execution_count": 251,
      "metadata": {},
      "outputs": [
        {
          "data": {
            "text/plain": [
              "0.6666666666666666"
            ]
          },
          "execution_count": 251,
          "metadata": {},
          "output_type": "execute_result"
        }
      ],
      "source": [
        "h_temp = np.array([ 0.2, 0.4, 0.5, 0.6, 0.8, 0.9])\n",
        "y_temp =  np.array([ 0, 0, 1, 0, 1, 0])\n",
        "accuracy(h_temp, y_temp)"
      ]
    },
    {
      "cell_type": "code",
      "execution_count": 252,
      "metadata": {
        "id": "_nEkfJmNTzLz"
      },
      "outputs": [],
      "source": [
        "# verify that your accuracy function is correct\n",
        "\n",
        "h_temp = np.array([ 0.2, 0.4, 0.5, 0.6, 0.8, 0.9])\n",
        "y_temp =  np.array([ 0, 0, 1, 0, 1, 0])\n",
        "assert accuracy(h_temp, y_temp) == 2/3"
      ]
    },
    {
      "cell_type": "markdown",
      "metadata": {
        "id": "EQvMr_RnVMGO"
      },
      "source": [
        "<font color='red'> Make sure your model training set accuracy > 80%. </font>"
      ]
    },
    {
      "cell_type": "code",
      "execution_count": 253,
      "metadata": {
        "colab": {
          "base_uri": "https://localhost:8080/"
        },
        "id": "df6k-uQCVdL5",
        "outputId": "c98a667c-46bf-48d4-de54-b5a7e02af5aa"
      },
      "outputs": [
        {
          "data": {
            "text/plain": [
              "0.955"
            ]
          },
          "execution_count": 253,
          "metadata": {},
          "output_type": "execute_result"
        }
      ],
      "source": [
        "accuracy(h,y)"
      ]
    },
    {
      "cell_type": "code",
      "execution_count": 254,
      "metadata": {
        "id": "c-EHtM37U7E1"
      },
      "outputs": [],
      "source": [
        "# Verify that the model accuracy for the train dataset is greater than 80%\n",
        "\n",
        "assert accuracy(h,y) > 0.8"
      ]
    },
    {
      "cell_type": "markdown",
      "metadata": {
        "id": "n_ArnkGF9SbQ"
      },
      "source": [
        "3.7 Apply model on test data set and find the accuracy."
      ]
    },
    {
      "cell_type": "code",
      "execution_count": 255,
      "metadata": {
        "id": "fYMhUGqU9bJN"
      },
      "outputs": [],
      "source": [
        "X = df_X_test.to_numpy()\n",
        "y = df_y_test.to_numpy()"
      ]
    },
    {
      "cell_type": "code",
      "execution_count": 256,
      "metadata": {
        "id": "DBl4M1jTdYR0"
      },
      "outputs": [],
      "source": [
        "X = np.hstack((np.ones(( len(X), 1)), X))"
      ]
    },
    {
      "cell_type": "code",
      "execution_count": 257,
      "metadata": {
        "id": "iaVF9IMN9R4N"
      },
      "outputs": [],
      "source": [
        "h = prediction_nFeatures(X, thetaArray)"
      ]
    },
    {
      "cell_type": "code",
      "execution_count": 258,
      "metadata": {
        "colab": {
          "base_uri": "https://localhost:8080/"
        },
        "id": "elfSnbYHdkBE",
        "outputId": "9f80c5f7-2968-4601-ea10-37a612409f17"
      },
      "outputs": [
        {
          "data": {
            "text/plain": [
              "0.196841178183844"
            ]
          },
          "execution_count": 258,
          "metadata": {},
          "output_type": "execute_result"
        }
      ],
      "source": [
        "loss = logLoss(h,y)\n",
        "loss"
      ]
    },
    {
      "cell_type": "markdown",
      "metadata": {
        "id": "t24qj-4cVWX5"
      },
      "source": [
        "<font color='red'> Make sure your model testing set accuracy > 80%. </font>"
      ]
    },
    {
      "cell_type": "code",
      "execution_count": 259,
      "metadata": {
        "colab": {
          "base_uri": "https://localhost:8080/"
        },
        "id": "4obqkEX5VbPq",
        "outputId": "659c84cd-13e9-4c6b-c1e5-9522d664cd77"
      },
      "outputs": [
        {
          "data": {
            "text/plain": [
              "0.925"
            ]
          },
          "execution_count": 259,
          "metadata": {},
          "output_type": "execute_result"
        }
      ],
      "source": [
        "accuracy(h,y)"
      ]
    },
    {
      "cell_type": "code",
      "execution_count": 260,
      "metadata": {
        "id": "G2a0GikBU3M1"
      },
      "outputs": [],
      "source": [
        "# Verify that the model accuracy for the test dataset is greater than 80%\n",
        "\n",
        "assert accuracy(h,y) > 0.8"
      ]
    },
    {
      "cell_type": "markdown",
      "metadata": {
        "id": "kDx8eNHtJecs"
      },
      "source": [
        "Conclusion: The model performance is slightly worse off in the test dataset compared to the train dataset suggesting that the results are adequate."
      ]
    }
  ],
  "metadata": {
    "colab": {
      "provenance": []
    },
    "kernelspec": {
      "display_name": "Python 3",
      "name": "python3"
    },
    "language_info": {
      "codemirror_mode": {
        "name": "ipython",
        "version": 3
      },
      "file_extension": ".py",
      "mimetype": "text/x-python",
      "name": "python",
      "nbconvert_exporter": "python",
      "pygments_lexer": "ipython3",
      "version": "3.11.5"
    }
  },
  "nbformat": 4,
  "nbformat_minor": 0
}
