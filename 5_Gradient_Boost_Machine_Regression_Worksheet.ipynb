{
  "cells": [
    {
      "cell_type": "code",
      "execution_count": 140,
      "metadata": {
        "id": "voqSRwU_wK_o"
      },
      "outputs": [],
      "source": [
        "import pandas as pd\n",
        "import math\n",
        "import numpy as np\n",
        "from sklearn.tree import DecisionTreeClassifier\n",
        "from sklearn.tree import DecisionTreeRegressor, plot_tree\n",
        "import matplotlib.pyplot as plt\n",
        "from sklearn import tree"
      ]
    },
    {
      "cell_type": "code",
      "execution_count": 141,
      "metadata": {
        "id": "mYUc2rb3UyQy"
      },
      "outputs": [],
      "source": [
        "# Define data for each row as a list of lists\n",
        "data = [\n",
        "    [ 1.6, 'Blue', 'Male', 88 ],\n",
        "    [ 1.6, 'Green', 'Female', 76 ],\n",
        "    [ 1.5, 'Blue', 'Female', 56 ],\n",
        "    [ 1.8, 'Red', 'Male', 73 ],\n",
        "    [ 1.5, 'Green', 'Male', 77 ],\n",
        "    [ 1.4, 'Blue', 'Male', 57 ],\n",
        "]\n",
        "\n",
        "# Define the column names\n",
        "columns = ['height', 'favorite_color', 'gender', 'weight']\n",
        "\n",
        "# Create the DataFrame\n",
        "df = pd.DataFrame(data, columns=columns)"
      ]
    },
    {
      "cell_type": "markdown",
      "metadata": {
        "id": "0CvEu0gQyHJz"
      },
      "source": [
        "## Section 1 : Simple run through"
      ]
    },
    {
      "cell_type": "code",
      "execution_count": 142,
      "metadata": {
        "colab": {
          "base_uri": "https://localhost:8080/",
          "height": 238
        },
        "id": "-wwLDLkqWHE7",
        "outputId": "b3121982-43f6-40ea-bd13-be0da3d6ae1a"
      },
      "outputs": [
        {
          "data": {
            "text/html": [
              "<div>\n",
              "<style scoped>\n",
              "    .dataframe tbody tr th:only-of-type {\n",
              "        vertical-align: middle;\n",
              "    }\n",
              "\n",
              "    .dataframe tbody tr th {\n",
              "        vertical-align: top;\n",
              "    }\n",
              "\n",
              "    .dataframe thead th {\n",
              "        text-align: right;\n",
              "    }\n",
              "</style>\n",
              "<table border=\"1\" class=\"dataframe\">\n",
              "  <thead>\n",
              "    <tr style=\"text-align: right;\">\n",
              "      <th></th>\n",
              "      <th>height</th>\n",
              "      <th>favorite_color</th>\n",
              "      <th>gender</th>\n",
              "      <th>weight</th>\n",
              "    </tr>\n",
              "  </thead>\n",
              "  <tbody>\n",
              "    <tr>\n",
              "      <th>0</th>\n",
              "      <td>1.6</td>\n",
              "      <td>Blue</td>\n",
              "      <td>Male</td>\n",
              "      <td>88</td>\n",
              "    </tr>\n",
              "    <tr>\n",
              "      <th>1</th>\n",
              "      <td>1.6</td>\n",
              "      <td>Green</td>\n",
              "      <td>Female</td>\n",
              "      <td>76</td>\n",
              "    </tr>\n",
              "    <tr>\n",
              "      <th>2</th>\n",
              "      <td>1.5</td>\n",
              "      <td>Blue</td>\n",
              "      <td>Female</td>\n",
              "      <td>56</td>\n",
              "    </tr>\n",
              "    <tr>\n",
              "      <th>3</th>\n",
              "      <td>1.8</td>\n",
              "      <td>Red</td>\n",
              "      <td>Male</td>\n",
              "      <td>73</td>\n",
              "    </tr>\n",
              "    <tr>\n",
              "      <th>4</th>\n",
              "      <td>1.5</td>\n",
              "      <td>Green</td>\n",
              "      <td>Male</td>\n",
              "      <td>77</td>\n",
              "    </tr>\n",
              "    <tr>\n",
              "      <th>5</th>\n",
              "      <td>1.4</td>\n",
              "      <td>Blue</td>\n",
              "      <td>Male</td>\n",
              "      <td>57</td>\n",
              "    </tr>\n",
              "  </tbody>\n",
              "</table>\n",
              "</div>"
            ],
            "text/plain": [
              "   height favorite_color  gender  weight\n",
              "0     1.6           Blue    Male      88\n",
              "1     1.6          Green  Female      76\n",
              "2     1.5           Blue  Female      56\n",
              "3     1.8            Red    Male      73\n",
              "4     1.5          Green    Male      77\n",
              "5     1.4           Blue    Male      57"
            ]
          },
          "execution_count": 142,
          "metadata": {},
          "output_type": "execute_result"
        }
      ],
      "source": [
        "df"
      ]
    },
    {
      "cell_type": "code",
      "execution_count": 143,
      "metadata": {
        "colab": {
          "base_uri": "https://localhost:8080/"
        },
        "id": "sX-Zv7fOYI3j",
        "outputId": "b0dd1060-b818-4681-a4c4-32ba0eb16e9a"
      },
      "outputs": [
        {
          "data": {
            "text/plain": [
              "71.16666666666667"
            ]
          },
          "execution_count": 143,
          "metadata": {},
          "output_type": "execute_result"
        }
      ],
      "source": [
        "initial_guess = df['weight'].mean()\n",
        "initial_guess"
      ]
    },
    {
      "cell_type": "code",
      "execution_count": 144,
      "metadata": {
        "id": "PIKb4zXcYUCv"
      },
      "outputs": [],
      "source": [
        "def compute_residual_front_inital_guess(row,initial_guess):\n",
        "  # calculate the residual here and return the row\n",
        "  row[\"initial_prediction\"] = initial_guess\n",
        "  row[\"residual\"] = row[\"weight\"] - row[\"initial_prediction\"]\n",
        "  \n",
        "  return row\n",
        "\n",
        "df= df.apply(compute_residual_front_inital_guess, axis=1, initial_guess=initial_guess)"
      ]
    },
    {
      "cell_type": "code",
      "execution_count": 145,
      "metadata": {},
      "outputs": [
        {
          "data": {
            "text/html": [
              "<div>\n",
              "<style scoped>\n",
              "    .dataframe tbody tr th:only-of-type {\n",
              "        vertical-align: middle;\n",
              "    }\n",
              "\n",
              "    .dataframe tbody tr th {\n",
              "        vertical-align: top;\n",
              "    }\n",
              "\n",
              "    .dataframe thead th {\n",
              "        text-align: right;\n",
              "    }\n",
              "</style>\n",
              "<table border=\"1\" class=\"dataframe\">\n",
              "  <thead>\n",
              "    <tr style=\"text-align: right;\">\n",
              "      <th></th>\n",
              "      <th>height</th>\n",
              "      <th>favorite_color</th>\n",
              "      <th>gender</th>\n",
              "      <th>weight</th>\n",
              "      <th>initial_prediction</th>\n",
              "      <th>residual</th>\n",
              "    </tr>\n",
              "  </thead>\n",
              "  <tbody>\n",
              "    <tr>\n",
              "      <th>0</th>\n",
              "      <td>1.6</td>\n",
              "      <td>Blue</td>\n",
              "      <td>Male</td>\n",
              "      <td>88</td>\n",
              "      <td>71.166667</td>\n",
              "      <td>16.833333</td>\n",
              "    </tr>\n",
              "    <tr>\n",
              "      <th>1</th>\n",
              "      <td>1.6</td>\n",
              "      <td>Green</td>\n",
              "      <td>Female</td>\n",
              "      <td>76</td>\n",
              "      <td>71.166667</td>\n",
              "      <td>4.833333</td>\n",
              "    </tr>\n",
              "    <tr>\n",
              "      <th>2</th>\n",
              "      <td>1.5</td>\n",
              "      <td>Blue</td>\n",
              "      <td>Female</td>\n",
              "      <td>56</td>\n",
              "      <td>71.166667</td>\n",
              "      <td>-15.166667</td>\n",
              "    </tr>\n",
              "    <tr>\n",
              "      <th>3</th>\n",
              "      <td>1.8</td>\n",
              "      <td>Red</td>\n",
              "      <td>Male</td>\n",
              "      <td>73</td>\n",
              "      <td>71.166667</td>\n",
              "      <td>1.833333</td>\n",
              "    </tr>\n",
              "    <tr>\n",
              "      <th>4</th>\n",
              "      <td>1.5</td>\n",
              "      <td>Green</td>\n",
              "      <td>Male</td>\n",
              "      <td>77</td>\n",
              "      <td>71.166667</td>\n",
              "      <td>5.833333</td>\n",
              "    </tr>\n",
              "    <tr>\n",
              "      <th>5</th>\n",
              "      <td>1.4</td>\n",
              "      <td>Blue</td>\n",
              "      <td>Male</td>\n",
              "      <td>57</td>\n",
              "      <td>71.166667</td>\n",
              "      <td>-14.166667</td>\n",
              "    </tr>\n",
              "  </tbody>\n",
              "</table>\n",
              "</div>"
            ],
            "text/plain": [
              "   height favorite_color  gender  weight  initial_prediction   residual\n",
              "0     1.6           Blue    Male      88           71.166667  16.833333\n",
              "1     1.6          Green  Female      76           71.166667   4.833333\n",
              "2     1.5           Blue  Female      56           71.166667 -15.166667\n",
              "3     1.8            Red    Male      73           71.166667   1.833333\n",
              "4     1.5          Green    Male      77           71.166667   5.833333\n",
              "5     1.4           Blue    Male      57           71.166667 -14.166667"
            ]
          },
          "execution_count": 145,
          "metadata": {},
          "output_type": "execute_result"
        }
      ],
      "source": [
        "df"
      ]
    },
    {
      "cell_type": "code",
      "execution_count": 146,
      "metadata": {
        "id": "DpGV9HJ2ZXgo"
      },
      "outputs": [],
      "source": [
        "model = DecisionTreeRegressor(max_leaf_nodes=4)"
      ]
    },
    {
      "cell_type": "code",
      "execution_count": 147,
      "metadata": {
        "colab": {
          "base_uri": "https://localhost:8080/",
          "height": 238
        },
        "id": "WpHQnfIdzDvY",
        "outputId": "ac3ed314-92f2-484c-8324-bd393dbb76bb"
      },
      "outputs": [
        {
          "data": {
            "text/html": [
              "<div>\n",
              "<style scoped>\n",
              "    .dataframe tbody tr th:only-of-type {\n",
              "        vertical-align: middle;\n",
              "    }\n",
              "\n",
              "    .dataframe tbody tr th {\n",
              "        vertical-align: top;\n",
              "    }\n",
              "\n",
              "    .dataframe thead th {\n",
              "        text-align: right;\n",
              "    }\n",
              "</style>\n",
              "<table border=\"1\" class=\"dataframe\">\n",
              "  <thead>\n",
              "    <tr style=\"text-align: right;\">\n",
              "      <th></th>\n",
              "      <th>height</th>\n",
              "      <th>weight</th>\n",
              "      <th>initial_prediction</th>\n",
              "      <th>residual</th>\n",
              "      <th>favorite_color_Blue</th>\n",
              "      <th>favorite_color_Green</th>\n",
              "      <th>favorite_color_Red</th>\n",
              "      <th>gender_Female</th>\n",
              "      <th>gender_Male</th>\n",
              "    </tr>\n",
              "  </thead>\n",
              "  <tbody>\n",
              "    <tr>\n",
              "      <th>0</th>\n",
              "      <td>1.6</td>\n",
              "      <td>88</td>\n",
              "      <td>71.166667</td>\n",
              "      <td>16.833333</td>\n",
              "      <td>True</td>\n",
              "      <td>False</td>\n",
              "      <td>False</td>\n",
              "      <td>False</td>\n",
              "      <td>True</td>\n",
              "    </tr>\n",
              "    <tr>\n",
              "      <th>1</th>\n",
              "      <td>1.6</td>\n",
              "      <td>76</td>\n",
              "      <td>71.166667</td>\n",
              "      <td>4.833333</td>\n",
              "      <td>False</td>\n",
              "      <td>True</td>\n",
              "      <td>False</td>\n",
              "      <td>True</td>\n",
              "      <td>False</td>\n",
              "    </tr>\n",
              "    <tr>\n",
              "      <th>2</th>\n",
              "      <td>1.5</td>\n",
              "      <td>56</td>\n",
              "      <td>71.166667</td>\n",
              "      <td>-15.166667</td>\n",
              "      <td>True</td>\n",
              "      <td>False</td>\n",
              "      <td>False</td>\n",
              "      <td>True</td>\n",
              "      <td>False</td>\n",
              "    </tr>\n",
              "    <tr>\n",
              "      <th>3</th>\n",
              "      <td>1.8</td>\n",
              "      <td>73</td>\n",
              "      <td>71.166667</td>\n",
              "      <td>1.833333</td>\n",
              "      <td>False</td>\n",
              "      <td>False</td>\n",
              "      <td>True</td>\n",
              "      <td>False</td>\n",
              "      <td>True</td>\n",
              "    </tr>\n",
              "    <tr>\n",
              "      <th>4</th>\n",
              "      <td>1.5</td>\n",
              "      <td>77</td>\n",
              "      <td>71.166667</td>\n",
              "      <td>5.833333</td>\n",
              "      <td>False</td>\n",
              "      <td>True</td>\n",
              "      <td>False</td>\n",
              "      <td>False</td>\n",
              "      <td>True</td>\n",
              "    </tr>\n",
              "    <tr>\n",
              "      <th>5</th>\n",
              "      <td>1.4</td>\n",
              "      <td>57</td>\n",
              "      <td>71.166667</td>\n",
              "      <td>-14.166667</td>\n",
              "      <td>True</td>\n",
              "      <td>False</td>\n",
              "      <td>False</td>\n",
              "      <td>False</td>\n",
              "      <td>True</td>\n",
              "    </tr>\n",
              "  </tbody>\n",
              "</table>\n",
              "</div>"
            ],
            "text/plain": [
              "   height  weight  initial_prediction   residual  favorite_color_Blue  \\\n",
              "0     1.6      88           71.166667  16.833333                 True   \n",
              "1     1.6      76           71.166667   4.833333                False   \n",
              "2     1.5      56           71.166667 -15.166667                 True   \n",
              "3     1.8      73           71.166667   1.833333                False   \n",
              "4     1.5      77           71.166667   5.833333                False   \n",
              "5     1.4      57           71.166667 -14.166667                 True   \n",
              "\n",
              "   favorite_color_Green  favorite_color_Red  gender_Female  gender_Male  \n",
              "0                 False               False          False         True  \n",
              "1                  True               False           True        False  \n",
              "2                 False               False           True        False  \n",
              "3                 False                True          False         True  \n",
              "4                  True               False          False         True  \n",
              "5                 False               False          False         True  "
            ]
          },
          "execution_count": 147,
          "metadata": {},
          "output_type": "execute_result"
        }
      ],
      "source": [
        "df_encoded = pd.get_dummies(df, columns=['favorite_color', 'gender'])\n",
        "df_encoded"
      ]
    },
    {
      "cell_type": "code",
      "execution_count": 148,
      "metadata": {
        "id": "s3tlhcBlcMig"
      },
      "outputs": [],
      "source": [
        "X_train = df_encoded.drop(['weight', 'residual','initial_prediction'], axis=1)\n",
        "y_train = df[['residual']]"
      ]
    },
    {
      "cell_type": "code",
      "execution_count": 149,
      "metadata": {
        "colab": {
          "base_uri": "https://localhost:8080/",
          "height": 238
        },
        "id": "Dog22iD5y-7u",
        "outputId": "6928ae4f-f56b-40ca-cbe6-7a50f495a042"
      },
      "outputs": [
        {
          "data": {
            "text/html": [
              "<div>\n",
              "<style scoped>\n",
              "    .dataframe tbody tr th:only-of-type {\n",
              "        vertical-align: middle;\n",
              "    }\n",
              "\n",
              "    .dataframe tbody tr th {\n",
              "        vertical-align: top;\n",
              "    }\n",
              "\n",
              "    .dataframe thead th {\n",
              "        text-align: right;\n",
              "    }\n",
              "</style>\n",
              "<table border=\"1\" class=\"dataframe\">\n",
              "  <thead>\n",
              "    <tr style=\"text-align: right;\">\n",
              "      <th></th>\n",
              "      <th>height</th>\n",
              "      <th>favorite_color_Blue</th>\n",
              "      <th>favorite_color_Green</th>\n",
              "      <th>favorite_color_Red</th>\n",
              "      <th>gender_Female</th>\n",
              "      <th>gender_Male</th>\n",
              "    </tr>\n",
              "  </thead>\n",
              "  <tbody>\n",
              "    <tr>\n",
              "      <th>0</th>\n",
              "      <td>1.6</td>\n",
              "      <td>True</td>\n",
              "      <td>False</td>\n",
              "      <td>False</td>\n",
              "      <td>False</td>\n",
              "      <td>True</td>\n",
              "    </tr>\n",
              "    <tr>\n",
              "      <th>1</th>\n",
              "      <td>1.6</td>\n",
              "      <td>False</td>\n",
              "      <td>True</td>\n",
              "      <td>False</td>\n",
              "      <td>True</td>\n",
              "      <td>False</td>\n",
              "    </tr>\n",
              "    <tr>\n",
              "      <th>2</th>\n",
              "      <td>1.5</td>\n",
              "      <td>True</td>\n",
              "      <td>False</td>\n",
              "      <td>False</td>\n",
              "      <td>True</td>\n",
              "      <td>False</td>\n",
              "    </tr>\n",
              "    <tr>\n",
              "      <th>3</th>\n",
              "      <td>1.8</td>\n",
              "      <td>False</td>\n",
              "      <td>False</td>\n",
              "      <td>True</td>\n",
              "      <td>False</td>\n",
              "      <td>True</td>\n",
              "    </tr>\n",
              "    <tr>\n",
              "      <th>4</th>\n",
              "      <td>1.5</td>\n",
              "      <td>False</td>\n",
              "      <td>True</td>\n",
              "      <td>False</td>\n",
              "      <td>False</td>\n",
              "      <td>True</td>\n",
              "    </tr>\n",
              "    <tr>\n",
              "      <th>5</th>\n",
              "      <td>1.4</td>\n",
              "      <td>True</td>\n",
              "      <td>False</td>\n",
              "      <td>False</td>\n",
              "      <td>False</td>\n",
              "      <td>True</td>\n",
              "    </tr>\n",
              "  </tbody>\n",
              "</table>\n",
              "</div>"
            ],
            "text/plain": [
              "   height  favorite_color_Blue  favorite_color_Green  favorite_color_Red  \\\n",
              "0     1.6                 True                 False               False   \n",
              "1     1.6                False                  True               False   \n",
              "2     1.5                 True                 False               False   \n",
              "3     1.8                False                 False                True   \n",
              "4     1.5                False                  True               False   \n",
              "5     1.4                 True                 False               False   \n",
              "\n",
              "   gender_Female  gender_Male  \n",
              "0          False         True  \n",
              "1           True        False  \n",
              "2           True        False  \n",
              "3          False         True  \n",
              "4          False         True  \n",
              "5          False         True  "
            ]
          },
          "execution_count": 149,
          "metadata": {},
          "output_type": "execute_result"
        }
      ],
      "source": [
        "X_train"
      ]
    },
    {
      "cell_type": "code",
      "execution_count": 150,
      "metadata": {
        "colab": {
          "base_uri": "https://localhost:8080/",
          "height": 75
        },
        "id": "ASdfjhKhcD61",
        "outputId": "729fdccb-5c03-43e6-c090-349430882fe0"
      },
      "outputs": [
        {
          "data": {
            "text/html": [
              "<style>#sk-container-id-3 {color: black;}#sk-container-id-3 pre{padding: 0;}#sk-container-id-3 div.sk-toggleable {background-color: white;}#sk-container-id-3 label.sk-toggleable__label {cursor: pointer;display: block;width: 100%;margin-bottom: 0;padding: 0.3em;box-sizing: border-box;text-align: center;}#sk-container-id-3 label.sk-toggleable__label-arrow:before {content: \"▸\";float: left;margin-right: 0.25em;color: #696969;}#sk-container-id-3 label.sk-toggleable__label-arrow:hover:before {color: black;}#sk-container-id-3 div.sk-estimator:hover label.sk-toggleable__label-arrow:before {color: black;}#sk-container-id-3 div.sk-toggleable__content {max-height: 0;max-width: 0;overflow: hidden;text-align: left;background-color: #f0f8ff;}#sk-container-id-3 div.sk-toggleable__content pre {margin: 0.2em;color: black;border-radius: 0.25em;background-color: #f0f8ff;}#sk-container-id-3 input.sk-toggleable__control:checked~div.sk-toggleable__content {max-height: 200px;max-width: 100%;overflow: auto;}#sk-container-id-3 input.sk-toggleable__control:checked~label.sk-toggleable__label-arrow:before {content: \"▾\";}#sk-container-id-3 div.sk-estimator input.sk-toggleable__control:checked~label.sk-toggleable__label {background-color: #d4ebff;}#sk-container-id-3 div.sk-label input.sk-toggleable__control:checked~label.sk-toggleable__label {background-color: #d4ebff;}#sk-container-id-3 input.sk-hidden--visually {border: 0;clip: rect(1px 1px 1px 1px);clip: rect(1px, 1px, 1px, 1px);height: 1px;margin: -1px;overflow: hidden;padding: 0;position: absolute;width: 1px;}#sk-container-id-3 div.sk-estimator {font-family: monospace;background-color: #f0f8ff;border: 1px dotted black;border-radius: 0.25em;box-sizing: border-box;margin-bottom: 0.5em;}#sk-container-id-3 div.sk-estimator:hover {background-color: #d4ebff;}#sk-container-id-3 div.sk-parallel-item::after {content: \"\";width: 100%;border-bottom: 1px solid gray;flex-grow: 1;}#sk-container-id-3 div.sk-label:hover label.sk-toggleable__label {background-color: #d4ebff;}#sk-container-id-3 div.sk-serial::before {content: \"\";position: absolute;border-left: 1px solid gray;box-sizing: border-box;top: 0;bottom: 0;left: 50%;z-index: 0;}#sk-container-id-3 div.sk-serial {display: flex;flex-direction: column;align-items: center;background-color: white;padding-right: 0.2em;padding-left: 0.2em;position: relative;}#sk-container-id-3 div.sk-item {position: relative;z-index: 1;}#sk-container-id-3 div.sk-parallel {display: flex;align-items: stretch;justify-content: center;background-color: white;position: relative;}#sk-container-id-3 div.sk-item::before, #sk-container-id-3 div.sk-parallel-item::before {content: \"\";position: absolute;border-left: 1px solid gray;box-sizing: border-box;top: 0;bottom: 0;left: 50%;z-index: -1;}#sk-container-id-3 div.sk-parallel-item {display: flex;flex-direction: column;z-index: 1;position: relative;background-color: white;}#sk-container-id-3 div.sk-parallel-item:first-child::after {align-self: flex-end;width: 50%;}#sk-container-id-3 div.sk-parallel-item:last-child::after {align-self: flex-start;width: 50%;}#sk-container-id-3 div.sk-parallel-item:only-child::after {width: 0;}#sk-container-id-3 div.sk-dashed-wrapped {border: 1px dashed gray;margin: 0 0.4em 0.5em 0.4em;box-sizing: border-box;padding-bottom: 0.4em;background-color: white;}#sk-container-id-3 div.sk-label label {font-family: monospace;font-weight: bold;display: inline-block;line-height: 1.2em;}#sk-container-id-3 div.sk-label-container {text-align: center;}#sk-container-id-3 div.sk-container {/* jupyter's `normalize.less` sets `[hidden] { display: none; }` but bootstrap.min.css set `[hidden] { display: none !important; }` so we also need the `!important` here to be able to override the default hidden behavior on the sphinx rendered scikit-learn.org. See: https://github.com/scikit-learn/scikit-learn/issues/21755 */display: inline-block !important;position: relative;}#sk-container-id-3 div.sk-text-repr-fallback {display: none;}</style><div id=\"sk-container-id-3\" class=\"sk-top-container\"><div class=\"sk-text-repr-fallback\"><pre>DecisionTreeRegressor(max_leaf_nodes=4)</pre><b>In a Jupyter environment, please rerun this cell to show the HTML representation or trust the notebook. <br />On GitHub, the HTML representation is unable to render, please try loading this page with nbviewer.org.</b></div><div class=\"sk-container\" hidden><div class=\"sk-item\"><div class=\"sk-estimator sk-toggleable\"><input class=\"sk-toggleable__control sk-hidden--visually\" id=\"sk-estimator-id-3\" type=\"checkbox\" checked><label for=\"sk-estimator-id-3\" class=\"sk-toggleable__label sk-toggleable__label-arrow\">DecisionTreeRegressor</label><div class=\"sk-toggleable__content\"><pre>DecisionTreeRegressor(max_leaf_nodes=4)</pre></div></div></div></div></div>"
            ],
            "text/plain": [
              "DecisionTreeRegressor(max_leaf_nodes=4)"
            ]
          },
          "execution_count": 150,
          "metadata": {},
          "output_type": "execute_result"
        }
      ],
      "source": [
        "model.fit( X_train , y_train)"
      ]
    },
    {
      "cell_type": "code",
      "execution_count": 151,
      "metadata": {
        "colab": {
          "base_uri": "https://localhost:8080/",
          "height": 422
        },
        "id": "TAuIeF14cid5",
        "outputId": "f3a4ec9f-b9d4-432f-91f8-aa50623f26ea"
      },
      "outputs": [
        {
          "data": {
            "image/png": "[encoded data removed]",
            "text/plain": [
              "<Figure size 1000x500 with 1 Axes>"
            ]
          },
          "metadata": {},
          "output_type": "display_data"
        }
      ],
      "source": [
        "# Visualize the decision tree\n",
        "plt.figure(figsize=(10,5))\n",
        "plot_tree(model, filled=True, feature_names=X_train.columns, rounded=True)\n",
        "plt.show()"
      ]
    },
    {
      "cell_type": "code",
      "execution_count": 152,
      "metadata": {
        "id": "SJT8d9b0gkG_"
      },
      "outputs": [],
      "source": [
        "df['tree_1'] = model.predict(X_train)*0.1"
      ]
    },
    {
      "cell_type": "code",
      "execution_count": 153,
      "metadata": {
        "colab": {
          "base_uri": "https://localhost:8080/",
          "height": 238
        },
        "id": "1Ektq62clMS-",
        "outputId": "3551982e-9210-4e1d-e805-7f133a6753b4"
      },
      "outputs": [
        {
          "data": {
            "text/html": [
              "<div>\n",
              "<style scoped>\n",
              "    .dataframe tbody tr th:only-of-type {\n",
              "        vertical-align: middle;\n",
              "    }\n",
              "\n",
              "    .dataframe tbody tr th {\n",
              "        vertical-align: top;\n",
              "    }\n",
              "\n",
              "    .dataframe thead th {\n",
              "        text-align: right;\n",
              "    }\n",
              "</style>\n",
              "<table border=\"1\" class=\"dataframe\">\n",
              "  <thead>\n",
              "    <tr style=\"text-align: right;\">\n",
              "      <th></th>\n",
              "      <th>height</th>\n",
              "      <th>favorite_color</th>\n",
              "      <th>gender</th>\n",
              "      <th>weight</th>\n",
              "      <th>initial_prediction</th>\n",
              "      <th>residual</th>\n",
              "      <th>tree_1</th>\n",
              "    </tr>\n",
              "  </thead>\n",
              "  <tbody>\n",
              "    <tr>\n",
              "      <th>0</th>\n",
              "      <td>1.6</td>\n",
              "      <td>Blue</td>\n",
              "      <td>Male</td>\n",
              "      <td>88</td>\n",
              "      <td>71.166667</td>\n",
              "      <td>16.833333</td>\n",
              "      <td>1.683333</td>\n",
              "    </tr>\n",
              "    <tr>\n",
              "      <th>1</th>\n",
              "      <td>1.6</td>\n",
              "      <td>Green</td>\n",
              "      <td>Female</td>\n",
              "      <td>76</td>\n",
              "      <td>71.166667</td>\n",
              "      <td>4.833333</td>\n",
              "      <td>0.333333</td>\n",
              "    </tr>\n",
              "    <tr>\n",
              "      <th>2</th>\n",
              "      <td>1.5</td>\n",
              "      <td>Blue</td>\n",
              "      <td>Female</td>\n",
              "      <td>56</td>\n",
              "      <td>71.166667</td>\n",
              "      <td>-15.166667</td>\n",
              "      <td>-1.466667</td>\n",
              "    </tr>\n",
              "    <tr>\n",
              "      <th>3</th>\n",
              "      <td>1.8</td>\n",
              "      <td>Red</td>\n",
              "      <td>Male</td>\n",
              "      <td>73</td>\n",
              "      <td>71.166667</td>\n",
              "      <td>1.833333</td>\n",
              "      <td>0.333333</td>\n",
              "    </tr>\n",
              "    <tr>\n",
              "      <th>4</th>\n",
              "      <td>1.5</td>\n",
              "      <td>Green</td>\n",
              "      <td>Male</td>\n",
              "      <td>77</td>\n",
              "      <td>71.166667</td>\n",
              "      <td>5.833333</td>\n",
              "      <td>0.583333</td>\n",
              "    </tr>\n",
              "    <tr>\n",
              "      <th>5</th>\n",
              "      <td>1.4</td>\n",
              "      <td>Blue</td>\n",
              "      <td>Male</td>\n",
              "      <td>57</td>\n",
              "      <td>71.166667</td>\n",
              "      <td>-14.166667</td>\n",
              "      <td>-1.466667</td>\n",
              "    </tr>\n",
              "  </tbody>\n",
              "</table>\n",
              "</div>"
            ],
            "text/plain": [
              "   height favorite_color  gender  weight  initial_prediction   residual  \\\n",
              "0     1.6           Blue    Male      88           71.166667  16.833333   \n",
              "1     1.6          Green  Female      76           71.166667   4.833333   \n",
              "2     1.5           Blue  Female      56           71.166667 -15.166667   \n",
              "3     1.8            Red    Male      73           71.166667   1.833333   \n",
              "4     1.5          Green    Male      77           71.166667   5.833333   \n",
              "5     1.4           Blue    Male      57           71.166667 -14.166667   \n",
              "\n",
              "     tree_1  \n",
              "0  1.683333  \n",
              "1  0.333333  \n",
              "2 -1.466667  \n",
              "3  0.333333  \n",
              "4  0.583333  \n",
              "5 -1.466667  "
            ]
          },
          "execution_count": 153,
          "metadata": {},
          "output_type": "execute_result"
        }
      ],
      "source": [
        "df"
      ]
    },
    {
      "cell_type": "code",
      "execution_count": 154,
      "metadata": {
        "id": "cwtNBundlOrZ"
      },
      "outputs": [],
      "source": [
        "df['current_prediction'] =  df['tree_1'] +  df['initial_prediction']"
      ]
    },
    {
      "cell_type": "code",
      "execution_count": 155,
      "metadata": {
        "colab": {
          "base_uri": "https://localhost:8080/",
          "height": 238
        },
        "id": "ilS7mN53PoB6",
        "outputId": "977d89eb-d361-46bc-8a27-3031ec40d1b5"
      },
      "outputs": [
        {
          "data": {
            "text/html": [
              "<div>\n",
              "<style scoped>\n",
              "    .dataframe tbody tr th:only-of-type {\n",
              "        vertical-align: middle;\n",
              "    }\n",
              "\n",
              "    .dataframe tbody tr th {\n",
              "        vertical-align: top;\n",
              "    }\n",
              "\n",
              "    .dataframe thead th {\n",
              "        text-align: right;\n",
              "    }\n",
              "</style>\n",
              "<table border=\"1\" class=\"dataframe\">\n",
              "  <thead>\n",
              "    <tr style=\"text-align: right;\">\n",
              "      <th></th>\n",
              "      <th>height</th>\n",
              "      <th>favorite_color</th>\n",
              "      <th>gender</th>\n",
              "      <th>weight</th>\n",
              "      <th>initial_prediction</th>\n",
              "      <th>residual</th>\n",
              "      <th>tree_1</th>\n",
              "      <th>current_prediction</th>\n",
              "    </tr>\n",
              "  </thead>\n",
              "  <tbody>\n",
              "    <tr>\n",
              "      <th>0</th>\n",
              "      <td>1.6</td>\n",
              "      <td>Blue</td>\n",
              "      <td>Male</td>\n",
              "      <td>88</td>\n",
              "      <td>71.166667</td>\n",
              "      <td>16.833333</td>\n",
              "      <td>1.683333</td>\n",
              "      <td>72.85</td>\n",
              "    </tr>\n",
              "    <tr>\n",
              "      <th>1</th>\n",
              "      <td>1.6</td>\n",
              "      <td>Green</td>\n",
              "      <td>Female</td>\n",
              "      <td>76</td>\n",
              "      <td>71.166667</td>\n",
              "      <td>4.833333</td>\n",
              "      <td>0.333333</td>\n",
              "      <td>71.50</td>\n",
              "    </tr>\n",
              "    <tr>\n",
              "      <th>2</th>\n",
              "      <td>1.5</td>\n",
              "      <td>Blue</td>\n",
              "      <td>Female</td>\n",
              "      <td>56</td>\n",
              "      <td>71.166667</td>\n",
              "      <td>-15.166667</td>\n",
              "      <td>-1.466667</td>\n",
              "      <td>69.70</td>\n",
              "    </tr>\n",
              "    <tr>\n",
              "      <th>3</th>\n",
              "      <td>1.8</td>\n",
              "      <td>Red</td>\n",
              "      <td>Male</td>\n",
              "      <td>73</td>\n",
              "      <td>71.166667</td>\n",
              "      <td>1.833333</td>\n",
              "      <td>0.333333</td>\n",
              "      <td>71.50</td>\n",
              "    </tr>\n",
              "    <tr>\n",
              "      <th>4</th>\n",
              "      <td>1.5</td>\n",
              "      <td>Green</td>\n",
              "      <td>Male</td>\n",
              "      <td>77</td>\n",
              "      <td>71.166667</td>\n",
              "      <td>5.833333</td>\n",
              "      <td>0.583333</td>\n",
              "      <td>71.75</td>\n",
              "    </tr>\n",
              "    <tr>\n",
              "      <th>5</th>\n",
              "      <td>1.4</td>\n",
              "      <td>Blue</td>\n",
              "      <td>Male</td>\n",
              "      <td>57</td>\n",
              "      <td>71.166667</td>\n",
              "      <td>-14.166667</td>\n",
              "      <td>-1.466667</td>\n",
              "      <td>69.70</td>\n",
              "    </tr>\n",
              "  </tbody>\n",
              "</table>\n",
              "</div>"
            ],
            "text/plain": [
              "   height favorite_color  gender  weight  initial_prediction   residual  \\\n",
              "0     1.6           Blue    Male      88           71.166667  16.833333   \n",
              "1     1.6          Green  Female      76           71.166667   4.833333   \n",
              "2     1.5           Blue  Female      56           71.166667 -15.166667   \n",
              "3     1.8            Red    Male      73           71.166667   1.833333   \n",
              "4     1.5          Green    Male      77           71.166667   5.833333   \n",
              "5     1.4           Blue    Male      57           71.166667 -14.166667   \n",
              "\n",
              "     tree_1  current_prediction  \n",
              "0  1.683333               72.85  \n",
              "1  0.333333               71.50  \n",
              "2 -1.466667               69.70  \n",
              "3  0.333333               71.50  \n",
              "4  0.583333               71.75  \n",
              "5 -1.466667               69.70  "
            ]
          },
          "execution_count": 155,
          "metadata": {},
          "output_type": "execute_result"
        }
      ],
      "source": [
        "df"
      ]
    },
    {
      "cell_type": "code",
      "execution_count": 156,
      "metadata": {
        "id": "6ODr8Su8PwWA"
      },
      "outputs": [],
      "source": [
        "df['residual'] =  df['weight'] - df['current_prediction']"
      ]
    },
    {
      "cell_type": "code",
      "execution_count": 157,
      "metadata": {
        "colab": {
          "base_uri": "https://localhost:8080/",
          "height": 238
        },
        "id": "HSic4tTkP_is",
        "outputId": "2ccc2f3f-5d42-4812-9f87-f28622bd81c2"
      },
      "outputs": [
        {
          "data": {
            "text/html": [
              "<div>\n",
              "<style scoped>\n",
              "    .dataframe tbody tr th:only-of-type {\n",
              "        vertical-align: middle;\n",
              "    }\n",
              "\n",
              "    .dataframe tbody tr th {\n",
              "        vertical-align: top;\n",
              "    }\n",
              "\n",
              "    .dataframe thead th {\n",
              "        text-align: right;\n",
              "    }\n",
              "</style>\n",
              "<table border=\"1\" class=\"dataframe\">\n",
              "  <thead>\n",
              "    <tr style=\"text-align: right;\">\n",
              "      <th></th>\n",
              "      <th>height</th>\n",
              "      <th>favorite_color</th>\n",
              "      <th>gender</th>\n",
              "      <th>weight</th>\n",
              "      <th>initial_prediction</th>\n",
              "      <th>residual</th>\n",
              "      <th>tree_1</th>\n",
              "      <th>current_prediction</th>\n",
              "    </tr>\n",
              "  </thead>\n",
              "  <tbody>\n",
              "    <tr>\n",
              "      <th>0</th>\n",
              "      <td>1.6</td>\n",
              "      <td>Blue</td>\n",
              "      <td>Male</td>\n",
              "      <td>88</td>\n",
              "      <td>71.166667</td>\n",
              "      <td>15.15</td>\n",
              "      <td>1.683333</td>\n",
              "      <td>72.85</td>\n",
              "    </tr>\n",
              "    <tr>\n",
              "      <th>1</th>\n",
              "      <td>1.6</td>\n",
              "      <td>Green</td>\n",
              "      <td>Female</td>\n",
              "      <td>76</td>\n",
              "      <td>71.166667</td>\n",
              "      <td>4.50</td>\n",
              "      <td>0.333333</td>\n",
              "      <td>71.50</td>\n",
              "    </tr>\n",
              "    <tr>\n",
              "      <th>2</th>\n",
              "      <td>1.5</td>\n",
              "      <td>Blue</td>\n",
              "      <td>Female</td>\n",
              "      <td>56</td>\n",
              "      <td>71.166667</td>\n",
              "      <td>-13.70</td>\n",
              "      <td>-1.466667</td>\n",
              "      <td>69.70</td>\n",
              "    </tr>\n",
              "    <tr>\n",
              "      <th>3</th>\n",
              "      <td>1.8</td>\n",
              "      <td>Red</td>\n",
              "      <td>Male</td>\n",
              "      <td>73</td>\n",
              "      <td>71.166667</td>\n",
              "      <td>1.50</td>\n",
              "      <td>0.333333</td>\n",
              "      <td>71.50</td>\n",
              "    </tr>\n",
              "    <tr>\n",
              "      <th>4</th>\n",
              "      <td>1.5</td>\n",
              "      <td>Green</td>\n",
              "      <td>Male</td>\n",
              "      <td>77</td>\n",
              "      <td>71.166667</td>\n",
              "      <td>5.25</td>\n",
              "      <td>0.583333</td>\n",
              "      <td>71.75</td>\n",
              "    </tr>\n",
              "    <tr>\n",
              "      <th>5</th>\n",
              "      <td>1.4</td>\n",
              "      <td>Blue</td>\n",
              "      <td>Male</td>\n",
              "      <td>57</td>\n",
              "      <td>71.166667</td>\n",
              "      <td>-12.70</td>\n",
              "      <td>-1.466667</td>\n",
              "      <td>69.70</td>\n",
              "    </tr>\n",
              "  </tbody>\n",
              "</table>\n",
              "</div>"
            ],
            "text/plain": [
              "   height favorite_color  gender  weight  initial_prediction  residual  \\\n",
              "0     1.6           Blue    Male      88           71.166667     15.15   \n",
              "1     1.6          Green  Female      76           71.166667      4.50   \n",
              "2     1.5           Blue  Female      56           71.166667    -13.70   \n",
              "3     1.8            Red    Male      73           71.166667      1.50   \n",
              "4     1.5          Green    Male      77           71.166667      5.25   \n",
              "5     1.4           Blue    Male      57           71.166667    -12.70   \n",
              "\n",
              "     tree_1  current_prediction  \n",
              "0  1.683333               72.85  \n",
              "1  0.333333               71.50  \n",
              "2 -1.466667               69.70  \n",
              "3  0.333333               71.50  \n",
              "4  0.583333               71.75  \n",
              "5 -1.466667               69.70  "
            ]
          },
          "execution_count": 157,
          "metadata": {},
          "output_type": "execute_result"
        }
      ],
      "source": [
        "df"
      ]
    },
    {
      "cell_type": "code",
      "execution_count": 158,
      "metadata": {
        "colab": {
          "base_uri": "https://localhost:8080/",
          "height": 238
        },
        "id": "tPFgOarCQAJA",
        "outputId": "054981d0-8182-4140-9264-49d6e780edf3"
      },
      "outputs": [
        {
          "data": {
            "text/html": [
              "<div>\n",
              "<style scoped>\n",
              "    .dataframe tbody tr th:only-of-type {\n",
              "        vertical-align: middle;\n",
              "    }\n",
              "\n",
              "    .dataframe tbody tr th {\n",
              "        vertical-align: top;\n",
              "    }\n",
              "\n",
              "    .dataframe thead th {\n",
              "        text-align: right;\n",
              "    }\n",
              "</style>\n",
              "<table border=\"1\" class=\"dataframe\">\n",
              "  <thead>\n",
              "    <tr style=\"text-align: right;\">\n",
              "      <th></th>\n",
              "      <th>height</th>\n",
              "      <th>favorite_color_Blue</th>\n",
              "      <th>favorite_color_Green</th>\n",
              "      <th>favorite_color_Red</th>\n",
              "      <th>gender_Female</th>\n",
              "      <th>gender_Male</th>\n",
              "    </tr>\n",
              "  </thead>\n",
              "  <tbody>\n",
              "    <tr>\n",
              "      <th>0</th>\n",
              "      <td>1.6</td>\n",
              "      <td>True</td>\n",
              "      <td>False</td>\n",
              "      <td>False</td>\n",
              "      <td>False</td>\n",
              "      <td>True</td>\n",
              "    </tr>\n",
              "    <tr>\n",
              "      <th>1</th>\n",
              "      <td>1.6</td>\n",
              "      <td>False</td>\n",
              "      <td>True</td>\n",
              "      <td>False</td>\n",
              "      <td>True</td>\n",
              "      <td>False</td>\n",
              "    </tr>\n",
              "    <tr>\n",
              "      <th>2</th>\n",
              "      <td>1.5</td>\n",
              "      <td>True</td>\n",
              "      <td>False</td>\n",
              "      <td>False</td>\n",
              "      <td>True</td>\n",
              "      <td>False</td>\n",
              "    </tr>\n",
              "    <tr>\n",
              "      <th>3</th>\n",
              "      <td>1.8</td>\n",
              "      <td>False</td>\n",
              "      <td>False</td>\n",
              "      <td>True</td>\n",
              "      <td>False</td>\n",
              "      <td>True</td>\n",
              "    </tr>\n",
              "    <tr>\n",
              "      <th>4</th>\n",
              "      <td>1.5</td>\n",
              "      <td>False</td>\n",
              "      <td>True</td>\n",
              "      <td>False</td>\n",
              "      <td>False</td>\n",
              "      <td>True</td>\n",
              "    </tr>\n",
              "    <tr>\n",
              "      <th>5</th>\n",
              "      <td>1.4</td>\n",
              "      <td>True</td>\n",
              "      <td>False</td>\n",
              "      <td>False</td>\n",
              "      <td>False</td>\n",
              "      <td>True</td>\n",
              "    </tr>\n",
              "  </tbody>\n",
              "</table>\n",
              "</div>"
            ],
            "text/plain": [
              "   height  favorite_color_Blue  favorite_color_Green  favorite_color_Red  \\\n",
              "0     1.6                 True                 False               False   \n",
              "1     1.6                False                  True               False   \n",
              "2     1.5                 True                 False               False   \n",
              "3     1.8                False                 False                True   \n",
              "4     1.5                False                  True               False   \n",
              "5     1.4                 True                 False               False   \n",
              "\n",
              "   gender_Female  gender_Male  \n",
              "0          False         True  \n",
              "1           True        False  \n",
              "2           True        False  \n",
              "3          False         True  \n",
              "4          False         True  \n",
              "5          False         True  "
            ]
          },
          "execution_count": 158,
          "metadata": {},
          "output_type": "execute_result"
        }
      ],
      "source": [
        "X_train"
      ]
    },
    {
      "cell_type": "code",
      "execution_count": 159,
      "metadata": {
        "colab": {
          "base_uri": "https://localhost:8080/",
          "height": 238
        },
        "id": "QSmv8XyAFI74",
        "outputId": "08b3d5e4-d9d0-4b5d-ab6e-1c87c4b43c48"
      },
      "outputs": [
        {
          "data": {
            "text/html": [
              "<div>\n",
              "<style scoped>\n",
              "    .dataframe tbody tr th:only-of-type {\n",
              "        vertical-align: middle;\n",
              "    }\n",
              "\n",
              "    .dataframe tbody tr th {\n",
              "        vertical-align: top;\n",
              "    }\n",
              "\n",
              "    .dataframe thead th {\n",
              "        text-align: right;\n",
              "    }\n",
              "</style>\n",
              "<table border=\"1\" class=\"dataframe\">\n",
              "  <thead>\n",
              "    <tr style=\"text-align: right;\">\n",
              "      <th></th>\n",
              "      <th>residual</th>\n",
              "    </tr>\n",
              "  </thead>\n",
              "  <tbody>\n",
              "    <tr>\n",
              "      <th>0</th>\n",
              "      <td>15.15</td>\n",
              "    </tr>\n",
              "    <tr>\n",
              "      <th>1</th>\n",
              "      <td>4.50</td>\n",
              "    </tr>\n",
              "    <tr>\n",
              "      <th>2</th>\n",
              "      <td>-13.70</td>\n",
              "    </tr>\n",
              "    <tr>\n",
              "      <th>3</th>\n",
              "      <td>1.50</td>\n",
              "    </tr>\n",
              "    <tr>\n",
              "      <th>4</th>\n",
              "      <td>5.25</td>\n",
              "    </tr>\n",
              "    <tr>\n",
              "      <th>5</th>\n",
              "      <td>-12.70</td>\n",
              "    </tr>\n",
              "  </tbody>\n",
              "</table>\n",
              "</div>"
            ],
            "text/plain": [
              "   residual\n",
              "0     15.15\n",
              "1      4.50\n",
              "2    -13.70\n",
              "3      1.50\n",
              "4      5.25\n",
              "5    -12.70"
            ]
          },
          "execution_count": 159,
          "metadata": {},
          "output_type": "execute_result"
        }
      ],
      "source": [
        "y_train = df[['residual']]\n",
        "y_train"
      ]
    },
    {
      "cell_type": "code",
      "execution_count": 160,
      "metadata": {
        "colab": {
          "base_uri": "https://localhost:8080/",
          "height": 422
        },
        "id": "ugESq6-0FpJ7",
        "outputId": "a5388800-76c9-49f1-bdfe-676f654d01c2"
      },
      "outputs": [
        {
          "data": {
            "image/png": "[encoded data removed]",
            "text/plain": [
              "<Figure size 1000x500 with 1 Axes>"
            ]
          },
          "metadata": {},
          "output_type": "display_data"
        }
      ],
      "source": [
        "model.fit( X_train , y_train)\n",
        "# Visualize the decision tree\n",
        "plt.figure(figsize=(10,5))\n",
        "plot_tree(model, filled=True, feature_names=X_train.columns, rounded=True)\n",
        "plt.show()"
      ]
    },
    {
      "cell_type": "code",
      "execution_count": 161,
      "metadata": {
        "id": "Qo1WmUmuGoC4"
      },
      "outputs": [],
      "source": [
        "df['tree_2'] = model.predict(X_train)*0.1"
      ]
    },
    {
      "cell_type": "code",
      "execution_count": 162,
      "metadata": {
        "colab": {
          "base_uri": "https://localhost:8080/",
          "height": 238
        },
        "id": "oAC7GD22GzYY",
        "outputId": "424f1091-dcc3-4028-aae5-ea62a6869f6e"
      },
      "outputs": [
        {
          "data": {
            "text/html": [
              "<div>\n",
              "<style scoped>\n",
              "    .dataframe tbody tr th:only-of-type {\n",
              "        vertical-align: middle;\n",
              "    }\n",
              "\n",
              "    .dataframe tbody tr th {\n",
              "        vertical-align: top;\n",
              "    }\n",
              "\n",
              "    .dataframe thead th {\n",
              "        text-align: right;\n",
              "    }\n",
              "</style>\n",
              "<table border=\"1\" class=\"dataframe\">\n",
              "  <thead>\n",
              "    <tr style=\"text-align: right;\">\n",
              "      <th></th>\n",
              "      <th>height</th>\n",
              "      <th>favorite_color</th>\n",
              "      <th>gender</th>\n",
              "      <th>weight</th>\n",
              "      <th>initial_prediction</th>\n",
              "      <th>residual</th>\n",
              "      <th>tree_1</th>\n",
              "      <th>current_prediction</th>\n",
              "      <th>tree_2</th>\n",
              "    </tr>\n",
              "  </thead>\n",
              "  <tbody>\n",
              "    <tr>\n",
              "      <th>0</th>\n",
              "      <td>1.6</td>\n",
              "      <td>Blue</td>\n",
              "      <td>Male</td>\n",
              "      <td>88</td>\n",
              "      <td>71.166667</td>\n",
              "      <td>15.15</td>\n",
              "      <td>1.683333</td>\n",
              "      <td>72.85</td>\n",
              "      <td>1.515</td>\n",
              "    </tr>\n",
              "    <tr>\n",
              "      <th>1</th>\n",
              "      <td>1.6</td>\n",
              "      <td>Green</td>\n",
              "      <td>Female</td>\n",
              "      <td>76</td>\n",
              "      <td>71.166667</td>\n",
              "      <td>4.50</td>\n",
              "      <td>0.333333</td>\n",
              "      <td>71.50</td>\n",
              "      <td>0.300</td>\n",
              "    </tr>\n",
              "    <tr>\n",
              "      <th>2</th>\n",
              "      <td>1.5</td>\n",
              "      <td>Blue</td>\n",
              "      <td>Female</td>\n",
              "      <td>56</td>\n",
              "      <td>71.166667</td>\n",
              "      <td>-13.70</td>\n",
              "      <td>-1.466667</td>\n",
              "      <td>69.70</td>\n",
              "      <td>-1.320</td>\n",
              "    </tr>\n",
              "    <tr>\n",
              "      <th>3</th>\n",
              "      <td>1.8</td>\n",
              "      <td>Red</td>\n",
              "      <td>Male</td>\n",
              "      <td>73</td>\n",
              "      <td>71.166667</td>\n",
              "      <td>1.50</td>\n",
              "      <td>0.333333</td>\n",
              "      <td>71.50</td>\n",
              "      <td>0.300</td>\n",
              "    </tr>\n",
              "    <tr>\n",
              "      <th>4</th>\n",
              "      <td>1.5</td>\n",
              "      <td>Green</td>\n",
              "      <td>Male</td>\n",
              "      <td>77</td>\n",
              "      <td>71.166667</td>\n",
              "      <td>5.25</td>\n",
              "      <td>0.583333</td>\n",
              "      <td>71.75</td>\n",
              "      <td>0.525</td>\n",
              "    </tr>\n",
              "    <tr>\n",
              "      <th>5</th>\n",
              "      <td>1.4</td>\n",
              "      <td>Blue</td>\n",
              "      <td>Male</td>\n",
              "      <td>57</td>\n",
              "      <td>71.166667</td>\n",
              "      <td>-12.70</td>\n",
              "      <td>-1.466667</td>\n",
              "      <td>69.70</td>\n",
              "      <td>-1.320</td>\n",
              "    </tr>\n",
              "  </tbody>\n",
              "</table>\n",
              "</div>"
            ],
            "text/plain": [
              "   height favorite_color  gender  weight  initial_prediction  residual  \\\n",
              "0     1.6           Blue    Male      88           71.166667     15.15   \n",
              "1     1.6          Green  Female      76           71.166667      4.50   \n",
              "2     1.5           Blue  Female      56           71.166667    -13.70   \n",
              "3     1.8            Red    Male      73           71.166667      1.50   \n",
              "4     1.5          Green    Male      77           71.166667      5.25   \n",
              "5     1.4           Blue    Male      57           71.166667    -12.70   \n",
              "\n",
              "     tree_1  current_prediction  tree_2  \n",
              "0  1.683333               72.85   1.515  \n",
              "1  0.333333               71.50   0.300  \n",
              "2 -1.466667               69.70  -1.320  \n",
              "3  0.333333               71.50   0.300  \n",
              "4  0.583333               71.75   0.525  \n",
              "5 -1.466667               69.70  -1.320  "
            ]
          },
          "execution_count": 162,
          "metadata": {},
          "output_type": "execute_result"
        }
      ],
      "source": [
        "df"
      ]
    },
    {
      "cell_type": "code",
      "execution_count": 163,
      "metadata": {
        "id": "EgcWUxWdGz6Y"
      },
      "outputs": [],
      "source": [
        "df['current_prediction'] =  df['tree_1'] +  df['initial_prediction'] + df['tree_2']"
      ]
    },
    {
      "cell_type": "code",
      "execution_count": 164,
      "metadata": {
        "colab": {
          "base_uri": "https://localhost:8080/",
          "height": 238
        },
        "id": "WJ-byKeAHtKz",
        "outputId": "4bcf48a2-9e96-4302-ae14-a830aef2ccda"
      },
      "outputs": [
        {
          "data": {
            "text/html": [
              "<div>\n",
              "<style scoped>\n",
              "    .dataframe tbody tr th:only-of-type {\n",
              "        vertical-align: middle;\n",
              "    }\n",
              "\n",
              "    .dataframe tbody tr th {\n",
              "        vertical-align: top;\n",
              "    }\n",
              "\n",
              "    .dataframe thead th {\n",
              "        text-align: right;\n",
              "    }\n",
              "</style>\n",
              "<table border=\"1\" class=\"dataframe\">\n",
              "  <thead>\n",
              "    <tr style=\"text-align: right;\">\n",
              "      <th></th>\n",
              "      <th>height</th>\n",
              "      <th>favorite_color</th>\n",
              "      <th>gender</th>\n",
              "      <th>weight</th>\n",
              "      <th>initial_prediction</th>\n",
              "      <th>residual</th>\n",
              "      <th>tree_1</th>\n",
              "      <th>current_prediction</th>\n",
              "      <th>tree_2</th>\n",
              "    </tr>\n",
              "  </thead>\n",
              "  <tbody>\n",
              "    <tr>\n",
              "      <th>0</th>\n",
              "      <td>1.6</td>\n",
              "      <td>Blue</td>\n",
              "      <td>Male</td>\n",
              "      <td>88</td>\n",
              "      <td>71.166667</td>\n",
              "      <td>15.15</td>\n",
              "      <td>1.683333</td>\n",
              "      <td>74.365</td>\n",
              "      <td>1.515</td>\n",
              "    </tr>\n",
              "    <tr>\n",
              "      <th>1</th>\n",
              "      <td>1.6</td>\n",
              "      <td>Green</td>\n",
              "      <td>Female</td>\n",
              "      <td>76</td>\n",
              "      <td>71.166667</td>\n",
              "      <td>4.50</td>\n",
              "      <td>0.333333</td>\n",
              "      <td>71.800</td>\n",
              "      <td>0.300</td>\n",
              "    </tr>\n",
              "    <tr>\n",
              "      <th>2</th>\n",
              "      <td>1.5</td>\n",
              "      <td>Blue</td>\n",
              "      <td>Female</td>\n",
              "      <td>56</td>\n",
              "      <td>71.166667</td>\n",
              "      <td>-13.70</td>\n",
              "      <td>-1.466667</td>\n",
              "      <td>68.380</td>\n",
              "      <td>-1.320</td>\n",
              "    </tr>\n",
              "    <tr>\n",
              "      <th>3</th>\n",
              "      <td>1.8</td>\n",
              "      <td>Red</td>\n",
              "      <td>Male</td>\n",
              "      <td>73</td>\n",
              "      <td>71.166667</td>\n",
              "      <td>1.50</td>\n",
              "      <td>0.333333</td>\n",
              "      <td>71.800</td>\n",
              "      <td>0.300</td>\n",
              "    </tr>\n",
              "    <tr>\n",
              "      <th>4</th>\n",
              "      <td>1.5</td>\n",
              "      <td>Green</td>\n",
              "      <td>Male</td>\n",
              "      <td>77</td>\n",
              "      <td>71.166667</td>\n",
              "      <td>5.25</td>\n",
              "      <td>0.583333</td>\n",
              "      <td>72.275</td>\n",
              "      <td>0.525</td>\n",
              "    </tr>\n",
              "    <tr>\n",
              "      <th>5</th>\n",
              "      <td>1.4</td>\n",
              "      <td>Blue</td>\n",
              "      <td>Male</td>\n",
              "      <td>57</td>\n",
              "      <td>71.166667</td>\n",
              "      <td>-12.70</td>\n",
              "      <td>-1.466667</td>\n",
              "      <td>68.380</td>\n",
              "      <td>-1.320</td>\n",
              "    </tr>\n",
              "  </tbody>\n",
              "</table>\n",
              "</div>"
            ],
            "text/plain": [
              "   height favorite_color  gender  weight  initial_prediction  residual  \\\n",
              "0     1.6           Blue    Male      88           71.166667     15.15   \n",
              "1     1.6          Green  Female      76           71.166667      4.50   \n",
              "2     1.5           Blue  Female      56           71.166667    -13.70   \n",
              "3     1.8            Red    Male      73           71.166667      1.50   \n",
              "4     1.5          Green    Male      77           71.166667      5.25   \n",
              "5     1.4           Blue    Male      57           71.166667    -12.70   \n",
              "\n",
              "     tree_1  current_prediction  tree_2  \n",
              "0  1.683333              74.365   1.515  \n",
              "1  0.333333              71.800   0.300  \n",
              "2 -1.466667              68.380  -1.320  \n",
              "3  0.333333              71.800   0.300  \n",
              "4  0.583333              72.275   0.525  \n",
              "5 -1.466667              68.380  -1.320  "
            ]
          },
          "execution_count": 164,
          "metadata": {},
          "output_type": "execute_result"
        }
      ],
      "source": [
        "df"
      ]
    },
    {
      "cell_type": "code",
      "execution_count": 165,
      "metadata": {
        "id": "Asn1lNehHtyb"
      },
      "outputs": [],
      "source": [
        "def cal_stump3_and_update_prediction(df):\n",
        "  # here you will build a new tree and calculate the updated 'current_prediction'\n",
        "  # update values for columns 'residual', 'current_prediction' and 'tree_3' columns in the df\n",
        "  y_train = df['weight'] - df['current_prediction']\n",
        "  model.fit( X_train , y_train)\n",
        "  df[\"tree_3\"] = model.predict(X_train)*0.1\n",
        "  df[\"current_prediction\"] = df[\"current_prediction\"] + df[\"tree_3\"]\n",
        "  df['residual'] = df['weight'] - df['current_prediction']\n",
        "  return df\n",
        "\n",
        "df = cal_stump3_and_update_prediction(df)"
      ]
    },
    {
      "cell_type": "code",
      "execution_count": 166,
      "metadata": {
        "colab": {
          "base_uri": "https://localhost:8080/",
          "height": 238
        },
        "id": "H3s5Hu1_MV0Z",
        "outputId": "31f49daf-ac45-4316-9387-7ec2a50a9db9"
      },
      "outputs": [
        {
          "data": {
            "text/html": [
              "<div>\n",
              "<style scoped>\n",
              "    .dataframe tbody tr th:only-of-type {\n",
              "        vertical-align: middle;\n",
              "    }\n",
              "\n",
              "    .dataframe tbody tr th {\n",
              "        vertical-align: top;\n",
              "    }\n",
              "\n",
              "    .dataframe thead th {\n",
              "        text-align: right;\n",
              "    }\n",
              "</style>\n",
              "<table border=\"1\" class=\"dataframe\">\n",
              "  <thead>\n",
              "    <tr style=\"text-align: right;\">\n",
              "      <th></th>\n",
              "      <th>height</th>\n",
              "      <th>favorite_color</th>\n",
              "      <th>gender</th>\n",
              "      <th>weight</th>\n",
              "      <th>initial_prediction</th>\n",
              "      <th>residual</th>\n",
              "      <th>tree_1</th>\n",
              "      <th>current_prediction</th>\n",
              "      <th>tree_2</th>\n",
              "      <th>tree_3</th>\n",
              "    </tr>\n",
              "  </thead>\n",
              "  <tbody>\n",
              "    <tr>\n",
              "      <th>0</th>\n",
              "      <td>1.6</td>\n",
              "      <td>Blue</td>\n",
              "      <td>Male</td>\n",
              "      <td>88</td>\n",
              "      <td>71.166667</td>\n",
              "      <td>12.2715</td>\n",
              "      <td>1.683333</td>\n",
              "      <td>75.7285</td>\n",
              "      <td>1.515</td>\n",
              "      <td>1.3635</td>\n",
              "    </tr>\n",
              "    <tr>\n",
              "      <th>1</th>\n",
              "      <td>1.6</td>\n",
              "      <td>Green</td>\n",
              "      <td>Female</td>\n",
              "      <td>76</td>\n",
              "      <td>71.166667</td>\n",
              "      <td>3.9300</td>\n",
              "      <td>0.333333</td>\n",
              "      <td>72.0700</td>\n",
              "      <td>0.300</td>\n",
              "      <td>0.2700</td>\n",
              "    </tr>\n",
              "    <tr>\n",
              "      <th>2</th>\n",
              "      <td>1.5</td>\n",
              "      <td>Blue</td>\n",
              "      <td>Female</td>\n",
              "      <td>56</td>\n",
              "      <td>71.166667</td>\n",
              "      <td>-11.1920</td>\n",
              "      <td>-1.466667</td>\n",
              "      <td>67.1920</td>\n",
              "      <td>-1.320</td>\n",
              "      <td>-1.1880</td>\n",
              "    </tr>\n",
              "    <tr>\n",
              "      <th>3</th>\n",
              "      <td>1.8</td>\n",
              "      <td>Red</td>\n",
              "      <td>Male</td>\n",
              "      <td>73</td>\n",
              "      <td>71.166667</td>\n",
              "      <td>0.9300</td>\n",
              "      <td>0.333333</td>\n",
              "      <td>72.0700</td>\n",
              "      <td>0.300</td>\n",
              "      <td>0.2700</td>\n",
              "    </tr>\n",
              "    <tr>\n",
              "      <th>4</th>\n",
              "      <td>1.5</td>\n",
              "      <td>Green</td>\n",
              "      <td>Male</td>\n",
              "      <td>77</td>\n",
              "      <td>71.166667</td>\n",
              "      <td>4.2525</td>\n",
              "      <td>0.583333</td>\n",
              "      <td>72.7475</td>\n",
              "      <td>0.525</td>\n",
              "      <td>0.4725</td>\n",
              "    </tr>\n",
              "    <tr>\n",
              "      <th>5</th>\n",
              "      <td>1.4</td>\n",
              "      <td>Blue</td>\n",
              "      <td>Male</td>\n",
              "      <td>57</td>\n",
              "      <td>71.166667</td>\n",
              "      <td>-10.1920</td>\n",
              "      <td>-1.466667</td>\n",
              "      <td>67.1920</td>\n",
              "      <td>-1.320</td>\n",
              "      <td>-1.1880</td>\n",
              "    </tr>\n",
              "  </tbody>\n",
              "</table>\n",
              "</div>"
            ],
            "text/plain": [
              "   height favorite_color  gender  weight  initial_prediction  residual  \\\n",
              "0     1.6           Blue    Male      88           71.166667   12.2715   \n",
              "1     1.6          Green  Female      76           71.166667    3.9300   \n",
              "2     1.5           Blue  Female      56           71.166667  -11.1920   \n",
              "3     1.8            Red    Male      73           71.166667    0.9300   \n",
              "4     1.5          Green    Male      77           71.166667    4.2525   \n",
              "5     1.4           Blue    Male      57           71.166667  -10.1920   \n",
              "\n",
              "     tree_1  current_prediction  tree_2  tree_3  \n",
              "0  1.683333             75.7285   1.515  1.3635  \n",
              "1  0.333333             72.0700   0.300  0.2700  \n",
              "2 -1.466667             67.1920  -1.320 -1.1880  \n",
              "3  0.333333             72.0700   0.300  0.2700  \n",
              "4  0.583333             72.7475   0.525  0.4725  \n",
              "5 -1.466667             67.1920  -1.320 -1.1880  "
            ]
          },
          "execution_count": 166,
          "metadata": {},
          "output_type": "execute_result"
        }
      ],
      "source": [
        "df"
      ]
    },
    {
      "cell_type": "code",
      "execution_count": 167,
      "metadata": {
        "id": "hUSI-xa1MdFF"
      },
      "outputs": [],
      "source": [
        "assert np.allclose( df['tree_3'].to_numpy() , np.array([ 1.3635,  0.27  , -1.188 ,  0.27  ,  0.4725, -1.188 ]) )"
      ]
    },
    {
      "cell_type": "code",
      "execution_count": 168,
      "metadata": {
        "id": "TYUlJxbxSkAb"
      },
      "outputs": [],
      "source": [
        "assert np.allclose( df['current_prediction'].to_numpy(), np.array([75.7285, 72.07  , 67.192 , 72.07  , 72.7475, 67.192 ]) )"
      ]
    },
    {
      "cell_type": "code",
      "execution_count": 169,
      "metadata": {
        "id": "zccqJcPTSlcb"
      },
      "outputs": [],
      "source": [
        "assert np.allclose( df['residual'].to_numpy(), np.array([ 12.2715,   3.93  , -11.192 ,   0.93  ,   4.2525, -10.192 ]) )"
      ]
    },
    {
      "cell_type": "markdown",
      "metadata": {
        "id": "Xh4jfK8JyM3H"
      },
      "source": [
        "## Section 2: Build Gradient Boost Machine"
      ]
    },
    {
      "cell_type": "code",
      "execution_count": 170,
      "metadata": {
        "id": "6pnzibBlzXmX"
      },
      "outputs": [],
      "source": [
        "# Define data for each row as a list of lists\n",
        "data = [\n",
        "    [ 1.6, 'Blue', 'Male', 88 ],\n",
        "    [ 1.6, 'Green', 'Female', 76 ],\n",
        "    [ 1.5, 'Blue', 'Female', 56 ],\n",
        "    [ 1.8, 'Red', 'Male', 73 ],\n",
        "    [ 1.5, 'Green', 'Male', 77 ],\n",
        "    [ 1.4, 'Blue', 'Male', 57 ],\n",
        "]\n",
        "\n",
        "# Define the column names\n",
        "columns = ['height', 'favorite_color', 'gender', 'weight']\n",
        "\n",
        "# Create the DataFrame\n",
        "df = pd.DataFrame(data, columns=columns)"
      ]
    },
    {
      "cell_type": "code",
      "execution_count": 171,
      "metadata": {
        "colab": {
          "base_uri": "https://localhost:8080/",
          "height": 238
        },
        "id": "6LnPiagAUtZf",
        "outputId": "c99f2516-6924-4c3c-973c-6b389d10d265"
      },
      "outputs": [
        {
          "data": {
            "text/html": [
              "<div>\n",
              "<style scoped>\n",
              "    .dataframe tbody tr th:only-of-type {\n",
              "        vertical-align: middle;\n",
              "    }\n",
              "\n",
              "    .dataframe tbody tr th {\n",
              "        vertical-align: top;\n",
              "    }\n",
              "\n",
              "    .dataframe thead th {\n",
              "        text-align: right;\n",
              "    }\n",
              "</style>\n",
              "<table border=\"1\" class=\"dataframe\">\n",
              "  <thead>\n",
              "    <tr style=\"text-align: right;\">\n",
              "      <th></th>\n",
              "      <th>height</th>\n",
              "      <th>favorite_color</th>\n",
              "      <th>gender</th>\n",
              "      <th>weight</th>\n",
              "    </tr>\n",
              "  </thead>\n",
              "  <tbody>\n",
              "    <tr>\n",
              "      <th>0</th>\n",
              "      <td>1.6</td>\n",
              "      <td>Blue</td>\n",
              "      <td>Male</td>\n",
              "      <td>88</td>\n",
              "    </tr>\n",
              "    <tr>\n",
              "      <th>1</th>\n",
              "      <td>1.6</td>\n",
              "      <td>Green</td>\n",
              "      <td>Female</td>\n",
              "      <td>76</td>\n",
              "    </tr>\n",
              "    <tr>\n",
              "      <th>2</th>\n",
              "      <td>1.5</td>\n",
              "      <td>Blue</td>\n",
              "      <td>Female</td>\n",
              "      <td>56</td>\n",
              "    </tr>\n",
              "    <tr>\n",
              "      <th>3</th>\n",
              "      <td>1.8</td>\n",
              "      <td>Red</td>\n",
              "      <td>Male</td>\n",
              "      <td>73</td>\n",
              "    </tr>\n",
              "    <tr>\n",
              "      <th>4</th>\n",
              "      <td>1.5</td>\n",
              "      <td>Green</td>\n",
              "      <td>Male</td>\n",
              "      <td>77</td>\n",
              "    </tr>\n",
              "    <tr>\n",
              "      <th>5</th>\n",
              "      <td>1.4</td>\n",
              "      <td>Blue</td>\n",
              "      <td>Male</td>\n",
              "      <td>57</td>\n",
              "    </tr>\n",
              "  </tbody>\n",
              "</table>\n",
              "</div>"
            ],
            "text/plain": [
              "   height favorite_color  gender  weight\n",
              "0     1.6           Blue    Male      88\n",
              "1     1.6          Green  Female      76\n",
              "2     1.5           Blue  Female      56\n",
              "3     1.8            Red    Male      73\n",
              "4     1.5          Green    Male      77\n",
              "5     1.4           Blue    Male      57"
            ]
          },
          "execution_count": 171,
          "metadata": {},
          "output_type": "execute_result"
        }
      ],
      "source": [
        "df"
      ]
    },
    {
      "cell_type": "code",
      "execution_count": 172,
      "metadata": {
        "id": "pGYAV5xh2I6n"
      },
      "outputs": [],
      "source": [
        "df_encoded = pd.get_dummies(df, columns=['favorite_color', 'gender'])"
      ]
    },
    {
      "cell_type": "code",
      "execution_count": 173,
      "metadata": {
        "colab": {
          "base_uri": "https://localhost:8080/",
          "height": 238
        },
        "id": "jiknsdY22NNI",
        "outputId": "e49f1d37-e3aa-4a3f-e6ce-eddb779850a5"
      },
      "outputs": [
        {
          "data": {
            "text/html": [
              "<div>\n",
              "<style scoped>\n",
              "    .dataframe tbody tr th:only-of-type {\n",
              "        vertical-align: middle;\n",
              "    }\n",
              "\n",
              "    .dataframe tbody tr th {\n",
              "        vertical-align: top;\n",
              "    }\n",
              "\n",
              "    .dataframe thead th {\n",
              "        text-align: right;\n",
              "    }\n",
              "</style>\n",
              "<table border=\"1\" class=\"dataframe\">\n",
              "  <thead>\n",
              "    <tr style=\"text-align: right;\">\n",
              "      <th></th>\n",
              "      <th>height</th>\n",
              "      <th>weight</th>\n",
              "      <th>favorite_color_Blue</th>\n",
              "      <th>favorite_color_Green</th>\n",
              "      <th>favorite_color_Red</th>\n",
              "      <th>gender_Female</th>\n",
              "      <th>gender_Male</th>\n",
              "    </tr>\n",
              "  </thead>\n",
              "  <tbody>\n",
              "    <tr>\n",
              "      <th>0</th>\n",
              "      <td>1.6</td>\n",
              "      <td>88</td>\n",
              "      <td>True</td>\n",
              "      <td>False</td>\n",
              "      <td>False</td>\n",
              "      <td>False</td>\n",
              "      <td>True</td>\n",
              "    </tr>\n",
              "    <tr>\n",
              "      <th>1</th>\n",
              "      <td>1.6</td>\n",
              "      <td>76</td>\n",
              "      <td>False</td>\n",
              "      <td>True</td>\n",
              "      <td>False</td>\n",
              "      <td>True</td>\n",
              "      <td>False</td>\n",
              "    </tr>\n",
              "    <tr>\n",
              "      <th>2</th>\n",
              "      <td>1.5</td>\n",
              "      <td>56</td>\n",
              "      <td>True</td>\n",
              "      <td>False</td>\n",
              "      <td>False</td>\n",
              "      <td>True</td>\n",
              "      <td>False</td>\n",
              "    </tr>\n",
              "    <tr>\n",
              "      <th>3</th>\n",
              "      <td>1.8</td>\n",
              "      <td>73</td>\n",
              "      <td>False</td>\n",
              "      <td>False</td>\n",
              "      <td>True</td>\n",
              "      <td>False</td>\n",
              "      <td>True</td>\n",
              "    </tr>\n",
              "    <tr>\n",
              "      <th>4</th>\n",
              "      <td>1.5</td>\n",
              "      <td>77</td>\n",
              "      <td>False</td>\n",
              "      <td>True</td>\n",
              "      <td>False</td>\n",
              "      <td>False</td>\n",
              "      <td>True</td>\n",
              "    </tr>\n",
              "    <tr>\n",
              "      <th>5</th>\n",
              "      <td>1.4</td>\n",
              "      <td>57</td>\n",
              "      <td>True</td>\n",
              "      <td>False</td>\n",
              "      <td>False</td>\n",
              "      <td>False</td>\n",
              "      <td>True</td>\n",
              "    </tr>\n",
              "  </tbody>\n",
              "</table>\n",
              "</div>"
            ],
            "text/plain": [
              "   height  weight  favorite_color_Blue  favorite_color_Green  \\\n",
              "0     1.6      88                 True                 False   \n",
              "1     1.6      76                False                  True   \n",
              "2     1.5      56                 True                 False   \n",
              "3     1.8      73                False                 False   \n",
              "4     1.5      77                False                  True   \n",
              "5     1.4      57                 True                 False   \n",
              "\n",
              "   favorite_color_Red  gender_Female  gender_Male  \n",
              "0               False          False         True  \n",
              "1               False           True        False  \n",
              "2               False           True        False  \n",
              "3                True          False         True  \n",
              "4               False          False         True  \n",
              "5               False          False         True  "
            ]
          },
          "execution_count": 173,
          "metadata": {},
          "output_type": "execute_result"
        }
      ],
      "source": [
        "df_encoded"
      ]
    },
    {
      "cell_type": "code",
      "execution_count": 174,
      "metadata": {
        "id": "WJfOk7HaVrVW"
      },
      "outputs": [],
      "source": [
        "df_train = df_encoded.copy()"
      ]
    },
    {
      "cell_type": "code",
      "execution_count": 175,
      "metadata": {
        "colab": {
          "base_uri": "https://localhost:8080/",
          "height": 238
        },
        "id": "oRyaga3oQMg_",
        "outputId": "1fad9e3a-31ec-4d3f-ee3e-d25f09d2b9c3"
      },
      "outputs": [
        {
          "data": {
            "text/html": [
              "<div>\n",
              "<style scoped>\n",
              "    .dataframe tbody tr th:only-of-type {\n",
              "        vertical-align: middle;\n",
              "    }\n",
              "\n",
              "    .dataframe tbody tr th {\n",
              "        vertical-align: top;\n",
              "    }\n",
              "\n",
              "    .dataframe thead th {\n",
              "        text-align: right;\n",
              "    }\n",
              "</style>\n",
              "<table border=\"1\" class=\"dataframe\">\n",
              "  <thead>\n",
              "    <tr style=\"text-align: right;\">\n",
              "      <th></th>\n",
              "      <th>height</th>\n",
              "      <th>weight</th>\n",
              "      <th>favorite_color_Blue</th>\n",
              "      <th>favorite_color_Green</th>\n",
              "      <th>favorite_color_Red</th>\n",
              "      <th>gender_Female</th>\n",
              "      <th>gender_Male</th>\n",
              "    </tr>\n",
              "  </thead>\n",
              "  <tbody>\n",
              "    <tr>\n",
              "      <th>0</th>\n",
              "      <td>1.6</td>\n",
              "      <td>88</td>\n",
              "      <td>True</td>\n",
              "      <td>False</td>\n",
              "      <td>False</td>\n",
              "      <td>False</td>\n",
              "      <td>True</td>\n",
              "    </tr>\n",
              "    <tr>\n",
              "      <th>1</th>\n",
              "      <td>1.6</td>\n",
              "      <td>76</td>\n",
              "      <td>False</td>\n",
              "      <td>True</td>\n",
              "      <td>False</td>\n",
              "      <td>True</td>\n",
              "      <td>False</td>\n",
              "    </tr>\n",
              "    <tr>\n",
              "      <th>2</th>\n",
              "      <td>1.5</td>\n",
              "      <td>56</td>\n",
              "      <td>True</td>\n",
              "      <td>False</td>\n",
              "      <td>False</td>\n",
              "      <td>True</td>\n",
              "      <td>False</td>\n",
              "    </tr>\n",
              "    <tr>\n",
              "      <th>3</th>\n",
              "      <td>1.8</td>\n",
              "      <td>73</td>\n",
              "      <td>False</td>\n",
              "      <td>False</td>\n",
              "      <td>True</td>\n",
              "      <td>False</td>\n",
              "      <td>True</td>\n",
              "    </tr>\n",
              "    <tr>\n",
              "      <th>4</th>\n",
              "      <td>1.5</td>\n",
              "      <td>77</td>\n",
              "      <td>False</td>\n",
              "      <td>True</td>\n",
              "      <td>False</td>\n",
              "      <td>False</td>\n",
              "      <td>True</td>\n",
              "    </tr>\n",
              "    <tr>\n",
              "      <th>5</th>\n",
              "      <td>1.4</td>\n",
              "      <td>57</td>\n",
              "      <td>True</td>\n",
              "      <td>False</td>\n",
              "      <td>False</td>\n",
              "      <td>False</td>\n",
              "      <td>True</td>\n",
              "    </tr>\n",
              "  </tbody>\n",
              "</table>\n",
              "</div>"
            ],
            "text/plain": [
              "   height  weight  favorite_color_Blue  favorite_color_Green  \\\n",
              "0     1.6      88                 True                 False   \n",
              "1     1.6      76                False                  True   \n",
              "2     1.5      56                 True                 False   \n",
              "3     1.8      73                False                 False   \n",
              "4     1.5      77                False                  True   \n",
              "5     1.4      57                 True                 False   \n",
              "\n",
              "   favorite_color_Red  gender_Female  gender_Male  \n",
              "0               False          False         True  \n",
              "1               False           True        False  \n",
              "2               False           True        False  \n",
              "3                True          False         True  \n",
              "4               False          False         True  \n",
              "5               False          False         True  "
            ]
          },
          "execution_count": 175,
          "metadata": {},
          "output_type": "execute_result"
        }
      ],
      "source": [
        "df_train"
      ]
    },
    {
      "cell_type": "code",
      "execution_count": 176,
      "metadata": {
        "id": "w6GZqd450Vvt"
      },
      "outputs": [],
      "source": [
        "def initialize_prediction(df, target):\n",
        "  # calculate the initial prediction value and reutrn a df with columns 'current_prediction' and 'residual'\n",
        "  initial_prediction = df[target].mean()\n",
        "  df[\"current_prediction\"]= initial_prediction\n",
        "  df[\"residual\"] = 0\n",
        "  df[\"residual\"] = df[target] - initial_prediction\n",
        " \n",
        "  return df, initial_prediction"
      ]
    },
    {
      "cell_type": "code",
      "execution_count": 177,
      "metadata": {
        "id": "bZs53vnxO8bv"
      },
      "outputs": [],
      "source": [
        "df_train, initial_prediction = initialize_prediction(df_train, 'weight')"
      ]
    },
    {
      "cell_type": "code",
      "execution_count": 178,
      "metadata": {
        "colab": {
          "base_uri": "https://localhost:8080/",
          "height": 238
        },
        "id": "1cbSBf9k8Dg7",
        "outputId": "4f3448aa-aed0-439c-8699-fc15dca0a306"
      },
      "outputs": [
        {
          "data": {
            "text/html": [
              "<div>\n",
              "<style scoped>\n",
              "    .dataframe tbody tr th:only-of-type {\n",
              "        vertical-align: middle;\n",
              "    }\n",
              "\n",
              "    .dataframe tbody tr th {\n",
              "        vertical-align: top;\n",
              "    }\n",
              "\n",
              "    .dataframe thead th {\n",
              "        text-align: right;\n",
              "    }\n",
              "</style>\n",
              "<table border=\"1\" class=\"dataframe\">\n",
              "  <thead>\n",
              "    <tr style=\"text-align: right;\">\n",
              "      <th></th>\n",
              "      <th>height</th>\n",
              "      <th>weight</th>\n",
              "      <th>favorite_color_Blue</th>\n",
              "      <th>favorite_color_Green</th>\n",
              "      <th>favorite_color_Red</th>\n",
              "      <th>gender_Female</th>\n",
              "      <th>gender_Male</th>\n",
              "      <th>current_prediction</th>\n",
              "      <th>residual</th>\n",
              "    </tr>\n",
              "  </thead>\n",
              "  <tbody>\n",
              "    <tr>\n",
              "      <th>0</th>\n",
              "      <td>1.6</td>\n",
              "      <td>88</td>\n",
              "      <td>True</td>\n",
              "      <td>False</td>\n",
              "      <td>False</td>\n",
              "      <td>False</td>\n",
              "      <td>True</td>\n",
              "      <td>71.166667</td>\n",
              "      <td>16.833333</td>\n",
              "    </tr>\n",
              "    <tr>\n",
              "      <th>1</th>\n",
              "      <td>1.6</td>\n",
              "      <td>76</td>\n",
              "      <td>False</td>\n",
              "      <td>True</td>\n",
              "      <td>False</td>\n",
              "      <td>True</td>\n",
              "      <td>False</td>\n",
              "      <td>71.166667</td>\n",
              "      <td>4.833333</td>\n",
              "    </tr>\n",
              "    <tr>\n",
              "      <th>2</th>\n",
              "      <td>1.5</td>\n",
              "      <td>56</td>\n",
              "      <td>True</td>\n",
              "      <td>False</td>\n",
              "      <td>False</td>\n",
              "      <td>True</td>\n",
              "      <td>False</td>\n",
              "      <td>71.166667</td>\n",
              "      <td>-15.166667</td>\n",
              "    </tr>\n",
              "    <tr>\n",
              "      <th>3</th>\n",
              "      <td>1.8</td>\n",
              "      <td>73</td>\n",
              "      <td>False</td>\n",
              "      <td>False</td>\n",
              "      <td>True</td>\n",
              "      <td>False</td>\n",
              "      <td>True</td>\n",
              "      <td>71.166667</td>\n",
              "      <td>1.833333</td>\n",
              "    </tr>\n",
              "    <tr>\n",
              "      <th>4</th>\n",
              "      <td>1.5</td>\n",
              "      <td>77</td>\n",
              "      <td>False</td>\n",
              "      <td>True</td>\n",
              "      <td>False</td>\n",
              "      <td>False</td>\n",
              "      <td>True</td>\n",
              "      <td>71.166667</td>\n",
              "      <td>5.833333</td>\n",
              "    </tr>\n",
              "    <tr>\n",
              "      <th>5</th>\n",
              "      <td>1.4</td>\n",
              "      <td>57</td>\n",
              "      <td>True</td>\n",
              "      <td>False</td>\n",
              "      <td>False</td>\n",
              "      <td>False</td>\n",
              "      <td>True</td>\n",
              "      <td>71.166667</td>\n",
              "      <td>-14.166667</td>\n",
              "    </tr>\n",
              "  </tbody>\n",
              "</table>\n",
              "</div>"
            ],
            "text/plain": [
              "   height  weight  favorite_color_Blue  favorite_color_Green  \\\n",
              "0     1.6      88                 True                 False   \n",
              "1     1.6      76                False                  True   \n",
              "2     1.5      56                 True                 False   \n",
              "3     1.8      73                False                 False   \n",
              "4     1.5      77                False                  True   \n",
              "5     1.4      57                 True                 False   \n",
              "\n",
              "   favorite_color_Red  gender_Female  gender_Male  current_prediction  \\\n",
              "0               False          False         True           71.166667   \n",
              "1               False           True        False           71.166667   \n",
              "2               False           True        False           71.166667   \n",
              "3                True          False         True           71.166667   \n",
              "4               False          False         True           71.166667   \n",
              "5               False          False         True           71.166667   \n",
              "\n",
              "    residual  \n",
              "0  16.833333  \n",
              "1   4.833333  \n",
              "2 -15.166667  \n",
              "3   1.833333  \n",
              "4   5.833333  \n",
              "5 -14.166667  "
            ]
          },
          "execution_count": 178,
          "metadata": {},
          "output_type": "execute_result"
        }
      ],
      "source": [
        "df_train"
      ]
    },
    {
      "cell_type": "code",
      "execution_count": 179,
      "metadata": {
        "id": "2EZMnkdsfqMI"
      },
      "outputs": [],
      "source": [
        "assert np.allclose( initial_prediction, 71.16666666666667)"
      ]
    },
    {
      "cell_type": "code",
      "execution_count": 180,
      "metadata": {
        "id": "qnz2RXqgPclv"
      },
      "outputs": [],
      "source": [
        "def next_tree_prediction(df, target, max_leaf_nodes, learning_rate ):\n",
        "  # Train the next decsion tree. Update the 'current_prediction' and the 'residual'.\n",
        "  initial_prediction = df[target].mean()\n",
        "  \n",
        "  df_train = df.copy() \n",
        "  \n",
        "  df_train = df_train.drop([target],axis=1)  \n",
        "  tree = DecisionTreeRegressor(max_leaf_nodes=max_leaf_nodes)\n",
        "  df_train = df_train.drop(['current_prediction','residual'],axis=1)\n",
        "  \n",
        "  dy_train = df[['residual']]\n",
        "  tree.fit( df_train , dy_train)\n",
        "  \n",
        "  df['current_prediction'] =  (tree.predict(df_train)*learning_rate) + df['current_prediction']\n",
        "  df[\"residual\"] = df[target] - df['current_prediction']\n",
        "  \n",
        "  return df, tree"
      ]
    },
    {
      "cell_type": "code",
      "execution_count": 181,
      "metadata": {},
      "outputs": [],
      "source": [
        "df_train, tree = next_tree_prediction( df_train, 'weight', 4, 0.1 )"
      ]
    },
    {
      "cell_type": "code",
      "execution_count": 182,
      "metadata": {},
      "outputs": [
        {
          "data": {
            "text/html": [
              "<div>\n",
              "<style scoped>\n",
              "    .dataframe tbody tr th:only-of-type {\n",
              "        vertical-align: middle;\n",
              "    }\n",
              "\n",
              "    .dataframe tbody tr th {\n",
              "        vertical-align: top;\n",
              "    }\n",
              "\n",
              "    .dataframe thead th {\n",
              "        text-align: right;\n",
              "    }\n",
              "</style>\n",
              "<table border=\"1\" class=\"dataframe\">\n",
              "  <thead>\n",
              "    <tr style=\"text-align: right;\">\n",
              "      <th></th>\n",
              "      <th>height</th>\n",
              "      <th>weight</th>\n",
              "      <th>favorite_color_Blue</th>\n",
              "      <th>favorite_color_Green</th>\n",
              "      <th>favorite_color_Red</th>\n",
              "      <th>gender_Female</th>\n",
              "      <th>gender_Male</th>\n",
              "      <th>current_prediction</th>\n",
              "      <th>residual</th>\n",
              "    </tr>\n",
              "  </thead>\n",
              "  <tbody>\n",
              "    <tr>\n",
              "      <th>0</th>\n",
              "      <td>1.6</td>\n",
              "      <td>88</td>\n",
              "      <td>True</td>\n",
              "      <td>False</td>\n",
              "      <td>False</td>\n",
              "      <td>False</td>\n",
              "      <td>True</td>\n",
              "      <td>72.85</td>\n",
              "      <td>15.15</td>\n",
              "    </tr>\n",
              "    <tr>\n",
              "      <th>1</th>\n",
              "      <td>1.6</td>\n",
              "      <td>76</td>\n",
              "      <td>False</td>\n",
              "      <td>True</td>\n",
              "      <td>False</td>\n",
              "      <td>True</td>\n",
              "      <td>False</td>\n",
              "      <td>71.50</td>\n",
              "      <td>4.50</td>\n",
              "    </tr>\n",
              "    <tr>\n",
              "      <th>2</th>\n",
              "      <td>1.5</td>\n",
              "      <td>56</td>\n",
              "      <td>True</td>\n",
              "      <td>False</td>\n",
              "      <td>False</td>\n",
              "      <td>True</td>\n",
              "      <td>False</td>\n",
              "      <td>69.70</td>\n",
              "      <td>-13.70</td>\n",
              "    </tr>\n",
              "    <tr>\n",
              "      <th>3</th>\n",
              "      <td>1.8</td>\n",
              "      <td>73</td>\n",
              "      <td>False</td>\n",
              "      <td>False</td>\n",
              "      <td>True</td>\n",
              "      <td>False</td>\n",
              "      <td>True</td>\n",
              "      <td>71.50</td>\n",
              "      <td>1.50</td>\n",
              "    </tr>\n",
              "    <tr>\n",
              "      <th>4</th>\n",
              "      <td>1.5</td>\n",
              "      <td>77</td>\n",
              "      <td>False</td>\n",
              "      <td>True</td>\n",
              "      <td>False</td>\n",
              "      <td>False</td>\n",
              "      <td>True</td>\n",
              "      <td>71.75</td>\n",
              "      <td>5.25</td>\n",
              "    </tr>\n",
              "    <tr>\n",
              "      <th>5</th>\n",
              "      <td>1.4</td>\n",
              "      <td>57</td>\n",
              "      <td>True</td>\n",
              "      <td>False</td>\n",
              "      <td>False</td>\n",
              "      <td>False</td>\n",
              "      <td>True</td>\n",
              "      <td>69.70</td>\n",
              "      <td>-12.70</td>\n",
              "    </tr>\n",
              "  </tbody>\n",
              "</table>\n",
              "</div>"
            ],
            "text/plain": [
              "   height  weight  favorite_color_Blue  favorite_color_Green  \\\n",
              "0     1.6      88                 True                 False   \n",
              "1     1.6      76                False                  True   \n",
              "2     1.5      56                 True                 False   \n",
              "3     1.8      73                False                 False   \n",
              "4     1.5      77                False                  True   \n",
              "5     1.4      57                 True                 False   \n",
              "\n",
              "   favorite_color_Red  gender_Female  gender_Male  current_prediction  \\\n",
              "0               False          False         True               72.85   \n",
              "1               False           True        False               71.50   \n",
              "2               False           True        False               69.70   \n",
              "3                True          False         True               71.50   \n",
              "4               False          False         True               71.75   \n",
              "5               False          False         True               69.70   \n",
              "\n",
              "   residual  \n",
              "0     15.15  \n",
              "1      4.50  \n",
              "2    -13.70  \n",
              "3      1.50  \n",
              "4      5.25  \n",
              "5    -12.70  "
            ]
          },
          "execution_count": 182,
          "metadata": {},
          "output_type": "execute_result"
        }
      ],
      "source": [
        "df_train"
      ]
    },
    {
      "cell_type": "code",
      "execution_count": 183,
      "metadata": {
        "id": "koGcNh-BcyR6"
      },
      "outputs": [],
      "source": [
        "assert np.allclose( df_train['residual'].to_numpy(), np.array([ 15.15,   4.5 , -13.7 ,   1.5 ,   5.25, -12.7 ]) )"
      ]
    },
    {
      "cell_type": "code",
      "execution_count": 184,
      "metadata": {
        "id": "YTL45Ziic9n_"
      },
      "outputs": [],
      "source": [
        "assert np.allclose(  tree.predict(df_train.drop( [ 'weight', 'current_prediction', 'residual'], axis=1) ), np.array([ 16.83333333,   3.33333333, -14.66666667,   3.33333333, 5.83333333, -14.66666667]) )"
      ]
    },
    {
      "cell_type": "code",
      "execution_count": 185,
      "metadata": {
        "id": "9OBj6UD-0Ozi"
      },
      "outputs": [],
      "source": [
        "def run_gradient_boost_regression(df, target, string_categorical_columns, max_leaf_nodes, learning_rate, iterations ):\n",
        "  # put it all together to ryn the full gbm algorithm here and build many trees\n",
        "  # return the initial predicition and the lis of trees\n",
        "  if string_categorical_columns != None:\n",
        "    df_encoded = pd.get_dummies(df, columns=string_categorical_columns)\n",
        "    df_train = df_encoded.copy()\n",
        "  else:\n",
        "    df_train = df\n",
        "    \n",
        "  df_train, initial_prediction = initialize_prediction(df_train, target)\n",
        "  tree_list = []\n",
        "  \n",
        "  for i in range(iterations):\n",
        "    df_train, tree = next_tree_prediction(df_train, target, max_leaf_nodes, learning_rate)\n",
        "    tree_list.append(tree)\n",
        "    \n",
        "  \n",
        "  return df_train, initial_prediction, tree_list"
      ]
    },
    {
      "cell_type": "code",
      "execution_count": 186,
      "metadata": {
        "id": "8WN-jLngSH5r"
      },
      "outputs": [],
      "source": [
        "df_train = df.copy()\n",
        "df_train, initial_predictition, tree_list = run_gradient_boost_regression(df_train, 'weight', ['favorite_color', 'gender'] , 4 , 0.1, 10 )"
      ]
    },
    {
      "cell_type": "code",
      "execution_count": 187,
      "metadata": {
        "colab": {
          "base_uri": "https://localhost:8080/",
          "height": 238
        },
        "id": "Ev96mCDigDao",
        "outputId": "693a0538-9441-4f2d-ec38-5bf71d63e61e"
      },
      "outputs": [
        {
          "data": {
            "text/html": [
              "<div>\n",
              "<style scoped>\n",
              "    .dataframe tbody tr th:only-of-type {\n",
              "        vertical-align: middle;\n",
              "    }\n",
              "\n",
              "    .dataframe tbody tr th {\n",
              "        vertical-align: top;\n",
              "    }\n",
              "\n",
              "    .dataframe thead th {\n",
              "        text-align: right;\n",
              "    }\n",
              "</style>\n",
              "<table border=\"1\" class=\"dataframe\">\n",
              "  <thead>\n",
              "    <tr style=\"text-align: right;\">\n",
              "      <th></th>\n",
              "      <th>height</th>\n",
              "      <th>weight</th>\n",
              "      <th>favorite_color_Blue</th>\n",
              "      <th>favorite_color_Green</th>\n",
              "      <th>favorite_color_Red</th>\n",
              "      <th>gender_Female</th>\n",
              "      <th>gender_Male</th>\n",
              "      <th>current_prediction</th>\n",
              "      <th>residual</th>\n",
              "    </tr>\n",
              "  </thead>\n",
              "  <tbody>\n",
              "    <tr>\n",
              "      <th>0</th>\n",
              "      <td>1.6</td>\n",
              "      <td>88</td>\n",
              "      <td>True</td>\n",
              "      <td>False</td>\n",
              "      <td>False</td>\n",
              "      <td>False</td>\n",
              "      <td>True</td>\n",
              "      <td>82.130580</td>\n",
              "      <td>5.869420</td>\n",
              "    </tr>\n",
              "    <tr>\n",
              "      <th>1</th>\n",
              "      <td>1.6</td>\n",
              "      <td>76</td>\n",
              "      <td>False</td>\n",
              "      <td>True</td>\n",
              "      <td>False</td>\n",
              "      <td>True</td>\n",
              "      <td>False</td>\n",
              "      <td>73.337739</td>\n",
              "      <td>2.662261</td>\n",
              "    </tr>\n",
              "    <tr>\n",
              "      <th>2</th>\n",
              "      <td>1.5</td>\n",
              "      <td>56</td>\n",
              "      <td>True</td>\n",
              "      <td>False</td>\n",
              "      <td>False</td>\n",
              "      <td>True</td>\n",
              "      <td>False</td>\n",
              "      <td>61.613950</td>\n",
              "      <td>-5.613950</td>\n",
              "    </tr>\n",
              "    <tr>\n",
              "      <th>3</th>\n",
              "      <td>1.8</td>\n",
              "      <td>73</td>\n",
              "      <td>False</td>\n",
              "      <td>False</td>\n",
              "      <td>True</td>\n",
              "      <td>False</td>\n",
              "      <td>True</td>\n",
              "      <td>73.337739</td>\n",
              "      <td>-0.337739</td>\n",
              "    </tr>\n",
              "    <tr>\n",
              "      <th>4</th>\n",
              "      <td>1.5</td>\n",
              "      <td>77</td>\n",
              "      <td>False</td>\n",
              "      <td>True</td>\n",
              "      <td>False</td>\n",
              "      <td>False</td>\n",
              "      <td>True</td>\n",
              "      <td>74.966042</td>\n",
              "      <td>2.033958</td>\n",
              "    </tr>\n",
              "    <tr>\n",
              "      <th>5</th>\n",
              "      <td>1.4</td>\n",
              "      <td>57</td>\n",
              "      <td>True</td>\n",
              "      <td>False</td>\n",
              "      <td>False</td>\n",
              "      <td>False</td>\n",
              "      <td>True</td>\n",
              "      <td>61.613950</td>\n",
              "      <td>-4.613950</td>\n",
              "    </tr>\n",
              "  </tbody>\n",
              "</table>\n",
              "</div>"
            ],
            "text/plain": [
              "   height  weight  favorite_color_Blue  favorite_color_Green  \\\n",
              "0     1.6      88                 True                 False   \n",
              "1     1.6      76                False                  True   \n",
              "2     1.5      56                 True                 False   \n",
              "3     1.8      73                False                 False   \n",
              "4     1.5      77                False                  True   \n",
              "5     1.4      57                 True                 False   \n",
              "\n",
              "   favorite_color_Red  gender_Female  gender_Male  current_prediction  \\\n",
              "0               False          False         True           82.130580   \n",
              "1               False           True        False           73.337739   \n",
              "2               False           True        False           61.613950   \n",
              "3                True          False         True           73.337739   \n",
              "4               False          False         True           74.966042   \n",
              "5               False          False         True           61.613950   \n",
              "\n",
              "   residual  \n",
              "0  5.869420  \n",
              "1  2.662261  \n",
              "2 -5.613950  \n",
              "3 -0.337739  \n",
              "4  2.033958  \n",
              "5 -4.613950  "
            ]
          },
          "execution_count": 187,
          "metadata": {},
          "output_type": "execute_result"
        }
      ],
      "source": [
        "df_train"
      ]
    },
    {
      "cell_type": "code",
      "execution_count": 188,
      "metadata": {
        "colab": {
          "base_uri": "https://localhost:8080/"
        },
        "id": "5qmeR3rlf-JC",
        "outputId": "463b6c2f-db2f-48a9-e05b-484978b5e89d"
      },
      "outputs": [
        {
          "data": {
            "text/plain": [
              "71.16666666666667"
            ]
          },
          "execution_count": 188,
          "metadata": {},
          "output_type": "execute_result"
        }
      ],
      "source": [
        "initial_prediction"
      ]
    },
    {
      "cell_type": "code",
      "execution_count": 189,
      "metadata": {
        "colab": {
          "base_uri": "https://localhost:8080/"
        },
        "id": "VYVayQXzzYyN",
        "outputId": "d29707eb-84c5-4bab-f5b3-aa309609ddc8"
      },
      "outputs": [
        {
          "data": {
            "text/plain": [
              "[DecisionTreeRegressor(max_leaf_nodes=4),\n",
              " DecisionTreeRegressor(max_leaf_nodes=4),\n",
              " DecisionTreeRegressor(max_leaf_nodes=4),\n",
              " DecisionTreeRegressor(max_leaf_nodes=4),\n",
              " DecisionTreeRegressor(max_leaf_nodes=4),\n",
              " DecisionTreeRegressor(max_leaf_nodes=4),\n",
              " DecisionTreeRegressor(max_leaf_nodes=4),\n",
              " DecisionTreeRegressor(max_leaf_nodes=4),\n",
              " DecisionTreeRegressor(max_leaf_nodes=4),\n",
              " DecisionTreeRegressor(max_leaf_nodes=4)]"
            ]
          },
          "execution_count": 189,
          "metadata": {},
          "output_type": "execute_result"
        }
      ],
      "source": [
        "tree_list"
      ]
    },
    {
      "cell_type": "code",
      "execution_count": 190,
      "metadata": {
        "id": "XSahuL6XySS4"
      },
      "outputs": [],
      "source": [
        "def run_gradient_boost_regression_predicition_with_x_train(df, target, initial_prediction, tree_list, learning_rate ):\n",
        "  # Noww use the decision tree stumps to run inference prediction using X_train as input\n",
        "  prediction = initial_prediction\n",
        "  x_train = df.drop(['current_prediction','residual',target],axis=1)\n",
        "  \n",
        "  for tree in tree_list:\n",
        "    new = tree.predict(x_train) * learning_rate\n",
        "    prediction += new\n",
        "     \n",
        "  return prediction"
      ]
    },
    {
      "cell_type": "code",
      "execution_count": 191,
      "metadata": {
        "id": "ztOvUM3qHmKA"
      },
      "outputs": [],
      "source": [
        "def run_gradient_boost_regression_predicition_with_x_test(df, target, initial_prediction, tree_list, learning_rate ):\n",
        "  # Noww use the decision tree stumps to run inference prediction using X_test as input.\n",
        "  prediction = initial_prediction\n",
        "  x_test = df.drop([target],axis=1)\n",
        "  \n",
        "  for tree in tree_list:\n",
        "    new = tree.predict(x_test)*learning_rate\n",
        "    prediction += new\n",
        "    \n",
        "  return prediction"
      ]
    },
    {
      "cell_type": "code",
      "execution_count": 192,
      "metadata": {
        "colab": {
          "base_uri": "https://localhost:8080/",
          "height": 238
        },
        "id": "rWKrP0qEA1Ch",
        "outputId": "8c134d70-f6c2-404d-b765-2174c0613bd2"
      },
      "outputs": [
        {
          "data": {
            "text/html": [
              "<div>\n",
              "<style scoped>\n",
              "    .dataframe tbody tr th:only-of-type {\n",
              "        vertical-align: middle;\n",
              "    }\n",
              "\n",
              "    .dataframe tbody tr th {\n",
              "        vertical-align: top;\n",
              "    }\n",
              "\n",
              "    .dataframe thead th {\n",
              "        text-align: right;\n",
              "    }\n",
              "</style>\n",
              "<table border=\"1\" class=\"dataframe\">\n",
              "  <thead>\n",
              "    <tr style=\"text-align: right;\">\n",
              "      <th></th>\n",
              "      <th>height</th>\n",
              "      <th>weight</th>\n",
              "      <th>favorite_color_Blue</th>\n",
              "      <th>favorite_color_Green</th>\n",
              "      <th>favorite_color_Red</th>\n",
              "      <th>gender_Female</th>\n",
              "      <th>gender_Male</th>\n",
              "      <th>current_prediction</th>\n",
              "      <th>residual</th>\n",
              "    </tr>\n",
              "  </thead>\n",
              "  <tbody>\n",
              "    <tr>\n",
              "      <th>0</th>\n",
              "      <td>1.6</td>\n",
              "      <td>88</td>\n",
              "      <td>True</td>\n",
              "      <td>False</td>\n",
              "      <td>False</td>\n",
              "      <td>False</td>\n",
              "      <td>True</td>\n",
              "      <td>82.130580</td>\n",
              "      <td>5.869420</td>\n",
              "    </tr>\n",
              "    <tr>\n",
              "      <th>1</th>\n",
              "      <td>1.6</td>\n",
              "      <td>76</td>\n",
              "      <td>False</td>\n",
              "      <td>True</td>\n",
              "      <td>False</td>\n",
              "      <td>True</td>\n",
              "      <td>False</td>\n",
              "      <td>73.337739</td>\n",
              "      <td>2.662261</td>\n",
              "    </tr>\n",
              "    <tr>\n",
              "      <th>2</th>\n",
              "      <td>1.5</td>\n",
              "      <td>56</td>\n",
              "      <td>True</td>\n",
              "      <td>False</td>\n",
              "      <td>False</td>\n",
              "      <td>True</td>\n",
              "      <td>False</td>\n",
              "      <td>61.613950</td>\n",
              "      <td>-5.613950</td>\n",
              "    </tr>\n",
              "    <tr>\n",
              "      <th>3</th>\n",
              "      <td>1.8</td>\n",
              "      <td>73</td>\n",
              "      <td>False</td>\n",
              "      <td>False</td>\n",
              "      <td>True</td>\n",
              "      <td>False</td>\n",
              "      <td>True</td>\n",
              "      <td>73.337739</td>\n",
              "      <td>-0.337739</td>\n",
              "    </tr>\n",
              "    <tr>\n",
              "      <th>4</th>\n",
              "      <td>1.5</td>\n",
              "      <td>77</td>\n",
              "      <td>False</td>\n",
              "      <td>True</td>\n",
              "      <td>False</td>\n",
              "      <td>False</td>\n",
              "      <td>True</td>\n",
              "      <td>74.966042</td>\n",
              "      <td>2.033958</td>\n",
              "    </tr>\n",
              "    <tr>\n",
              "      <th>5</th>\n",
              "      <td>1.4</td>\n",
              "      <td>57</td>\n",
              "      <td>True</td>\n",
              "      <td>False</td>\n",
              "      <td>False</td>\n",
              "      <td>False</td>\n",
              "      <td>True</td>\n",
              "      <td>61.613950</td>\n",
              "      <td>-4.613950</td>\n",
              "    </tr>\n",
              "  </tbody>\n",
              "</table>\n",
              "</div>"
            ],
            "text/plain": [
              "   height  weight  favorite_color_Blue  favorite_color_Green  \\\n",
              "0     1.6      88                 True                 False   \n",
              "1     1.6      76                False                  True   \n",
              "2     1.5      56                 True                 False   \n",
              "3     1.8      73                False                 False   \n",
              "4     1.5      77                False                  True   \n",
              "5     1.4      57                 True                 False   \n",
              "\n",
              "   favorite_color_Red  gender_Female  gender_Male  current_prediction  \\\n",
              "0               False          False         True           82.130580   \n",
              "1               False           True        False           73.337739   \n",
              "2               False           True        False           61.613950   \n",
              "3                True          False         True           73.337739   \n",
              "4               False          False         True           74.966042   \n",
              "5               False          False         True           61.613950   \n",
              "\n",
              "   residual  \n",
              "0  5.869420  \n",
              "1  2.662261  \n",
              "2 -5.613950  \n",
              "3 -0.337739  \n",
              "4  2.033958  \n",
              "5 -4.613950  "
            ]
          },
          "execution_count": 192,
          "metadata": {},
          "output_type": "execute_result"
        }
      ],
      "source": [
        "df_train"
      ]
    },
    {
      "cell_type": "code",
      "execution_count": 193,
      "metadata": {
        "colab": {
          "base_uri": "https://localhost:8080/"
        },
        "id": "UDPslrvQgRrc",
        "outputId": "ad206dff-62e9-4c25-fbdb-9e252ac9a384"
      },
      "outputs": [
        {
          "data": {
            "text/plain": [
              "array([82.13057959, 73.33773853, 61.61395045, 73.33773853, 74.96604243,\n",
              "       61.61395045])"
            ]
          },
          "execution_count": 193,
          "metadata": {},
          "output_type": "execute_result"
        }
      ],
      "source": [
        "run_gradient_boost_regression_predicition_with_x_train(df_train , 'weight', initial_prediction, tree_list, 0.1)"
      ]
    },
    {
      "cell_type": "code",
      "execution_count": 194,
      "metadata": {
        "id": "BoX4RjUMg_Pm"
      },
      "outputs": [],
      "source": [
        "assert np.allclose(run_gradient_boost_regression_predicition_with_x_train(df_train, 'weight', initial_prediction, tree_list, 0.1), np.array([82.13057959, 73.33773853, 61.61395045, 73.33773853, 74.96604243, 61.61395045]) )"
      ]
    },
    {
      "cell_type": "code",
      "execution_count": 195,
      "metadata": {
        "id": "wBYXxaf9iAma"
      },
      "outputs": [],
      "source": [
        "assert np.allclose( run_gradient_boost_regression_predicition_with_x_test(df_train.drop(['current_prediction', 'residual'], axis=1), 'weight', initial_prediction, tree_list, 0.1) , np.array([82.13057959, 73.33773853, 61.61395045, 73.33773853, 74.96604243, 61.61395045]) )"
      ]
    },
    {
      "cell_type": "code",
      "execution_count": null,
      "metadata": {
        "id": "w7LOZqkyhql4"
      },
      "outputs": [],
      "source": []
    },
    {
      "cell_type": "markdown",
      "metadata": {
        "id": "EkFsbYLurbtq"
      },
      "source": [
        "## Section 3 - Gradient Boost Machine Regression with Real Dataset"
      ]
    },
    {
      "cell_type": "code",
      "execution_count": 196,
      "metadata": {
        "id": "stLNb9LihqpC"
      },
      "outputs": [],
      "source": [
        "df = pd.read_csv('insurance.csv')"
      ]
    },
    {
      "cell_type": "code",
      "execution_count": 197,
      "metadata": {
        "colab": {
          "base_uri": "https://localhost:8080/",
          "height": 424
        },
        "id": "i50D7a_2h15d",
        "outputId": "daa1e1c2-9d48-4142-849d-4a7147aac767"
      },
      "outputs": [
        {
          "data": {
            "text/html": [
              "<div>\n",
              "<style scoped>\n",
              "    .dataframe tbody tr th:only-of-type {\n",
              "        vertical-align: middle;\n",
              "    }\n",
              "\n",
              "    .dataframe tbody tr th {\n",
              "        vertical-align: top;\n",
              "    }\n",
              "\n",
              "    .dataframe thead th {\n",
              "        text-align: right;\n",
              "    }\n",
              "</style>\n",
              "<table border=\"1\" class=\"dataframe\">\n",
              "  <thead>\n",
              "    <tr style=\"text-align: right;\">\n",
              "      <th></th>\n",
              "      <th>age</th>\n",
              "      <th>sex</th>\n",
              "      <th>bmi</th>\n",
              "      <th>children</th>\n",
              "      <th>smoker</th>\n",
              "      <th>region</th>\n",
              "      <th>charges</th>\n",
              "    </tr>\n",
              "  </thead>\n",
              "  <tbody>\n",
              "    <tr>\n",
              "      <th>0</th>\n",
              "      <td>19</td>\n",
              "      <td>female</td>\n",
              "      <td>27.900</td>\n",
              "      <td>0</td>\n",
              "      <td>yes</td>\n",
              "      <td>southwest</td>\n",
              "      <td>16884.92400</td>\n",
              "    </tr>\n",
              "    <tr>\n",
              "      <th>1</th>\n",
              "      <td>18</td>\n",
              "      <td>male</td>\n",
              "      <td>33.770</td>\n",
              "      <td>1</td>\n",
              "      <td>no</td>\n",
              "      <td>southeast</td>\n",
              "      <td>1725.55230</td>\n",
              "    </tr>\n",
              "    <tr>\n",
              "      <th>2</th>\n",
              "      <td>28</td>\n",
              "      <td>male</td>\n",
              "      <td>33.000</td>\n",
              "      <td>3</td>\n",
              "      <td>no</td>\n",
              "      <td>southeast</td>\n",
              "      <td>4449.46200</td>\n",
              "    </tr>\n",
              "    <tr>\n",
              "      <th>3</th>\n",
              "      <td>33</td>\n",
              "      <td>male</td>\n",
              "      <td>22.705</td>\n",
              "      <td>0</td>\n",
              "      <td>no</td>\n",
              "      <td>northwest</td>\n",
              "      <td>21984.47061</td>\n",
              "    </tr>\n",
              "    <tr>\n",
              "      <th>4</th>\n",
              "      <td>32</td>\n",
              "      <td>male</td>\n",
              "      <td>28.880</td>\n",
              "      <td>0</td>\n",
              "      <td>no</td>\n",
              "      <td>northwest</td>\n",
              "      <td>3866.85520</td>\n",
              "    </tr>\n",
              "    <tr>\n",
              "      <th>...</th>\n",
              "      <td>...</td>\n",
              "      <td>...</td>\n",
              "      <td>...</td>\n",
              "      <td>...</td>\n",
              "      <td>...</td>\n",
              "      <td>...</td>\n",
              "      <td>...</td>\n",
              "    </tr>\n",
              "    <tr>\n",
              "      <th>1333</th>\n",
              "      <td>50</td>\n",
              "      <td>male</td>\n",
              "      <td>30.970</td>\n",
              "      <td>3</td>\n",
              "      <td>no</td>\n",
              "      <td>northwest</td>\n",
              "      <td>10600.54830</td>\n",
              "    </tr>\n",
              "    <tr>\n",
              "      <th>1334</th>\n",
              "      <td>18</td>\n",
              "      <td>female</td>\n",
              "      <td>31.920</td>\n",
              "      <td>0</td>\n",
              "      <td>no</td>\n",
              "      <td>northeast</td>\n",
              "      <td>2205.98080</td>\n",
              "    </tr>\n",
              "    <tr>\n",
              "      <th>1335</th>\n",
              "      <td>18</td>\n",
              "      <td>female</td>\n",
              "      <td>36.850</td>\n",
              "      <td>0</td>\n",
              "      <td>no</td>\n",
              "      <td>southeast</td>\n",
              "      <td>1629.83350</td>\n",
              "    </tr>\n",
              "    <tr>\n",
              "      <th>1336</th>\n",
              "      <td>21</td>\n",
              "      <td>female</td>\n",
              "      <td>25.800</td>\n",
              "      <td>0</td>\n",
              "      <td>no</td>\n",
              "      <td>southwest</td>\n",
              "      <td>2007.94500</td>\n",
              "    </tr>\n",
              "    <tr>\n",
              "      <th>1337</th>\n",
              "      <td>61</td>\n",
              "      <td>female</td>\n",
              "      <td>29.070</td>\n",
              "      <td>0</td>\n",
              "      <td>yes</td>\n",
              "      <td>northwest</td>\n",
              "      <td>29141.36030</td>\n",
              "    </tr>\n",
              "  </tbody>\n",
              "</table>\n",
              "<p>1338 rows × 7 columns</p>\n",
              "</div>"
            ],
            "text/plain": [
              "      age     sex     bmi  children smoker     region      charges\n",
              "0      19  female  27.900         0    yes  southwest  16884.92400\n",
              "1      18    male  33.770         1     no  southeast   1725.55230\n",
              "2      28    male  33.000         3     no  southeast   4449.46200\n",
              "3      33    male  22.705         0     no  northwest  21984.47061\n",
              "4      32    male  28.880         0     no  northwest   3866.85520\n",
              "...   ...     ...     ...       ...    ...        ...          ...\n",
              "1333   50    male  30.970         3     no  northwest  10600.54830\n",
              "1334   18  female  31.920         0     no  northeast   2205.98080\n",
              "1335   18  female  36.850         0     no  southeast   1629.83350\n",
              "1336   21  female  25.800         0     no  southwest   2007.94500\n",
              "1337   61  female  29.070         0    yes  northwest  29141.36030\n",
              "\n",
              "[1338 rows x 7 columns]"
            ]
          },
          "execution_count": 197,
          "metadata": {},
          "output_type": "execute_result"
        }
      ],
      "source": [
        "df"
      ]
    },
    {
      "cell_type": "code",
      "execution_count": 198,
      "metadata": {
        "id": "6510i6a6h2hH"
      },
      "outputs": [],
      "source": [
        "from sklearn.model_selection import train_test_split\n",
        "\n",
        "df_encoded = pd.get_dummies(df, columns=['sex', 'smoker', 'region'])\n",
        "\n",
        "df_train, df_test = train_test_split( df_encoded, test_size=0.3, random_state=42)"
      ]
    },
    {
      "cell_type": "code",
      "execution_count": 199,
      "metadata": {
        "id": "i-KbYEsJyvVG"
      },
      "outputs": [],
      "source": [
        "import matplotlib.pyplot as plt\n",
        "\n",
        "def plot_result(x, y1, y2, y1_label, y2_label):\n",
        "  # Plotting the lines\n",
        "  plt.plot(x, y1, label=y1_label, color='blue')  # First line\n",
        "  plt.plot(x, y2, label=y2_label, color='red')   # Second line\n",
        "\n",
        "  # Adding title\n",
        "  plt.title('Line Plot with Two Lines')\n",
        "\n",
        "  # Adding labels\n",
        "  plt.xlabel('x axis')\n",
        "  plt.ylabel('y axis')\n",
        "\n",
        "  # Showing legend\n",
        "  plt.legend()\n",
        "\n",
        "  # Display the plot\n",
        "  plt.show()"
      ]
    },
    {
      "cell_type": "code",
      "execution_count": 200,
      "metadata": {
        "colab": {
          "base_uri": "https://localhost:8080/",
          "height": 472
        },
        "id": "7Ybhi6PcyyKn",
        "outputId": "77b178e6-0fc8-4aeb-db70-3a9161b93586"
      },
      "outputs": [
        {
          "data": {
            "image/png": "[encoded data removed]",
            "text/plain": [
              "<Figure size 640x480 with 1 Axes>"
            ]
          },
          "metadata": {},
          "output_type": "display_data"
        }
      ],
      "source": [
        "plot_result( [1, 2, 3, 4, 5] , [1, 2, 3, 4, 5] , [5, 4, 3, 2, 1] , 'y1', 'y2')"
      ]
    },
    {
      "cell_type": "code",
      "execution_count": 201,
      "metadata": {
        "id": "pV8OZ4two97d"
      },
      "outputs": [],
      "source": [
        "def run_gradient_boost_regression_train_test(df_train, df_test, target, max_leaf_nodes, learning_rate, iterations ):\n",
        "  # Put it all together to run the train and test dataset togehter\n",
        "  # produce the plot shown below for the train and test mse\n",
        "  train_mse = []\n",
        "  test_mse = []\n",
        "  for i in range(iterations):\n",
        "    df_train, initial_prediction, tree_list = run_gradient_boost_regression(df_train, target, None , max_leaf_nodes, learning_rate, i)\n",
        "    \n",
        "\n",
        "    predict_train = run_gradient_boost_regression_predicition_with_x_train(df_train, target, initial_prediction, tree_list, learning_rate )\n",
        "    mse_for_train = ((df_train[target].to_numpy() - predict_train)**2).mean()\n",
        "    train_mse.append(mse_for_train)\n",
        "    \n",
        "    predict_test =run_gradient_boost_regression_predicition_with_x_test(df_test, target, initial_prediction, tree_list, learning_rate )    \n",
        "    \n",
        "    mse_for_test = ((df_test[target].to_numpy() - predict_test)**2).mean()\n",
        "    test_mse.append(mse_for_test)\n",
        "    \n",
        "  x = [i for i in range(iterations)]\n",
        "  plot_result(x, train_mse, test_mse, \"train_mse\",\"test_mse\")\n",
        "  \n",
        "  return df_train, initial_prediction, tree_list"
      ]
    },
    {
      "cell_type": "code",
      "execution_count": 202,
      "metadata": {
        "colab": {
          "base_uri": "https://localhost:8080/",
          "height": 472
        },
        "id": "INkxXE7xFHbC",
        "outputId": "05734d08-cc32-451a-8f8a-7851f90b8949"
      },
      "outputs": [
        {
          "data": {
            "image/png": "[encoded data removed]",
            "text/plain": [
              "<Figure size 640x480 with 1 Axes>"
            ]
          },
          "metadata": {},
          "output_type": "display_data"
        }
      ],
      "source": [
        "df_train, initial_predictition, tree_list = run_gradient_boost_regression_train_test(df_encoded, df_test, 'charges' , 8 , 0.1, 100 )"
      ]
    },
    {
      "cell_type": "code",
      "execution_count": 203,
      "metadata": {
        "id": "U-MaaVWQiSTP"
      },
      "outputs": [],
      "source": [
        "predictions = run_gradient_boost_regression_predicition_with_x_train(df_train, 'charges', initial_prediction, tree_list, 0.1)"
      ]
    },
    {
      "cell_type": "code",
      "execution_count": 204,
      "metadata": {
        "colab": {
          "base_uri": "https://localhost:8080/"
        },
        "id": "AIAwLxq4TMFb",
        "outputId": "db73a7b3-6f09-4778-fea5-331cd1494d32"
      },
      "outputs": [
        {
          "data": {
            "text/plain": [
              "186572901.46360046"
            ]
          },
          "execution_count": 204,
          "metadata": {},
          "output_type": "execute_result"
        }
      ],
      "source": [
        "train_mse = ( (df_train['charges'].to_numpy() - predictions)**2 ).mean()\n",
        "train_mse"
      ]
    },
    {
      "cell_type": "code",
      "execution_count": 205,
      "metadata": {
        "id": "TC9vOt3nQ-Jv"
      },
      "outputs": [],
      "source": [
        "assert train_mse < 2e8"
      ]
    },
    {
      "cell_type": "code",
      "execution_count": 206,
      "metadata": {
        "id": "hAUWqJezO1pb"
      },
      "outputs": [],
      "source": [
        "predictions = run_gradient_boost_regression_predicition_with_x_test(df_test, 'charges', initial_prediction, tree_list, 0.1)"
      ]
    },
    {
      "cell_type": "code",
      "execution_count": 207,
      "metadata": {
        "colab": {
          "base_uri": "https://localhost:8080/"
        },
        "id": "_WdBtL5TqSCS",
        "outputId": "3b32cfe5-be2c-47e0-b44c-7d69678cc421"
      },
      "outputs": [
        {
          "data": {
            "text/plain": [
              "180105224.82403052"
            ]
          },
          "execution_count": 207,
          "metadata": {},
          "output_type": "execute_result"
        }
      ],
      "source": [
        "test_mse = ( (df_test['charges'].to_numpy() - predictions)**2 ).mean()\n",
        "test_mse"
      ]
    },
    {
      "cell_type": "code",
      "execution_count": 208,
      "metadata": {
        "id": "CghJGdnnTAiZ"
      },
      "outputs": [],
      "source": [
        "assert test_mse < 2e8"
      ]
    },
    {
      "cell_type": "code",
      "execution_count": null,
      "metadata": {},
      "outputs": [],
      "source": []
    }
  ],
  "metadata": {
    "colab": {
      "provenance": []
    },
    "kernelspec": {
      "display_name": "Python 3",
      "name": "python3"
    },
    "language_info": {
      "codemirror_mode": {
        "name": "ipython",
        "version": 3
      },
      "file_extension": ".py",
      "mimetype": "text/x-python",
      "name": "python",
      "nbconvert_exporter": "python",
      "pygments_lexer": "ipython3",
      "version": "3.11.5"
    }
  },
  "nbformat": 4,
  "nbformat_minor": 0
}
